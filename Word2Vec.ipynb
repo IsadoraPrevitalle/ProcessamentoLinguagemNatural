{
  "nbformat": 4,
  "nbformat_minor": 0,
  "metadata": {
    "colab": {
      "provenance": [],
      "authorship_tag": "ABX9TyN6QJ0tNjonYvuMaLPJvctz",
      "include_colab_link": true
    },
    "kernelspec": {
      "name": "python3",
      "display_name": "Python 3"
    },
    "language_info": {
      "name": "python"
    }
  },
  "cells": [
    {
      "cell_type": "markdown",
      "metadata": {
        "id": "view-in-github",
        "colab_type": "text"
      },
      "source": [
        "<a href=\"https://colab.research.google.com/github/IsadoraPrevitalle/ProcessamentoLinguagemNatural/blob/main/Word2Vec.ipynb\" target=\"_parent\"><img src=\"https://colab.research.google.com/assets/colab-badge.svg\" alt=\"Open In Colab\"/></a>"
      ]
    },
    {
      "cell_type": "code",
      "execution_count": null,
      "metadata": {
        "id": "BTypPGvGip65"
      },
      "outputs": [],
      "source": [
        "from gensim.models import Word2Vec\n",
        "\n",
        "sentences = [\n",
        "    [\"O\", \"gato\", \"preto\", \"é\", \"bonito\", \"e\", \"esperto\"],\n",
        "    [\"O\", \"pássaro\", \"é\", \"colorido\", \"e\", \"voa\", \"alto\"],\n",
        "]\n",
        "\n",
        "model = Word2Vec(sentences, vector_size=2, window=2, min_count=1, sg=1)"
      ]
    },
    {
      "cell_type": "code",
      "source": [
        "vector_1 = model.wv['gato']\n",
        "vector_2 = model.wv['pássaro']\n",
        "\n",
        "print(vector_1)\n",
        "print(vector_2)\n",
        "\n",
        "similar_word_1 = model.wv.most_similar('gato')\n",
        "print('Palavras similares á gato: ', similar_word_1)\n",
        "\n",
        "similar_word_2 = model.wv.most_similar('pássaro')\n",
        "print('Palavras similares á pássaro: ', similar_word_2)"
      ],
      "metadata": {
        "id": "EjqO5ezQjrzM",
        "colab": {
          "base_uri": "https://localhost:8080/"
        },
        "outputId": "b1c69cc7-cef1-41e8-bd33-19a11cc3e990"
      },
      "execution_count": null,
      "outputs": [
        {
          "output_type": "stream",
          "name": "stdout",
          "text": [
            "[0.3655883 0.2535131]\n",
            "[-0.22686186  0.3277068 ]\n",
            "Palavras similares á gato:  [('bonito', 0.9626245498657227), ('alto', 0.9425399303436279), ('é', 0.9008388519287109), ('colorido', 0.6886524558067322), ('pássaro', 0.0007891180575825274), ('e', -0.5236485600471497), ('esperto', -0.9692285656929016), ('preto', -0.9702319502830505), ('O', -0.9989084601402283), ('voa', -0.9992998242378235)]\n",
            "Palavras similares á pássaro:  [('e', 0.8515208959579468), ('é', 0.4348643720149994), ('alto', 0.33483731746673584), ('esperto', 0.24539758265018463), ('gato', 0.00078909273725003), ('voa', -0.03820178285241127), ('O', -0.04749901592731476), ('preto', -0.24294303357601166), ('bonito', -0.2700798213481903), ('colorido', -0.7245479822158813)]\n"
          ]
        }
      ]
    }
  ]
}