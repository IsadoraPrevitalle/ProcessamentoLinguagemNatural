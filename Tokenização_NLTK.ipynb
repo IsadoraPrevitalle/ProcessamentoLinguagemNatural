{
  "nbformat": 4,
  "nbformat_minor": 0,
  "metadata": {
    "colab": {
      "provenance": [],
      "authorship_tag": "ABX9TyMVVJS5mirLmFdKkz7jDllF",
      "include_colab_link": true
    },
    "kernelspec": {
      "name": "python3",
      "display_name": "Python 3"
    },
    "language_info": {
      "name": "python"
    }
  },
  "cells": [
    {
      "cell_type": "markdown",
      "metadata": {
        "id": "view-in-github",
        "colab_type": "text"
      },
      "source": [
        "<a href=\"https://colab.research.google.com/github/IsadoraPrevitalle/ProcessamentoLinguagemNatural/blob/main/Tokeniza%C3%A7%C3%A3o_NLTK.ipynb\" target=\"_parent\"><img src=\"https://colab.research.google.com/assets/colab-badge.svg\" alt=\"Open In Colab\"/></a>"
      ]
    },
    {
      "cell_type": "code",
      "source": [
        "import nltk\n",
        "nltk.download('punkt')"
      ],
      "metadata": {
        "colab": {
          "base_uri": "https://localhost:8080/"
        },
        "id": "1tpDm020a4ud",
        "outputId": "097246a0-f516-4f18-930b-42fdc04901df"
      },
      "execution_count": null,
      "outputs": [
        {
          "output_type": "stream",
          "name": "stderr",
          "text": [
            "[nltk_data] Downloading package punkt to /root/nltk_data...\n",
            "[nltk_data]   Unzipping tokenizers/punkt.zip.\n"
          ]
        },
        {
          "output_type": "execute_result",
          "data": {
            "text/plain": [
              "True"
            ]
          },
          "metadata": {},
          "execution_count": 1
        }
      ]
    },
    {
      "cell_type": "code",
      "execution_count": null,
      "metadata": {
        "colab": {
          "base_uri": "https://localhost:8080/"
        },
        "id": "B4RULnh9ayLL",
        "outputId": "c9b62cac-2750-4e9d-a617-a848583db100"
      },
      "outputs": [
        {
          "output_type": "execute_result",
          "data": {
            "text/plain": [
              "['Amor',\n",
              " 'é',\n",
              " 'fogo',\n",
              " 'que',\n",
              " 'arde',\n",
              " 'sem',\n",
              " 'se',\n",
              " 'ver',\n",
              " ';',\n",
              " 'É',\n",
              " 'ferida',\n",
              " 'que',\n",
              " 'dói',\n",
              " ',',\n",
              " 'e',\n",
              " 'não',\n",
              " 'se',\n",
              " 'sente',\n",
              " ';',\n",
              " 'É',\n",
              " 'um',\n",
              " 'contentamento',\n",
              " 'descontente',\n",
              " ';',\n",
              " 'É',\n",
              " 'dor',\n",
              " 'que',\n",
              " 'desatina',\n",
              " 'sem',\n",
              " 'doer',\n",
              " '.',\n",
              " 'É',\n",
              " 'um',\n",
              " 'não',\n",
              " 'querer',\n",
              " 'mais',\n",
              " 'que',\n",
              " 'bem',\n",
              " 'querer',\n",
              " ';',\n",
              " 'É',\n",
              " 'um',\n",
              " 'andar',\n",
              " 'solitário',\n",
              " 'entre',\n",
              " 'a',\n",
              " 'gente',\n",
              " ';',\n",
              " 'É',\n",
              " 'nunca',\n",
              " 'contentar-se',\n",
              " 'de',\n",
              " 'contente',\n",
              " ';',\n",
              " 'É',\n",
              " 'um',\n",
              " 'cuidar',\n",
              " 'que',\n",
              " 'se',\n",
              " 'ganha',\n",
              " 'em',\n",
              " 'se',\n",
              " 'perder',\n",
              " '.',\n",
              " 'É',\n",
              " 'querer',\n",
              " 'estar',\n",
              " 'preso',\n",
              " 'por',\n",
              " 'vontade',\n",
              " ';',\n",
              " 'É',\n",
              " 'servir',\n",
              " 'a',\n",
              " 'quem',\n",
              " 'vence',\n",
              " ',',\n",
              " 'o',\n",
              " 'vencedor',\n",
              " ';',\n",
              " 'É',\n",
              " 'ter',\n",
              " 'com',\n",
              " 'quem',\n",
              " 'nos',\n",
              " 'mata',\n",
              " ',',\n",
              " 'lealdade',\n",
              " '.',\n",
              " 'Mas',\n",
              " 'como',\n",
              " 'causar',\n",
              " 'pode',\n",
              " 'seu',\n",
              " 'favor',\n",
              " 'Nos',\n",
              " 'corações',\n",
              " 'humanos',\n",
              " 'amizade',\n",
              " ',',\n",
              " 'Se',\n",
              " 'tão',\n",
              " 'contrário',\n",
              " 'a',\n",
              " 'si',\n",
              " 'é',\n",
              " 'o',\n",
              " 'mesmo',\n",
              " 'Amor',\n",
              " '?']"
            ]
          },
          "metadata": {},
          "execution_count": 7
        }
      ],
      "source": [
        "poema = '''Amor é fogo que arde sem se ver;\n",
        "É ferida que dói, e não se sente;\n",
        "É um contentamento descontente;\n",
        "É dor que desatina sem doer.\n",
        "\n",
        "É um não querer mais que bem querer;\n",
        "É um andar solitário entre a gente;\n",
        "É nunca contentar-se de contente;\n",
        "É um cuidar que se ganha em se perder.\n",
        "\n",
        "É querer estar preso por vontade;\n",
        "É servir a quem vence, o vencedor;\n",
        "É ter com quem nos mata, lealdade.\n",
        "\n",
        "Mas como causar pode seu favor\n",
        "Nos corações humanos amizade,\n",
        "Se tão contrário a si é o mesmo Amor?'''\n",
        "\n",
        "tokens = nltk.word_tokenize(poema)\n",
        "tokens"
      ]
    },
    {
      "cell_type": "code",
      "source": [
        "#Removendo as stopwords\n",
        "nltk.download('stopwords')\n",
        "stp = set(nltk.corpus.stopwords.words('portuguese'))\n",
        "tokens_sw = [palavra for palavra in tokens if palavra not in stp]\n",
        "tokens_sw"
      ],
      "metadata": {
        "colab": {
          "base_uri": "https://localhost:8080/"
        },
        "id": "PQapQNgtbdYi",
        "outputId": "74a4ef5d-c1e8-4dcb-aa60-8e283ba0bb06"
      },
      "execution_count": null,
      "outputs": [
        {
          "output_type": "stream",
          "name": "stderr",
          "text": [
            "[nltk_data] Downloading package stopwords to /root/nltk_data...\n",
            "[nltk_data]   Package stopwords is already up-to-date!\n"
          ]
        },
        {
          "output_type": "execute_result",
          "data": {
            "text/plain": [
              "['Amor',\n",
              " 'fogo',\n",
              " 'arde',\n",
              " 'ver',\n",
              " ';',\n",
              " 'É',\n",
              " 'ferida',\n",
              " 'dói',\n",
              " ',',\n",
              " 'sente',\n",
              " ';',\n",
              " 'É',\n",
              " 'contentamento',\n",
              " 'descontente',\n",
              " ';',\n",
              " 'É',\n",
              " 'dor',\n",
              " 'desatina',\n",
              " 'doer',\n",
              " '.',\n",
              " 'É',\n",
              " 'querer',\n",
              " 'bem',\n",
              " 'querer',\n",
              " ';',\n",
              " 'É',\n",
              " 'andar',\n",
              " 'solitário',\n",
              " 'gente',\n",
              " ';',\n",
              " 'É',\n",
              " 'nunca',\n",
              " 'contentar-se',\n",
              " 'contente',\n",
              " ';',\n",
              " 'É',\n",
              " 'cuidar',\n",
              " 'ganha',\n",
              " 'perder',\n",
              " '.',\n",
              " 'É',\n",
              " 'querer',\n",
              " 'preso',\n",
              " 'vontade',\n",
              " ';',\n",
              " 'É',\n",
              " 'servir',\n",
              " 'vence',\n",
              " ',',\n",
              " 'vencedor',\n",
              " ';',\n",
              " 'É',\n",
              " 'ter',\n",
              " 'mata',\n",
              " ',',\n",
              " 'lealdade',\n",
              " '.',\n",
              " 'Mas',\n",
              " 'causar',\n",
              " 'pode',\n",
              " 'favor',\n",
              " 'Nos',\n",
              " 'corações',\n",
              " 'humanos',\n",
              " 'amizade',\n",
              " ',',\n",
              " 'Se',\n",
              " 'tão',\n",
              " 'contrário',\n",
              " 'si',\n",
              " 'Amor',\n",
              " '?']"
            ]
          },
          "metadata": {},
          "execution_count": 8
        }
      ]
    },
    {
      "cell_type": "code",
      "source": [
        "#Rermovendo as Pontuações\n",
        "import string\n",
        "string.punctuation\n",
        "tokens_sw_p = [palavra for palavra in tokens_sw if palavra not in string.punctuation]\n",
        "tokens_sw_p"
      ],
      "metadata": {
        "colab": {
          "base_uri": "https://localhost:8080/"
        },
        "id": "4m_PHX_pbu_q",
        "outputId": "57eb86e9-f967-4746-b663-b5a9c3f180e1"
      },
      "execution_count": null,
      "outputs": [
        {
          "output_type": "execute_result",
          "data": {
            "text/plain": [
              "['Amor',\n",
              " 'fogo',\n",
              " 'arde',\n",
              " 'ver',\n",
              " 'É',\n",
              " 'ferida',\n",
              " 'dói',\n",
              " 'sente',\n",
              " 'É',\n",
              " 'contentamento',\n",
              " 'descontente',\n",
              " 'É',\n",
              " 'dor',\n",
              " 'desatina',\n",
              " 'doer',\n",
              " 'É',\n",
              " 'querer',\n",
              " 'bem',\n",
              " 'querer',\n",
              " 'É',\n",
              " 'andar',\n",
              " 'solitário',\n",
              " 'gente',\n",
              " 'É',\n",
              " 'nunca',\n",
              " 'contentar-se',\n",
              " 'contente',\n",
              " 'É',\n",
              " 'cuidar',\n",
              " 'ganha',\n",
              " 'perder',\n",
              " 'É',\n",
              " 'querer',\n",
              " 'preso',\n",
              " 'vontade',\n",
              " 'É',\n",
              " 'servir',\n",
              " 'vence',\n",
              " 'vencedor',\n",
              " 'É',\n",
              " 'ter',\n",
              " 'mata',\n",
              " 'lealdade',\n",
              " 'Mas',\n",
              " 'causar',\n",
              " 'pode',\n",
              " 'favor',\n",
              " 'Nos',\n",
              " 'corações',\n",
              " 'humanos',\n",
              " 'amizade',\n",
              " 'Se',\n",
              " 'tão',\n",
              " 'contrário',\n",
              " 'si',\n",
              " 'Amor']"
            ]
          },
          "metadata": {},
          "execution_count": 9
        }
      ]
    },
    {
      "cell_type": "code",
      "source": [
        "# Verificando os Stemmer\n",
        "nltk.download('rslp')\n",
        "stemmer = nltk.stem.RSLPStemmer()\n",
        "tokens_stemmed = [stemmer.stem(token) for token in tokens_sw_p]\n",
        "tokens_stemmed"
      ],
      "metadata": {
        "colab": {
          "base_uri": "https://localhost:8080/"
        },
        "id": "Ww3BUCK8b_5g",
        "outputId": "6b224711-5a3a-4b16-f106-07b71adc564f"
      },
      "execution_count": null,
      "outputs": [
        {
          "output_type": "stream",
          "name": "stderr",
          "text": [
            "[nltk_data] Downloading package rslp to /root/nltk_data...\n",
            "[nltk_data]   Package rslp is already up-to-date!\n"
          ]
        },
        {
          "output_type": "execute_result",
          "data": {
            "text/plain": [
              "['am',\n",
              " 'fog',\n",
              " 'ard',\n",
              " 'ver',\n",
              " 'é',\n",
              " 'fer',\n",
              " 'dói',\n",
              " 'sent',\n",
              " 'é',\n",
              " 'content',\n",
              " 'descont',\n",
              " 'é',\n",
              " 'dor',\n",
              " 'desatin',\n",
              " 'do',\n",
              " 'é',\n",
              " 'quer',\n",
              " 'bem',\n",
              " 'quer',\n",
              " 'é',\n",
              " 'and',\n",
              " 'solit',\n",
              " 'gent',\n",
              " 'é',\n",
              " 'nunc',\n",
              " 'contentar-s',\n",
              " 'cont',\n",
              " 'é',\n",
              " 'cuid',\n",
              " 'ganh',\n",
              " 'perd',\n",
              " 'é',\n",
              " 'quer',\n",
              " 'pres',\n",
              " 'vontad',\n",
              " 'é',\n",
              " 'serv',\n",
              " 'venc',\n",
              " 'venc',\n",
              " 'é',\n",
              " 'ter',\n",
              " 'mat',\n",
              " 'lealdad',\n",
              " 'mas',\n",
              " 'caus',\n",
              " 'pod',\n",
              " 'favor',\n",
              " 'no',\n",
              " 'coraçã',\n",
              " 'human',\n",
              " 'amizad',\n",
              " 'se',\n",
              " 'tão',\n",
              " 'contr',\n",
              " 'si',\n",
              " 'am']"
            ]
          },
          "metadata": {},
          "execution_count": 12
        }
      ]
    }
  ]
}