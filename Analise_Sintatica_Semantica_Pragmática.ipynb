{
  "nbformat": 4,
  "nbformat_minor": 0,
  "metadata": {
    "colab": {
      "provenance": [],
      "authorship_tag": "ABX9TyOURfZRg/1O7WKce73hjq3n",
      "include_colab_link": true
    },
    "kernelspec": {
      "name": "python3",
      "display_name": "Python 3"
    },
    "language_info": {
      "name": "python"
    }
  },
  "cells": [
    {
      "cell_type": "markdown",
      "metadata": {
        "id": "view-in-github",
        "colab_type": "text"
      },
      "source": [
        "<a href=\"https://colab.research.google.com/github/IsadoraPrevitalle/ProcessamentoLinguagemNatural/blob/main/Analise_Sintatica_Semantica_Pragm%C3%A1tica.ipynb\" target=\"_parent\"><img src=\"https://colab.research.google.com/assets/colab-badge.svg\" alt=\"Open In Colab\"/></a>"
      ]
    },
    {
      "cell_type": "code",
      "execution_count": null,
      "metadata": {
        "id": "J9-GnDOMXm4f"
      },
      "outputs": [],
      "source": [
        "import nltk"
      ]
    },
    {
      "cell_type": "code",
      "source": [
        "#Importando obras do autor Machado de Assis\n",
        "nltk.download('machado')\n",
        "from nltk.corpus import machado\n",
        "machado.fileids()"
      ],
      "metadata": {
        "id": "3pY7cCUMYSrB"
      },
      "execution_count": null,
      "outputs": []
    },
    {
      "cell_type": "code",
      "source": [
        "raw_test = machado.raw('romance/marm05.txt')\n",
        "raw_test[5600:5800]"
      ],
      "metadata": {
        "colab": {
          "base_uri": "https://localhost:8080/",
          "height": 53
        },
        "id": "DZ_If9o3YfKM",
        "outputId": "e7df6856-0b9c-4079-d979-e9fc3c08fcb4"
      },
      "execution_count": null,
      "outputs": [
        {
          "output_type": "execute_result",
          "data": {
            "text/plain": [
              "'essa anônima, ainda que não parenta, padeceu mais do que as parentas.\\nÉ verdade, padeceu mais. Não digo que se carpisse, não digo que se deixasse\\nrolar pelo chão, convulsa. Nem o meu óbito era coisa a'"
            ],
            "application/vnd.google.colaboratory.intrinsic+json": {
              "type": "string"
            }
          },
          "metadata": {},
          "execution_count": 5
        }
      ]
    },
    {
      "cell_type": "code",
      "source": [
        "texto1 = machado.words('romance/marm05.txt')\n",
        "texto1"
      ],
      "metadata": {
        "colab": {
          "base_uri": "https://localhost:8080/"
        },
        "id": "oJwPJ8L2ZZ-5",
        "outputId": "94aeae00-ffc7-4ef1-8d73-cbbace0ddccc"
      },
      "execution_count": null,
      "outputs": [
        {
          "output_type": "execute_result",
          "data": {
            "text/plain": [
              "['Romance', ',', 'Memórias', 'Póstumas', 'de', 'Brás', ...]"
            ]
          },
          "metadata": {},
          "execution_count": 6
        }
      ]
    },
    {
      "cell_type": "code",
      "source": [
        "len(texto1)"
      ],
      "metadata": {
        "colab": {
          "base_uri": "https://localhost:8080/"
        },
        "id": "gNjT8dPaaC2_",
        "outputId": "49c738a3-11e5-4c15-d70c-50893b6e9839"
      },
      "execution_count": null,
      "outputs": [
        {
          "output_type": "execute_result",
          "data": {
            "text/plain": [
              "77098"
            ]
          },
          "metadata": {},
          "execution_count": 7
        }
      ]
    },
    {
      "cell_type": "code",
      "source": [
        "from nltk.text import Text\n",
        "bras = Text(machado.words('romance/marm05.txt'))\n",
        "bras"
      ],
      "metadata": {
        "colab": {
          "base_uri": "https://localhost:8080/"
        },
        "id": "hl_Tri1JaF2w",
        "outputId": "06dc1685-ba81-434b-83e8-127d9faf8bc7"
      },
      "execution_count": null,
      "outputs": [
        {
          "output_type": "execute_result",
          "data": {
            "text/plain": [
              "<Text: Romance , Memórias Póstumas de Brás Cubas ,...>"
            ]
          },
          "metadata": {},
          "execution_count": 8
        }
      ]
    },
    {
      "cell_type": "code",
      "source": [
        "#Encontram frases que possuem a palavra olhos\n",
        "bras.concordance('olhos')"
      ],
      "metadata": {
        "colab": {
          "base_uri": "https://localhost:8080/"
        },
        "id": "lfZzqQNtaWYU",
        "outputId": "aadd0fc1-f004-46c6-d4a1-25daf8e8fe6b"
      },
      "execution_count": null,
      "outputs": [
        {
          "output_type": "stream",
          "name": "stdout",
          "text": [
            "Displaying 25 of 138 matches:\n",
            "De pé , à cabeceira da cama , com os olhos estúpidos , a boca entreaberta , a t\n",
            "orelhas . Pela minha parte fechei os olhos e deixei - me ir à ventura . Já agor\n",
            "xões de cérebro enfermo . Como ia de olhos fechados , não via o caminho ; lembr\n",
            "gelos eternos . Com efeito , abri os olhos e vi que o meu animal galopava numa \n",
            "me apareceu então , fitando - me uns olhos rutilantes como o sol . Tudo nessa f\n",
            " mim mesmo . Então , encarei - a com olhos súplices , e pedi mais alguns anos .\n",
            "o alto de uma montanha . Inclinei os olhos a uma das vertentes , e contemplei ,\n",
            "ilhão , e , não obstante , porque os olhos do delírio são outros , eu via tudo \n",
            "cifração da eternidade . E fixei os olhos , e continuei a ver as idades , que \n",
            " esperto , concordava meu pai ; e os olhos babavam - se - lhe de orgulho , e el\n",
            "te , e , repetido o mote , cravar os olhos na testa de uma senhora , depois tos\n",
            "avrear de estômagos satisfeitos ; os olhos moles e úmidos , ou vivos e cálidos \n",
            "m estacado de orquestra , e todos os olhos se voltavam para o glosador . Quem f\n",
            " . Eu via isso , porque arrastava os olhos da compota para ele e dele para a co\n",
            " eu segui - os . O Vilaça levava nos olhos umas chispas de vinho e de volúpia .\n",
            "es ... D . Eusébia levou o lenço aos olhos . O glosador vasculhava na memória a\n",
            " estupefação imobilizou a todos ; os olhos espraiavam - se a uma e outra banda \n",
            "a aula , dava um pulo , circulava os olhos chamejantes , dizia - nos os últimos\n",
            ", deixava - se estar quieto , com os olhos espetados no ar . Uma flor , o Quinc\n",
            "u forcejava por trazer a bigode . Os olhos , vivos e resolutos , eram a minha f\n",
            " pensativa , ou levantou para mim os olhos cobiçosos . De todas porém a que me \n",
            "pouco ou nada comi , porque só tinha olhos para a dona da casa . Que gentil que\n",
            "erramava - se - lhe a felicidade dos olhos , e eu sentia - me feliz com vê - la\n",
            " meu amor ! Eu agradeci - lho com os olhos úmidos . No dia seguinte levei - lhe\n",
            "proposta . Marcela ouviu - me com os olhos no ar , sem responder logo ; como in\n"
          ]
        }
      ]
    },
    {
      "cell_type": "code",
      "source": [
        "bras.similar('chegar')"
      ],
      "metadata": {
        "colab": {
          "base_uri": "https://localhost:8080/"
        },
        "id": "4bkXrHCJaqge",
        "outputId": "1558e700-5fd1-42d1-aaf0-96d40e271607"
      },
      "execution_count": null,
      "outputs": [
        {
          "output_type": "stream",
          "name": "stdout",
          "text": [
            "já leitor lhe dizer com menos contar deixei cheguei desferirem peito\n",
            "corpo fazer porém ver casamento soltar quebrei titubear sacrifício\n"
          ]
        }
      ]
    },
    {
      "cell_type": "code",
      "source": [
        "bras.similar(\"<chegar> (<.*>)\")"
      ],
      "metadata": {
        "colab": {
          "base_uri": "https://localhost:8080/"
        },
        "id": "zcOYrER7bpT-",
        "outputId": "d2f75e88-a8d2-4e07-a75a-89441d8657f6"
      },
      "execution_count": null,
      "outputs": [
        {
          "output_type": "stream",
          "name": "stdout",
          "text": [
            "No matches\n"
          ]
        }
      ]
    },
    {
      "cell_type": "code",
      "source": [
        "from nltk import bigrams\n",
        "list(bigrams(['meu', 'coração', 'está', 'bem', 'machucado']))"
      ],
      "metadata": {
        "colab": {
          "base_uri": "https://localhost:8080/"
        },
        "id": "EkUIQj6FcWzC",
        "outputId": "dc48a6d8-b165-466f-eac5-d57acbc0d66a"
      },
      "execution_count": null,
      "outputs": [
        {
          "output_type": "execute_result",
          "data": {
            "text/plain": [
              "[('meu', 'coração'),\n",
              " ('coração', 'está'),\n",
              " ('está', 'bem'),\n",
              " ('bem', 'machucado')]"
            ]
          },
          "metadata": {},
          "execution_count": 13
        }
      ]
    },
    {
      "cell_type": "code",
      "source": [
        "nltk.download('stopwords')\n",
        "from nltk.corpus import machado\n",
        "from nltk.text import Text\n",
        "bras = Text(machado.words('romance/marm05.txt'))\n",
        "bras.collocations()"
      ],
      "metadata": {
        "colab": {
          "base_uri": "https://localhost:8080/"
        },
        "id": "yyk0pdK6c0mc",
        "outputId": "e799fd2d-4956-41eb-9d80-97b723b9481d"
      },
      "execution_count": null,
      "outputs": [
        {
          "output_type": "stream",
          "name": "stderr",
          "text": [
            "[nltk_data] Downloading package stopwords to /root/nltk_data...\n",
            "[nltk_data]   Unzipping corpora/stopwords.zip.\n"
          ]
        },
        {
          "output_type": "stream",
          "name": "stdout",
          "text": [
            "Quincas Borba; Lobo Neves; alguma coisa; Brás Cubas; meu pai; que não;\n",
            "dia seguinte; não sei; Com efeito; que era; Meu pai; alguns instantes;\n",
            "outra vez; outra coisa; por exemplo; que ele; mim mesmo; coisa\n",
            "nenhuma; mesma coisa; não era\n"
          ]
        }
      ]
    },
    {
      "cell_type": "code",
      "source": [
        "nltk.download('mac_morpho')\n",
        "from nltk.corpus import mac_morpho\n",
        "sentencas_etiquetadas = mac_morpho.tagged_sents()"
      ],
      "metadata": {
        "colab": {
          "base_uri": "https://localhost:8080/"
        },
        "id": "SyUTZVAbeNFF",
        "outputId": "77bd9141-4219-4567-b0de-f8571f2ba1c8"
      },
      "execution_count": null,
      "outputs": [
        {
          "output_type": "stream",
          "name": "stderr",
          "text": [
            "[nltk_data] Downloading package mac_morpho to /root/nltk_data...\n",
            "[nltk_data]   Unzipping corpora/mac_morpho.zip.\n"
          ]
        }
      ]
    },
    {
      "cell_type": "code",
      "source": [
        "tags = [tag for (word, tag) in mac_morpho.tagged_words()]\n",
        "nltk.FreqDist(tags).max()"
      ],
      "metadata": {
        "colab": {
          "base_uri": "https://localhost:8080/",
          "height": 36
        },
        "id": "X_38g8hyfLcJ",
        "outputId": "777ef387-e803-4d4c-9b78-97e3c746521f"
      },
      "execution_count": null,
      "outputs": [
        {
          "output_type": "execute_result",
          "data": {
            "text/plain": [
              "'N'"
            ],
            "application/vnd.google.colaboratory.intrinsic+json": {
              "type": "string"
            }
          },
          "metadata": {},
          "execution_count": 20
        }
      ]
    },
    {
      "cell_type": "code",
      "source": [
        "nltk.download('punkt')\n",
        "texto = 'Amanhã será um lindo dia da mais louca alegria que se possa imaginar'\n",
        "tokens = nltk.word_tokenize(texto)\n",
        "etiqPadrao = nltk.tag.DefaultTagger('N')\n",
        "etiqPadrao.tag(tokens)"
      ],
      "metadata": {
        "colab": {
          "base_uri": "https://localhost:8080/"
        },
        "id": "S2Wfqy-0gPxH",
        "outputId": "df76b101-d65a-453f-8f33-b533af02f3af"
      },
      "execution_count": null,
      "outputs": [
        {
          "output_type": "stream",
          "name": "stderr",
          "text": [
            "[nltk_data] Downloading package punkt to /root/nltk_data...\n",
            "[nltk_data]   Unzipping tokenizers/punkt.zip.\n"
          ]
        },
        {
          "output_type": "execute_result",
          "data": {
            "text/plain": [
              "[('Amanã', 'N'),\n",
              " ('será', 'N'),\n",
              " ('um', 'N'),\n",
              " ('lindo', 'N'),\n",
              " ('dia', 'N'),\n",
              " ('da', 'N'),\n",
              " ('mais', 'N'),\n",
              " ('louca', 'N'),\n",
              " ('alegria', 'N'),\n",
              " ('que', 'N'),\n",
              " ('se', 'N'),\n",
              " ('possa', 'N'),\n",
              " ('imaginar', 'N')]"
            ]
          },
          "metadata": {},
          "execution_count": 22
        }
      ]
    },
    {
      "cell_type": "code",
      "source": [
        "tagged_send = nltk.corpus.mac_morpho.tagged_sents()\n",
        "unigram_tagger = nltk.tag.UnigramTagger(tagged_send)\n",
        "unigram_tagger.tag(tokens)"
      ],
      "metadata": {
        "colab": {
          "base_uri": "https://localhost:8080/"
        },
        "id": "fCFf9y3Cg1an",
        "outputId": "f3455f43-3810-47da-9b13-cf4b6fbc0343"
      },
      "execution_count": null,
      "outputs": [
        {
          "output_type": "execute_result",
          "data": {
            "text/plain": [
              "[('Amanã', None),\n",
              " ('será', 'VAUX'),\n",
              " ('um', 'ART'),\n",
              " ('lindo', 'ADJ'),\n",
              " ('dia', 'N'),\n",
              " ('da', 'NPROP'),\n",
              " ('mais', 'ADV'),\n",
              " ('louca', 'ADJ'),\n",
              " ('alegria', 'N'),\n",
              " ('que', 'PRO-KS-REL'),\n",
              " ('se', 'PROPESS'),\n",
              " ('possa', 'VAUX'),\n",
              " ('imaginar', 'V')]"
            ]
          },
          "metadata": {},
          "execution_count": 23
        }
      ]
    },
    {
      "cell_type": "code",
      "source": [
        "import nltk\n",
        "from nltk.corpus import mac_morpho\n",
        "prop = int(0.2 * len(mac_morpho.tagged_sents()))\n",
        "treino = mac_morpho.tagged_sents()[prop:]\n",
        "teste = mac_morpho.tagged_sents()[:prop]\n",
        "\n",
        "etq = nltk.DefaultTagger('N')\n",
        "print(\"Basic Tagger: \", etq.accuracy(teste))\n",
        "\n",
        "etq2 = nltk.UnigramTagger(treino, backoff=etq)\n",
        "print(\"Unigram Tagger: \", etq2.accuracy(teste))\n",
        "\n",
        "\n",
        "etq3 = nltk.BigramTagger(treino, backoff=etq2)\n",
        "print(\"Bigran Tagger: \", etq3.accuracy(teste))\n",
        "\n",
        "print(etq3.tag(tokens))"
      ],
      "metadata": {
        "colab": {
          "base_uri": "https://localhost:8080/"
        },
        "id": "I5VG7p3Mhj2u",
        "outputId": "b211ab25-be14-40f0-c31a-2f2f7233c5ae"
      },
      "execution_count": null,
      "outputs": [
        {
          "output_type": "stream",
          "name": "stdout",
          "text": [
            "Basic Tagger:  0.2060009290177828\n",
            "Basic Tagger:  0.8332632187836878\n",
            "Basic Tagger:  0.8496875520381423\n",
            "[('Amanã', 'N'), ('será', 'V'), ('um', 'ART'), ('lindo', 'ADJ'), ('dia', 'N'), ('da', 'N'), ('mais', 'ADV'), ('louca', 'ADJ'), ('alegria', 'N'), ('que', 'PRO-KS-REL'), ('se', 'PROPESS'), ('possa', 'VAUX'), ('imaginar', 'V')]\n"
          ]
        }
      ]
    }
  ]
}