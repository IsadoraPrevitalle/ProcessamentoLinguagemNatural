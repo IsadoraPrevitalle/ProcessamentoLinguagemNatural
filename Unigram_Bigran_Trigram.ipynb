{
  "nbformat": 4,
  "nbformat_minor": 0,
  "metadata": {
    "colab": {
      "provenance": [],
      "authorship_tag": "ABX9TyNYAbR9HbVR90yiO7mI/jsP",
      "include_colab_link": true
    },
    "kernelspec": {
      "name": "python3",
      "display_name": "Python 3"
    },
    "language_info": {
      "name": "python"
    }
  },
  "cells": [
    {
      "cell_type": "markdown",
      "metadata": {
        "id": "view-in-github",
        "colab_type": "text"
      },
      "source": [
        "<a href=\"https://colab.research.google.com/github/IsadoraPrevitalle/ProcessamentoLinguagemNatural/blob/main/Unigram_Bigran_Trigram.ipynb\" target=\"_parent\"><img src=\"https://colab.research.google.com/assets/colab-badge.svg\" alt=\"Open In Colab\"/></a>"
      ]
    },
    {
      "cell_type": "markdown",
      "source": [
        "Atividade 4 - aula 07\n",
        "\n",
        "*   Mudar a taxa de aprendizado e teste\n",
        "\n"
      ],
      "metadata": {
        "id": "byhq7vE0rB5r"
      }
    },
    {
      "cell_type": "code",
      "source": [
        "import nltk\n",
        "nltk.download('mac_morpho')\n",
        "from nltk.corpus import mac_morpho"
      ],
      "metadata": {
        "colab": {
          "base_uri": "https://localhost:8080/"
        },
        "id": "211rNw7mznhO",
        "outputId": "b613d4c5-d9d2-4a43-a7b4-244605e1d842"
      },
      "execution_count": null,
      "outputs": [
        {
          "output_type": "stream",
          "name": "stderr",
          "text": [
            "[nltk_data] Downloading package mac_morpho to /root/nltk_data...\n",
            "[nltk_data]   Unzipping corpora/mac_morpho.zip.\n"
          ]
        }
      ]
    },
    {
      "cell_type": "code",
      "execution_count": null,
      "metadata": {
        "colab": {
          "base_uri": "https://localhost:8080/"
        },
        "id": "_HwUTPWhq-8b",
        "outputId": "c17110ff-4884-47a6-dfce-476e8117acd6"
      },
      "outputs": [
        {
          "output_type": "stream",
          "name": "stderr",
          "text": [
            "[nltk_data] Downloading package punkt to /root/nltk_data...\n",
            "[nltk_data]   Unzipping tokenizers/punkt.zip.\n"
          ]
        },
        {
          "output_type": "stream",
          "name": "stdout",
          "text": [
            "Basic Tagger:  0.21131290774120845\n",
            "Unigram Tagger:  0.8238456912713693\n",
            "Bigran Tagger:  0.8430433222665231\n",
            "[('Amanhã', 'ADV'), ('será', 'V'), ('um', 'ART'), ('lindo', 'ADJ'), ('dia', 'N'), ('da', 'N'), ('mais', 'ADV'), ('louca', 'ADJ'), ('alegria', 'N'), ('que', 'PRO-KS-REL'), ('se', 'PROPESS'), ('possa', 'VAUX'), ('imaginar', 'V')]\n"
          ]
        }
      ],
      "source": [
        "#Testando com 35%\n",
        "nltk.download('punkt')\n",
        "texto = 'Amanhã será um lindo dia da mais louca alegria que se possa imaginar'\n",
        "tokens = nltk.word_tokenize(texto)\n",
        "etiqPadrao = nltk.tag.DefaultTagger('N')\n",
        "\n",
        "tagged_send = nltk.corpus.mac_morpho.tagged_sents()\n",
        "unigram_tagger = nltk.tag.UnigramTagger(tagged_send)\n",
        "\n",
        "import nltk\n",
        "from nltk.corpus import mac_morpho\n",
        "prop = int(0.35 * len(mac_morpho.tagged_sents()))\n",
        "treino = mac_morpho.tagged_sents()[prop:]\n",
        "teste = mac_morpho.tagged_sents()[:prop]\n",
        "\n",
        "etq = nltk.DefaultTagger('N')\n",
        "print(\"Basic Tagger: \", etq.accuracy(teste))\n",
        "\n",
        "etq2 = nltk.UnigramTagger(treino, backoff=etq)\n",
        "print(\"Unigram Tagger: \", etq2.accuracy(teste))\n",
        "\n",
        "etq3 = nltk.BigramTagger(treino, backoff=etq2)\n",
        "print(\"Bigran Tagger: \", etq3.accuracy(teste))\n",
        "\n",
        "print(etq3.tag(tokens))"
      ]
    },
    {
      "cell_type": "code",
      "source": [
        "#Testando com um texto diferente\n",
        "nltk.download('punkt')\n",
        "poema = '''O poeta é um fingidor.\n",
        "Finge tão completamente\n",
        "Que chega a fingir que é dor\n",
        "A dor que deveras sente.'''\n",
        "\n",
        "tokens = nltk.word_tokenize(poema)\n",
        "etiqPadrao = nltk.tag.DefaultTagger('N')\n",
        "\n",
        "tagged_send = nltk.corpus.mac_morpho.tagged_sents()\n",
        "unigram_tagger = nltk.tag.UnigramTagger(tagged_send)\n",
        "\n",
        "import nltk\n",
        "from nltk.corpus import mac_morpho\n",
        "prop = int(0.35 * len(mac_morpho.tagged_sents()))\n",
        "treino = mac_morpho.tagged_sents()[prop:]\n",
        "teste = mac_morpho.tagged_sents()[:prop]\n",
        "\n",
        "etq = nltk.DefaultTagger('N')\n",
        "print(\"Basic Tagger: \", etq.accuracy(teste))\n",
        "\n",
        "etq2 = nltk.UnigramTagger(treino, backoff=etq)\n",
        "print(\"Unigram Tagger: \", etq2.accuracy(teste))\n",
        "\n",
        "etq3 = nltk.BigramTagger(treino, backoff=etq2)\n",
        "print(\"Bigran Tagger: \", etq3.accuracy(teste))\n",
        "\n",
        "print(etq3.tag(tokens))"
      ],
      "metadata": {
        "colab": {
          "base_uri": "https://localhost:8080/"
        },
        "id": "3pTQIKWA0JQS",
        "outputId": "ca8964d5-9f51-49bd-ca48-64c634485428"
      },
      "execution_count": null,
      "outputs": [
        {
          "output_type": "stream",
          "name": "stderr",
          "text": [
            "[nltk_data] Downloading package punkt to /root/nltk_data...\n",
            "[nltk_data]   Package punkt is already up-to-date!\n"
          ]
        },
        {
          "output_type": "stream",
          "name": "stdout",
          "text": [
            "Basic Tagger:  0.21131290774120845\n",
            "Unigram Tagger:  0.8238456912713693\n",
            "Bigran Tagger:  0.8430433222665231\n",
            "[('O', 'ART'), ('poeta', 'N'), ('é', 'V'), ('um', 'ART'), ('fingidor', 'N'), ('.', '.'), ('Finge', 'V'), ('tão', 'ADV'), ('completamente', 'ADV'), ('Que', 'ADV'), ('chega', 'VAUX'), ('a', 'PREP'), ('fingir', 'V'), ('que', 'KS'), ('é', 'V'), ('dor', 'N'), ('A', 'ART'), ('dor', 'N'), ('que', 'PRO-KS-REL'), ('deveras', 'N'), ('sente', 'V'), ('.', '.')]\n"
          ]
        }
      ]
    },
    {
      "cell_type": "code",
      "source": [
        "#Retirando etiquetador padrão\n",
        "nltk.download('punkt')\n",
        "\n",
        "poema = '''O poeta é um fingidor.\n",
        "Finge tão completamente\n",
        "Que chega a fingir que é dor\n",
        "A dor que deveras sente.'''\n",
        "\n",
        "tokens = nltk.word_tokenize(poema)\n",
        "\n",
        "tagged_send = nltk.corpus.mac_morpho.tagged_sents()\n",
        "unigram_tagger = nltk.tag.UnigramTagger(tagged_send)\n",
        "\n",
        "import nltk\n",
        "from nltk.corpus import mac_morpho\n",
        "prop = int(0.35 * len(mac_morpho.tagged_sents()))\n",
        "treino = mac_morpho.tagged_sents()[prop:]\n",
        "teste = mac_morpho.tagged_sents()[:prop]\n",
        "\n",
        "etq2 = nltk.UnigramTagger(treino)\n",
        "print(\"Unigram Tagger: \", etq2.evaluate(teste))\n",
        "\n",
        "etq3 = nltk.BigramTagger(treino, backoff=etq2)\n",
        "print(\"Bigran Tagger: \", etq3.evaluate(teste))\n",
        "\n",
        "print(etq3.tag(tokens))\n"
      ],
      "metadata": {
        "id": "a63V6n9o3U7n",
        "colab": {
          "base_uri": "https://localhost:8080/"
        },
        "outputId": "08c7f19b-9c7d-4943-9cd6-db393958d8de"
      },
      "execution_count": null,
      "outputs": [
        {
          "output_type": "stream",
          "name": "stderr",
          "text": [
            "[nltk_data] Downloading package punkt to /root/nltk_data...\n",
            "[nltk_data]   Unzipping tokenizers/punkt.zip.\n",
            "<ipython-input-3-5a5bc9d58f1d>:21: DeprecationWarning: \n",
            "  Function evaluate() has been deprecated.  Use accuracy(gold)\n",
            "  instead.\n",
            "  print(\"Unigram Tagger: \", etq2.evaluate(teste))\n"
          ]
        },
        {
          "output_type": "stream",
          "name": "stdout",
          "text": [
            "Unigram Tagger:  0.8106716391512414\n"
          ]
        },
        {
          "output_type": "stream",
          "name": "stderr",
          "text": [
            "<ipython-input-3-5a5bc9d58f1d>:24: DeprecationWarning: \n",
            "  Function evaluate() has been deprecated.  Use accuracy(gold)\n",
            "  instead.\n",
            "  print(\"Bigran Tagger: \", etq3.evaluate(teste))\n"
          ]
        },
        {
          "output_type": "stream",
          "name": "stdout",
          "text": [
            "Bigran Tagger:  0.8309026777637969\n",
            "[('O', 'ART'), ('poeta', 'N'), ('é', 'V'), ('um', 'ART'), ('fingidor', None), ('.', '.'), ('Finge', 'V'), ('tão', 'ADV'), ('completamente', 'ADV'), ('Que', 'ADV'), ('chega', 'VAUX'), ('a', 'PREP'), ('fingir', 'V'), ('que', 'KS'), ('é', 'V'), ('dor', 'N'), ('A', 'ART'), ('dor', 'N'), ('que', 'PRO-KS-REL'), ('deveras', None), ('sente', 'V'), ('.', '.')]\n"
          ]
        }
      ]
    },
    {
      "cell_type": "code",
      "source": [
        "#Testando Trigram\n",
        "\n",
        "#Testando com uma frase e 20% de teste\n",
        "nltk.download('punkt')\n",
        "poema = '''“Existe apenas um bem: o conhecimento, e um mal: a ignorância” — Sócrates'''\n",
        "\n",
        "tokens = nltk.word_tokenize(poema)\n",
        "etiqPadrao = nltk.tag.DefaultTagger('N')\n",
        "\n",
        "tagged_send = nltk.corpus.mac_morpho.tagged_sents()\n",
        "unigram_tagger = nltk.tag.UnigramTagger(tagged_send)\n",
        "\n",
        "import nltk\n",
        "from nltk.corpus import mac_morpho\n",
        "prop = int(0.20 * len(mac_morpho.tagged_sents()))\n",
        "treino = mac_morpho.tagged_sents()[prop:]\n",
        "teste = mac_morpho.tagged_sents()[:prop]\n",
        "\n",
        "etq = nltk.DefaultTagger('N')\n",
        "print(\"Basic Tagger: \", etq.accuracy(teste))\n",
        "\n",
        "etq2 = nltk.UnigramTagger(treino, backoff=etq)\n",
        "print(\"Unigram Tagger: \", etq2.accuracy(teste))\n",
        "\n",
        "etq3 = nltk.BigramTagger(treino, backoff=etq2)\n",
        "print(\"Bigran Tagger: \", etq3.accuracy(teste))\n",
        "\n",
        "etq4 = nltk.TrigramTagger(treino, backoff=etq3)\n",
        "print(\"Trigram Tagger: \", etq4.accuracy(teste))\n",
        "\n",
        "print(etq4.tag(tokens))"
      ],
      "metadata": {
        "id": "ku7nwVdyp7M5",
        "colab": {
          "base_uri": "https://localhost:8080/"
        },
        "outputId": "7e9deb8b-2967-4786-f89d-b4922bbea48d"
      },
      "execution_count": null,
      "outputs": [
        {
          "output_type": "stream",
          "name": "stderr",
          "text": [
            "[nltk_data] Downloading package punkt to /root/nltk_data...\n",
            "[nltk_data]   Package punkt is already up-to-date!\n"
          ]
        },
        {
          "output_type": "stream",
          "name": "stdout",
          "text": [
            "Basic Tagger:  0.2060009290177828\n",
            "Unigram Tagger:  0.8332632187836878\n",
            "Bigran Tagger:  0.8496875520381423\n",
            "Trigram Tagger:  0.8510241106407593\n",
            "[('“', 'N'), ('Existe', 'V'), ('apenas', 'PDEN'), ('um', 'ART'), ('bem', 'N'), (':', ':'), ('o', 'ART'), ('conhecimento', 'N'), (',', ','), ('e', 'KC'), ('um', 'ART'), ('mal', 'N'), (':', ':'), ('a', 'ART'), ('ignorância', 'N'), ('”', 'N'), ('—', 'N'), ('Sócrates', 'NPROP')]\n"
          ]
        }
      ]
    },
    {
      "cell_type": "code",
      "source": [
        "#Testando Trigram\n",
        "\n",
        "#Testando com um poema e, 15% de teste\n",
        "nltk.download('punkt')\n",
        "poema = '''O vento seco que corre\n",
        "pela seca que avança\n",
        "e o jumento que socorre\n",
        "é bicho que não descança\n",
        "aqui quase tudo morre\n",
        "só não morre a esperança.'''\n",
        "\n",
        "tokens = nltk.word_tokenize(poema)\n",
        "etiqPadrao = nltk.tag.DefaultTagger('N')\n",
        "\n",
        "tagged_send = nltk.corpus.mac_morpho.tagged_sents()\n",
        "unigram_tagger = nltk.tag.UnigramTagger(tagged_send)\n",
        "\n",
        "import nltk\n",
        "from nltk.corpus import mac_morpho\n",
        "prop = int(0.15 * len(mac_morpho.tagged_sents()))\n",
        "treino = mac_morpho.tagged_sents()[prop:]\n",
        "teste = mac_morpho.tagged_sents()[:prop]\n",
        "\n",
        "etq = nltk.DefaultTagger('N')\n",
        "print(\"Basic Tagger: \", etq.accuracy(teste))\n",
        "\n",
        "etq2 = nltk.UnigramTagger(treino, backoff=etq)\n",
        "print(\"Unigram Tagger: \", etq2.accuracy(teste))\n",
        "\n",
        "etq3 = nltk.BigramTagger(treino, backoff=etq2)\n",
        "print(\"Bigran Tagger: \", etq3.accuracy(teste))\n",
        "\n",
        "etq4 = nltk.TrigramTagger(treino, backoff=etq3)\n",
        "print(\"Trigram Tagger: \", etq4.accuracy(teste))\n",
        "\n",
        "print(etq4.tag(tokens))"
      ],
      "metadata": {
        "colab": {
          "base_uri": "https://localhost:8080/"
        },
        "id": "N9B3m3un35nS",
        "outputId": "67f871a7-a794-4976-b192-8a61f16c94f4"
      },
      "execution_count": null,
      "outputs": [
        {
          "output_type": "stream",
          "name": "stderr",
          "text": [
            "[nltk_data] Downloading package punkt to /root/nltk_data...\n",
            "[nltk_data]   Package punkt is already up-to-date!\n"
          ]
        },
        {
          "output_type": "stream",
          "name": "stdout",
          "text": [
            "Basic Tagger:  0.20329511736113517\n",
            "Unigram Tagger:  0.8352903143869858\n",
            "Bigran Tagger:  0.85333033147449\n",
            "Trigram Tagger:  0.8540230681306501\n",
            "[('O', 'ART'), ('vento', 'N'), ('seco', 'ADJ'), ('que', 'PRO-KS-REL'), ('corre', 'V'), ('pela', 'NPROP'), ('seca', 'N'), ('que', 'PRO-KS-REL'), ('avança', 'V'), ('e', 'KC'), ('o', 'ART'), ('jumento', 'N'), ('que', 'PRO-KS-REL'), ('socorre', 'N'), ('é', 'V'), ('bicho', 'N'), ('que', 'PRO-KS-REL'), ('não', 'ADV'), ('descança', 'N'), ('aqui', 'ADV'), ('quase', 'ADV'), ('tudo', 'PROSUB'), ('morre', 'V'), ('só', 'PDEN'), ('não', 'ADV'), ('morre', 'V'), ('a', 'ART'), ('esperança', 'N'), ('.', '.')]\n"
          ]
        }
      ]
    },
    {
      "cell_type": "code",
      "source": [
        "#Testando Trigram\n",
        "\n",
        "#Testando com um trecho de livro e 38% de treino\n",
        "nltk.download('punkt')\n",
        "poema = '''“Nunca tivera uma alegria de criança.\n",
        "Se fizera homem antes dos dez anos para lutar pela mais miserável das vidas:\n",
        "a vida de criança abandonada. Nunca conseguira amar a ninguém, a não ser a este cachorro que o segue.\n",
        "Quando os corações das demais crianças ainda estão puros de sentimentos, o do Sem-Pernas já estava cheio de ódio.\n",
        "Odiava a cidade, a vida, os homens. Amava unicamente o seu ódio, sentimento que o fazia forte e corajoso apesar do defeito físico.”\n",
        "― Jorge Amado, Capitães da Areia\n",
        "'''\n",
        "\n",
        "tokens = nltk.word_tokenize(poema)\n",
        "etiqPadrao = nltk.tag.DefaultTagger('N')\n",
        "\n",
        "tagged_send = nltk.corpus.mac_morpho.tagged_sents()\n",
        "unigram_tagger = nltk.tag.UnigramTagger(tagged_send)\n",
        "\n",
        "import nltk\n",
        "from nltk.corpus import mac_morpho\n",
        "prop = int(0.38 * len(mac_morpho.tagged_sents()))\n",
        "treino = mac_morpho.tagged_sents()[prop:]\n",
        "teste = mac_morpho.tagged_sents()[:prop]\n",
        "\n",
        "etq = nltk.DefaultTagger('N')\n",
        "print(\"Basic Tagger: \", etq.accuracy(teste))\n",
        "\n",
        "etq2 = nltk.UnigramTagger(treino, backoff=etq)\n",
        "print(\"Unigram Tagger: \", etq2.accuracy(teste))\n",
        "\n",
        "etq3 = nltk.BigramTagger(treino, backoff=etq2)\n",
        "print(\"Bigran Tagger: \", etq3.accuracy(teste))\n",
        "\n",
        "etq4 = nltk.TrigramTagger(treino, backoff=etq3)\n",
        "print(\"Trigram Tagger: \", etq4.accuracy(teste))\n",
        "\n",
        "print(etq4.tag(tokens))"
      ],
      "metadata": {
        "colab": {
          "base_uri": "https://localhost:8080/"
        },
        "id": "ElyJOybV7cqJ",
        "outputId": "da17efac-6a39-4cf0-b0dd-be8c95cd93a9"
      },
      "execution_count": null,
      "outputs": [
        {
          "output_type": "stream",
          "name": "stderr",
          "text": [
            "[nltk_data] Downloading package punkt to /root/nltk_data...\n",
            "[nltk_data]   Package punkt is already up-to-date!\n"
          ]
        },
        {
          "output_type": "stream",
          "name": "stdout",
          "text": [
            "Basic Tagger:  0.2131066236684152\n",
            "Unigram Tagger:  0.8207683399999077\n",
            "Bigran Tagger:  0.8398407403819094\n",
            "Trigram Tagger:  0.8391510152108621\n",
            "[('“', 'N'), ('Nunca', 'ADV'), ('tivera', 'V'), ('uma', 'ART'), ('alegria', 'N'), ('de', 'PREP|+'), ('criança', 'N'), ('.', '.'), ('Se', 'KS'), ('fizera', 'V'), ('homem', 'N'), ('antes', 'ADV'), ('dos', 'ADV'), ('dez', 'NUM'), ('anos', 'N'), ('para', 'PREP'), ('lutar', 'V'), ('pela', 'NPROP'), ('mais', 'KC'), ('miserável', 'ADJ'), ('das', 'NPROP'), ('vidas', 'N'), (':', ':'), ('a', 'ART'), ('vida', 'N'), ('de', 'PREP|+'), ('criança', 'N'), ('abandonada', 'PCP'), ('.', '.'), ('Nunca', 'ADV'), ('conseguira', 'V'), ('amar', 'V'), ('a', 'ART'), ('ninguém', 'PROSUB'), (',', ','), ('a', 'ART'), ('não', 'N'), ('ser', 'V'), ('a', 'ART'), ('este', 'PROADJ'), ('cachorro', 'N'), ('que', 'PRO-KS-REL'), ('o', 'ART'), ('segue', 'V'), ('.', '.'), ('Quando', 'KS'), ('os', 'ART'), ('corações', 'N'), ('das', 'NPROP'), ('demais', 'ADV'), ('crianças', 'N'), ('ainda', 'ADV'), ('estão', 'V'), ('puros', 'ADJ'), ('de', 'PREP'), ('sentimentos', 'N'), (',', ','), ('o', 'ART'), ('do', 'KS'), ('Sem-Pernas', 'N'), ('já', 'ADV'), ('estava', 'V'), ('cheio', 'ADJ'), ('de', 'PREP'), ('ódio', 'N'), ('.', '.'), ('Odiava', 'N'), ('a', 'PREP|+'), ('cidade', 'N'), (',', ','), ('a', 'ART'), ('vida', 'N'), (',', ','), ('os', 'ART'), ('homens', 'N'), ('.', '.'), ('Amava', 'N'), ('unicamente', 'ADV'), ('o', 'PROPESS'), ('seu', 'PROADJ'), ('ódio', 'N'), (',', ','), ('sentimento', 'N'), ('que', 'PRO-KS-REL'), ('o', 'ART'), ('fazia', 'V'), ('forte', 'ADJ'), ('e', 'KC'), ('corajoso', 'ADJ'), ('apesar', 'PREP|+'), ('do', 'KS'), ('defeito', 'N'), ('físico.', 'N'), ('”', 'N'), ('―', 'N'), ('Jorge', 'NPROP'), ('Amado', 'NPROP'), (',', ','), ('Capitães', 'N'), ('da', 'N'), ('Areia', 'N')]\n"
          ]
        }
      ]
    }
  ]
}