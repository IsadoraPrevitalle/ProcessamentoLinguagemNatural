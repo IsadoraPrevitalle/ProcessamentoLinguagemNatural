{
  "nbformat": 4,
  "nbformat_minor": 0,
  "metadata": {
    "colab": {
      "provenance": [],
      "authorship_tag": "ABX9TyNEChFKkDjh0gxSzXMRy5LT",
      "include_colab_link": true
    },
    "kernelspec": {
      "name": "python3",
      "display_name": "Python 3"
    },
    "language_info": {
      "name": "python"
    },
    "widgets": {
      "application/vnd.jupyter.widget-state+json": {
        "9673fe8db2ca42d5996aa51a940d9bc1": {
          "model_module": "@jupyter-widgets/controls",
          "model_name": "HTMLModel",
          "model_module_version": "1.5.0",
          "state": {
            "_dom_classes": [],
            "_model_module": "@jupyter-widgets/controls",
            "_model_module_version": "1.5.0",
            "_model_name": "HTMLModel",
            "_view_count": null,
            "_view_module": "@jupyter-widgets/controls",
            "_view_module_version": "1.5.0",
            "_view_name": "HTMLView",
            "description": "",
            "description_tooltip": null,
            "layout": "IPY_MODEL_f58568744d814df2b238e03ba18e660c",
            "placeholder": "​",
            "style": "IPY_MODEL_b726684166264ac8b4fdefffa15da046",
            "value": "<h1> Resumo de texto - Preços dos remédios vão subir até 4,5% a partir do próximo domingo</h1>"
          }
        },
        "f58568744d814df2b238e03ba18e660c": {
          "model_module": "@jupyter-widgets/base",
          "model_name": "LayoutModel",
          "model_module_version": "1.2.0",
          "state": {
            "_model_module": "@jupyter-widgets/base",
            "_model_module_version": "1.2.0",
            "_model_name": "LayoutModel",
            "_view_count": null,
            "_view_module": "@jupyter-widgets/base",
            "_view_module_version": "1.2.0",
            "_view_name": "LayoutView",
            "align_content": null,
            "align_items": null,
            "align_self": null,
            "border": null,
            "bottom": null,
            "display": null,
            "flex": null,
            "flex_flow": null,
            "grid_area": null,
            "grid_auto_columns": null,
            "grid_auto_flow": null,
            "grid_auto_rows": null,
            "grid_column": null,
            "grid_gap": null,
            "grid_row": null,
            "grid_template_areas": null,
            "grid_template_columns": null,
            "grid_template_rows": null,
            "height": null,
            "justify_content": null,
            "justify_items": null,
            "left": null,
            "margin": null,
            "max_height": null,
            "max_width": null,
            "min_height": null,
            "min_width": null,
            "object_fit": null,
            "object_position": null,
            "order": null,
            "overflow": null,
            "overflow_x": null,
            "overflow_y": null,
            "padding": null,
            "right": null,
            "top": null,
            "visibility": null,
            "width": null
          }
        },
        "b726684166264ac8b4fdefffa15da046": {
          "model_module": "@jupyter-widgets/controls",
          "model_name": "DescriptionStyleModel",
          "model_module_version": "1.5.0",
          "state": {
            "_model_module": "@jupyter-widgets/controls",
            "_model_module_version": "1.5.0",
            "_model_name": "DescriptionStyleModel",
            "_view_count": null,
            "_view_module": "@jupyter-widgets/base",
            "_view_module_version": "1.2.0",
            "_view_name": "StyleView",
            "description_width": ""
          }
        },
        "b3fdc9a583ef49daa4ab0194a3b7465e": {
          "model_module": "@jupyter-widgets/controls",
          "model_name": "HTMLModel",
          "model_module_version": "1.5.0",
          "state": {
            "_dom_classes": [],
            "_model_module": "@jupyter-widgets/controls",
            "_model_module_version": "1.5.0",
            "_model_name": "HTMLModel",
            "_view_count": null,
            "_view_module": "@jupyter-widgets/controls",
            "_view_module_version": "1.5.0",
            "_view_name": "HTMLView",
            "description": "",
            "description_tooltip": null,
            "layout": "IPY_MODEL_8fe14a7072ae488eb24a818b97123e0e",
            "placeholder": "​",
            "style": "IPY_MODEL_9f6f77e922b34966a83eb3d6dd843171",
            "value": " <mark>Os preços dos medicamentos vão ser reajustados em até 4,5% pelos fabricantes a partir do próximo domingo (31).</mark>O percentual foi definido pelo conselho da Câmara de Regulação do Mercado de Medicamentos e publicado na última quinta-feira (28) no DOU (Diário Oficial da União).O consumidor deve sentir o impacto no bolso dentro de duas semanas.O reajuste já tinha sido antecipado pelo blog Conta em Dia, do R7, já que o Sindusfarma (Sindicato da Indústria de Produtos Farmacêuticos) estimava a reposição da inflação oficial acumulada.<mark>O cálculo é baseado no IPCA (Índice Nacional de Preços ao Consumidor Amplo) do período de março de 2023 a fevereiro de 2024.</mark>O aumento, porém, depende numa fórmula elaborada pelo órgão ligado à Anvisa (Agência Nacional de Vigilância Sanitária).O setor farmacêutico é submetido ao controle de preços.Somente uma vez por ano as indústrias farmacêuticas estão autorizadas a reajustar os preços de seus produtos, para compensar os aumentos de custo de produção acumulados nos 12 meses anteriores.<mark>O reajuste deve atingir cerca de 13 mil produtos.</mark>Conforme a resolução, o ajuste máximo de preços de medicamentos permitido será o seguinte: nível 1 (4,50%), nível 2 (4,50%) e nível 3 (4,50%).<mark>As empresas poderão fazer o reajuste no prazo de até 15 dias após a publicação da portaria, que é assinada por Daniela Marreco Cerqueira.</mark>Saiba os cuidados ao comprar remédios pela internet:\n• Pacientes que utilizam o medicamento Ozempic têm sido vítimas de golpes na internet.A caneta usada para tratamento de diabetes e para emagrecimento custa, em média.R$ 1.200.Os criminosos atraem os consumidores com preços dez vezes menores, mas quem paga, nunca recebe o produto.O Jornal da Record mostra alguns cuidados ao comprar remédios pela internet para não cair em fraudes.Veja!• Consulte o médico\n\nAntes de comprar qualquer tipo de medicamento, consulte um médico e somente tome os remédios prescritos por ele.<mark>Além de estimular a venda ilegal, o uso de medicamentos sem orientação médica pode representar riscos à saúde.</mark><mark>Também não é recomendado tentar adquirir produtos que seus amigos ou familiares tomam, nem mesmo comprar por conta própria\n• Compre em farmácias conhecidas\n\nUma norma publicada em 2009 pela Agência Nacional de Vigilância Sanitária exige que informações como razão social, nome fantasia, CNPJ da empresa e endereço completo estejam presentes em sites de farmácias e drogarias.</mark>Caso a página não apresente esses dados, desconfie.Também é importante exigir nota fiscal da farmácia, ela é o documento que oferece garantia ao consumidor\n• Não compre em sites que não exigem receita médica\n\nVender medicamentos sem receita médica pela internet é considerado violação da lei.Verifique se o site exige a documentação para efetuar a venda.Além disso, é importante ficar atento com sites fraudulentos que vendem remédios que não são autorizados pela Anvisa.<mark>A importação e venda de produtos não regulamentados no Brasil é ilegal e pode colocar a saúde do paciente em risco\n• Confira a embalagem\n\nNo momento do recebimento da compra, confira algumas informações que devem estar na embalagem do medicamento.</mark>Veja se o nome do remédio está bem impresso e pode ser lido com facilidade.A data de validade do produto também deve estar presente na embalagem.<mark>Ao perceber rasgos, rasuras, violação ou alguma informação que tenha sido apagada ou adulterada, não faça uso do medicamento e peça orientações de um farmacêutico\n• Fale com o farmacêutico registrado\n\nCaso precise, o cliente tem o direito de exigir acesso a um farmacêutico registrado.</mark><mark>É dever do estabelecimento disponibilizar um profissional para auxiliar o consumidor em caso de dúvidas sobre a medicação ou se ele estiver preocupado com possíveis reações do remédio no organismo\n• Confira o domínio do site\n\nA norma da Anvisa indica que os sites autorizados a receber pedidos de medicamentos são aqueles com o domínio '.com.br'.</mark>Dessa forma, o órgão consegue identificar os responsáveis pelo domínio dos sites e fazer a fiscalização das páginas.As farmácias on-line também devem informar o nome comercial do produto, o número de registro na Anvisa, o nome do detentor do registro, além de outros dados\n\n\n\nFonte: Instituto Brasileiro de Ética Concorrencial (ETCO) e Conselho Regional de Farmácia do Estado do Rio de Janeiro (CRF-RJ).• Confira o Jornal da Record de segunda a sexta-feira, às 19h55, e aos sábados, a partir das 19h45. "
          }
        },
        "8fe14a7072ae488eb24a818b97123e0e": {
          "model_module": "@jupyter-widgets/base",
          "model_name": "LayoutModel",
          "model_module_version": "1.2.0",
          "state": {
            "_model_module": "@jupyter-widgets/base",
            "_model_module_version": "1.2.0",
            "_model_name": "LayoutModel",
            "_view_count": null,
            "_view_module": "@jupyter-widgets/base",
            "_view_module_version": "1.2.0",
            "_view_name": "LayoutView",
            "align_content": null,
            "align_items": null,
            "align_self": null,
            "border": null,
            "bottom": null,
            "display": null,
            "flex": null,
            "flex_flow": null,
            "grid_area": null,
            "grid_auto_columns": null,
            "grid_auto_flow": null,
            "grid_auto_rows": null,
            "grid_column": null,
            "grid_gap": null,
            "grid_row": null,
            "grid_template_areas": null,
            "grid_template_columns": null,
            "grid_template_rows": null,
            "height": null,
            "justify_content": null,
            "justify_items": null,
            "left": null,
            "margin": null,
            "max_height": null,
            "max_width": null,
            "min_height": null,
            "min_width": null,
            "object_fit": null,
            "object_position": null,
            "order": null,
            "overflow": null,
            "overflow_x": null,
            "overflow_y": null,
            "padding": null,
            "right": null,
            "top": null,
            "visibility": null,
            "width": null
          }
        },
        "9f6f77e922b34966a83eb3d6dd843171": {
          "model_module": "@jupyter-widgets/controls",
          "model_name": "DescriptionStyleModel",
          "model_module_version": "1.5.0",
          "state": {
            "_model_module": "@jupyter-widgets/controls",
            "_model_module_version": "1.5.0",
            "_model_name": "DescriptionStyleModel",
            "_view_count": null,
            "_view_module": "@jupyter-widgets/base",
            "_view_module_version": "1.2.0",
            "_view_name": "StyleView",
            "description_width": ""
          }
        },
        "3f263aac6286459687ea429082510ee7": {
          "model_module": "@jupyter-widgets/controls",
          "model_name": "HTMLModel",
          "model_module_version": "1.5.0",
          "state": {
            "_dom_classes": [],
            "_model_module": "@jupyter-widgets/controls",
            "_model_module_version": "1.5.0",
            "_model_name": "HTMLModel",
            "_view_count": null,
            "_view_module": "@jupyter-widgets/controls",
            "_view_module_version": "1.5.0",
            "_view_name": "HTMLView",
            "description": "",
            "description_tooltip": null,
            "layout": "IPY_MODEL_7344305ffc1a4b20a68e421b9401001d",
            "placeholder": "​",
            "style": "IPY_MODEL_c9a224cd66284ba98c1fa8d3e326e18e",
            "value": "<h1> Resumo de texto - Imprensa francesa dá pouco espaço à visita de Macron no Brasil, apesar de anfitrião ter caprichado na encenação</h1>"
          }
        },
        "7344305ffc1a4b20a68e421b9401001d": {
          "model_module": "@jupyter-widgets/base",
          "model_name": "LayoutModel",
          "model_module_version": "1.2.0",
          "state": {
            "_model_module": "@jupyter-widgets/base",
            "_model_module_version": "1.2.0",
            "_model_name": "LayoutModel",
            "_view_count": null,
            "_view_module": "@jupyter-widgets/base",
            "_view_module_version": "1.2.0",
            "_view_name": "LayoutView",
            "align_content": null,
            "align_items": null,
            "align_self": null,
            "border": null,
            "bottom": null,
            "display": null,
            "flex": null,
            "flex_flow": null,
            "grid_area": null,
            "grid_auto_columns": null,
            "grid_auto_flow": null,
            "grid_auto_rows": null,
            "grid_column": null,
            "grid_gap": null,
            "grid_row": null,
            "grid_template_areas": null,
            "grid_template_columns": null,
            "grid_template_rows": null,
            "height": null,
            "justify_content": null,
            "justify_items": null,
            "left": null,
            "margin": null,
            "max_height": null,
            "max_width": null,
            "min_height": null,
            "min_width": null,
            "object_fit": null,
            "object_position": null,
            "order": null,
            "overflow": null,
            "overflow_x": null,
            "overflow_y": null,
            "padding": null,
            "right": null,
            "top": null,
            "visibility": null,
            "width": null
          }
        },
        "c9a224cd66284ba98c1fa8d3e326e18e": {
          "model_module": "@jupyter-widgets/controls",
          "model_name": "DescriptionStyleModel",
          "model_module_version": "1.5.0",
          "state": {
            "_model_module": "@jupyter-widgets/controls",
            "_model_module_version": "1.5.0",
            "_model_name": "DescriptionStyleModel",
            "_view_count": null,
            "_view_module": "@jupyter-widgets/base",
            "_view_module_version": "1.2.0",
            "_view_name": "StyleView",
            "description_width": ""
          }
        },
        "9d94a5d97e764637813243ffcdefb52d": {
          "model_module": "@jupyter-widgets/controls",
          "model_name": "HTMLModel",
          "model_module_version": "1.5.0",
          "state": {
            "_dom_classes": [],
            "_model_module": "@jupyter-widgets/controls",
            "_model_module_version": "1.5.0",
            "_model_name": "HTMLModel",
            "_view_count": null,
            "_view_module": "@jupyter-widgets/controls",
            "_view_module_version": "1.5.0",
            "_view_name": "HTMLView",
            "description": "",
            "description_tooltip": null,
            "layout": "IPY_MODEL_8d3783f8d77e45c8b950f8e0d7a1e27a",
            "placeholder": "​",
            "style": "IPY_MODEL_ef02b6f946454690b96dfadc3197d3aa",
            "value": " O primeiro dia da visita do presidente Emmanuel Macron ao Brasil teve pouca repercussão na imprensa francesa.Nos sites, jornais e canais de TV, as reportagens são curtas e sequer fazem parte das manchetes.O Le Monde conta que o presidente Lula e Macron não economizaram na encenação, descrita pelo correspondente como \"um pouco lunar no meio da selva\".\"O chefe de Estado, recém-chegado de Caiena, e seu anfitrião brasileiro, que veio recebê-lo em Belém (...) se reuniram (...) na ilha de Combu, localizada em frente à cidade, na presença do líder indígena Raoni Metuktire, que foi condecorado por Macron com a medalha de cavaleiro da Legião de Honra\", relata Le Monde.Foram as palavras de Raoni que marcaram os jornalistas e são reproduzidas na imprensa francesa: \"Considero Lula meu irmão, Macron meu filho\", disse o cacique caiapó de 93 anos.<mark>Na avaliação do Le Monde, \"na falta de acordo sobre as guerras na Ucrânia e na Faixa de Gaza, os dois líderes aproveitaram para mostrar uma frente comum nas questões climáticas.</mark><mark>Analistas ouvidos pelo veículo disseram que Lula e Macron têm o interesse em comum de se posicionar na vanguarda da luta contra o desmatamento e na defesa dos direitos dos povos indígenas, a fim de proteger a Amazônia, mas também querem enviar uma mensagem aos seus respectivos eleitorados.</mark><mark>Essa disposição compartilhada é um aspecto positivo e pode ajudar o planeta.</mark><mark>Mas estatisticamente, o desmatamento na Guiana é insignificante em comparação com o Brasil, embora as duas situações sejam difíceis de comparar, com a maior parte da população da região francesa sendo distribuída ao longo da costa e pouco usuária da floresta, aponta a reportagem.</mark> "
          }
        },
        "8d3783f8d77e45c8b950f8e0d7a1e27a": {
          "model_module": "@jupyter-widgets/base",
          "model_name": "LayoutModel",
          "model_module_version": "1.2.0",
          "state": {
            "_model_module": "@jupyter-widgets/base",
            "_model_module_version": "1.2.0",
            "_model_name": "LayoutModel",
            "_view_count": null,
            "_view_module": "@jupyter-widgets/base",
            "_view_module_version": "1.2.0",
            "_view_name": "LayoutView",
            "align_content": null,
            "align_items": null,
            "align_self": null,
            "border": null,
            "bottom": null,
            "display": null,
            "flex": null,
            "flex_flow": null,
            "grid_area": null,
            "grid_auto_columns": null,
            "grid_auto_flow": null,
            "grid_auto_rows": null,
            "grid_column": null,
            "grid_gap": null,
            "grid_row": null,
            "grid_template_areas": null,
            "grid_template_columns": null,
            "grid_template_rows": null,
            "height": null,
            "justify_content": null,
            "justify_items": null,
            "left": null,
            "margin": null,
            "max_height": null,
            "max_width": null,
            "min_height": null,
            "min_width": null,
            "object_fit": null,
            "object_position": null,
            "order": null,
            "overflow": null,
            "overflow_x": null,
            "overflow_y": null,
            "padding": null,
            "right": null,
            "top": null,
            "visibility": null,
            "width": null
          }
        },
        "ef02b6f946454690b96dfadc3197d3aa": {
          "model_module": "@jupyter-widgets/controls",
          "model_name": "DescriptionStyleModel",
          "model_module_version": "1.5.0",
          "state": {
            "_model_module": "@jupyter-widgets/controls",
            "_model_module_version": "1.5.0",
            "_model_name": "DescriptionStyleModel",
            "_view_count": null,
            "_view_module": "@jupyter-widgets/base",
            "_view_module_version": "1.2.0",
            "_view_name": "StyleView",
            "description_width": ""
          }
        },
        "64eba2c0fc524fa9ba4dfca223c10fdb": {
          "model_module": "@jupyter-widgets/controls",
          "model_name": "HTMLModel",
          "model_module_version": "1.5.0",
          "state": {
            "_dom_classes": [],
            "_model_module": "@jupyter-widgets/controls",
            "_model_module_version": "1.5.0",
            "_model_name": "HTMLModel",
            "_view_count": null,
            "_view_module": "@jupyter-widgets/controls",
            "_view_module_version": "1.5.0",
            "_view_name": "HTMLView",
            "description": "",
            "description_tooltip": null,
            "layout": "IPY_MODEL_094c6481f5aa47f997da5b166493a3b2",
            "placeholder": "​",
            "style": "IPY_MODEL_414f44b0be2a4a06b54e17f3af95d487",
            "value": "<h1> Resumo de texto - Preços dos remédios vão subir até 4,5% a partir do próximo domingo</h1>"
          }
        },
        "094c6481f5aa47f997da5b166493a3b2": {
          "model_module": "@jupyter-widgets/base",
          "model_name": "LayoutModel",
          "model_module_version": "1.2.0",
          "state": {
            "_model_module": "@jupyter-widgets/base",
            "_model_module_version": "1.2.0",
            "_model_name": "LayoutModel",
            "_view_count": null,
            "_view_module": "@jupyter-widgets/base",
            "_view_module_version": "1.2.0",
            "_view_name": "LayoutView",
            "align_content": null,
            "align_items": null,
            "align_self": null,
            "border": null,
            "bottom": null,
            "display": null,
            "flex": null,
            "flex_flow": null,
            "grid_area": null,
            "grid_auto_columns": null,
            "grid_auto_flow": null,
            "grid_auto_rows": null,
            "grid_column": null,
            "grid_gap": null,
            "grid_row": null,
            "grid_template_areas": null,
            "grid_template_columns": null,
            "grid_template_rows": null,
            "height": null,
            "justify_content": null,
            "justify_items": null,
            "left": null,
            "margin": null,
            "max_height": null,
            "max_width": null,
            "min_height": null,
            "min_width": null,
            "object_fit": null,
            "object_position": null,
            "order": null,
            "overflow": null,
            "overflow_x": null,
            "overflow_y": null,
            "padding": null,
            "right": null,
            "top": null,
            "visibility": null,
            "width": null
          }
        },
        "414f44b0be2a4a06b54e17f3af95d487": {
          "model_module": "@jupyter-widgets/controls",
          "model_name": "DescriptionStyleModel",
          "model_module_version": "1.5.0",
          "state": {
            "_model_module": "@jupyter-widgets/controls",
            "_model_module_version": "1.5.0",
            "_model_name": "DescriptionStyleModel",
            "_view_count": null,
            "_view_module": "@jupyter-widgets/base",
            "_view_module_version": "1.2.0",
            "_view_name": "StyleView",
            "description_width": ""
          }
        },
        "e57e746889a747ff8e934f4365232e64": {
          "model_module": "@jupyter-widgets/controls",
          "model_name": "HTMLModel",
          "model_module_version": "1.5.0",
          "state": {
            "_dom_classes": [],
            "_model_module": "@jupyter-widgets/controls",
            "_model_module_version": "1.5.0",
            "_model_name": "HTMLModel",
            "_view_count": null,
            "_view_module": "@jupyter-widgets/controls",
            "_view_module_version": "1.5.0",
            "_view_name": "HTMLView",
            "description": "",
            "description_tooltip": null,
            "layout": "IPY_MODEL_8536b14687b947919ce609323b0c0f73",
            "placeholder": "​",
            "style": "IPY_MODEL_81bec010ff4a4de9b7bf985565ab4862",
            "value": " Os preços dos medicamentos vão ser reajustados em até 4,5% pelos fabricantes a partir do próximo domingo (31).<mark>O percentual foi definido pelo conselho da Câmara de Regulação do Mercado de Medicamentos e publicado na última quinta-feira (28) no DOU (Diário Oficial da União).</mark>O consumidor deve sentir o impacto no bolso dentro de duas semanas.O reajuste já tinha sido antecipado pelo blog Conta em Dia, do R7, já que o Sindusfarma (Sindicato da Indústria de Produtos Farmacêuticos) estimava a reposição da inflação oficial acumulada.O cálculo é baseado no IPCA (Índice Nacional de Preços ao Consumidor Amplo) do período de março de 2023 a fevereiro de 2024.<mark>O aumento, porém, depende numa fórmula elaborada pelo órgão ligado à Anvisa (Agência Nacional de Vigilância Sanitária).</mark>O setor farmacêutico é submetido ao controle de preços.Somente uma vez por ano as indústrias farmacêuticas estão autorizadas a reajustar os preços de seus produtos, para compensar os aumentos de custo de produção acumulados nos 12 meses anteriores.O reajuste deve atingir cerca de 13 mil produtos.Conforme a resolução, o ajuste máximo de preços de medicamentos permitido será o seguinte: nível 1 (4,50%), nível 2 (4,50%) e nível 3 (4,50%).As empresas poderão fazer o reajuste no prazo de até 15 dias após a publicação da portaria, que é assinada por Daniela Marreco Cerqueira.Saiba os cuidados ao comprar remédios pela internet:\n• Pacientes que utilizam o medicamento Ozempic têm sido vítimas de golpes na internet.A caneta usada para tratamento de diabetes e para emagrecimento custa, em média.R$ 1.200.<mark>Os criminosos atraem os consumidores com preços dez vezes menores, mas quem paga, nunca recebe o produto.</mark>O Jornal da Record mostra alguns cuidados ao comprar remédios pela internet para não cair em fraudes.Veja!• Consulte o médico\n\nAntes de comprar qualquer tipo de medicamento, consulte um médico e somente tome os remédios prescritos por ele.Além de estimular a venda ilegal, o uso de medicamentos sem orientação médica pode representar riscos à saúde.Também não é recomendado tentar adquirir produtos que seus amigos ou familiares tomam, nem mesmo comprar por conta própria\n• Compre em farmácias conhecidas\n\nUma norma publicada em 2009 pela Agência Nacional de Vigilância Sanitária exige que informações como razão social, nome fantasia, CNPJ da empresa e endereço completo estejam presentes em sites de farmácias e drogarias.Caso a página não apresente esses dados, desconfie.Também é importante exigir nota fiscal da farmácia, ela é o documento que oferece garantia ao consumidor\n• Não compre em sites que não exigem receita médica\n\nVender medicamentos sem receita médica pela internet é considerado violação da lei.Verifique se o site exige a documentação para efetuar a venda.Além disso, é importante ficar atento com sites fraudulentos que vendem remédios que não são autorizados pela Anvisa.<mark>A importação e venda de produtos não regulamentados no Brasil é ilegal e pode colocar a saúde do paciente em risco\n• Confira a embalagem\n\nNo momento do recebimento da compra, confira algumas informações que devem estar na embalagem do medicamento.</mark><mark>Veja se o nome do remédio está bem impresso e pode ser lido com facilidade.</mark><mark>A data de validade do produto também deve estar presente na embalagem.</mark>Ao perceber rasgos, rasuras, violação ou alguma informação que tenha sido apagada ou adulterada, não faça uso do medicamento e peça orientações de um farmacêutico\n• Fale com o farmacêutico registrado\n\nCaso precise, o cliente tem o direito de exigir acesso a um farmacêutico registrado.É dever do estabelecimento disponibilizar um profissional para auxiliar o consumidor em caso de dúvidas sobre a medicação ou se ele estiver preocupado com possíveis reações do remédio no organismo\n• Confira o domínio do site\n\nA norma da Anvisa indica que os sites autorizados a receber pedidos de medicamentos são aqueles com o domínio '.com.br'.Dessa forma, o órgão consegue identificar os responsáveis pelo domínio dos sites e fazer a fiscalização das páginas.As farmácias on-line também devem informar o nome comercial do produto, o número de registro na Anvisa, o nome do detentor do registro, além de outros dados\n\n\n\nFonte: Instituto Brasileiro de Ética Concorrencial (ETCO) e Conselho Regional de Farmácia do Estado do Rio de Janeiro (CRF-RJ).• Confira o Jornal da Record de segunda a sexta-feira, às 19h55, e aos sábados, a partir das 19h45. "
          }
        },
        "8536b14687b947919ce609323b0c0f73": {
          "model_module": "@jupyter-widgets/base",
          "model_name": "LayoutModel",
          "model_module_version": "1.2.0",
          "state": {
            "_model_module": "@jupyter-widgets/base",
            "_model_module_version": "1.2.0",
            "_model_name": "LayoutModel",
            "_view_count": null,
            "_view_module": "@jupyter-widgets/base",
            "_view_module_version": "1.2.0",
            "_view_name": "LayoutView",
            "align_content": null,
            "align_items": null,
            "align_self": null,
            "border": null,
            "bottom": null,
            "display": null,
            "flex": null,
            "flex_flow": null,
            "grid_area": null,
            "grid_auto_columns": null,
            "grid_auto_flow": null,
            "grid_auto_rows": null,
            "grid_column": null,
            "grid_gap": null,
            "grid_row": null,
            "grid_template_areas": null,
            "grid_template_columns": null,
            "grid_template_rows": null,
            "height": null,
            "justify_content": null,
            "justify_items": null,
            "left": null,
            "margin": null,
            "max_height": null,
            "max_width": null,
            "min_height": null,
            "min_width": null,
            "object_fit": null,
            "object_position": null,
            "order": null,
            "overflow": null,
            "overflow_x": null,
            "overflow_y": null,
            "padding": null,
            "right": null,
            "top": null,
            "visibility": null,
            "width": null
          }
        },
        "81bec010ff4a4de9b7bf985565ab4862": {
          "model_module": "@jupyter-widgets/controls",
          "model_name": "DescriptionStyleModel",
          "model_module_version": "1.5.0",
          "state": {
            "_model_module": "@jupyter-widgets/controls",
            "_model_module_version": "1.5.0",
            "_model_name": "DescriptionStyleModel",
            "_view_count": null,
            "_view_module": "@jupyter-widgets/base",
            "_view_module_version": "1.2.0",
            "_view_name": "StyleView",
            "description_width": ""
          }
        },
        "96de4c82a9774a3785249d2dc5ae716c": {
          "model_module": "@jupyter-widgets/controls",
          "model_name": "HTMLModel",
          "model_module_version": "1.5.0",
          "state": {
            "_dom_classes": [],
            "_model_module": "@jupyter-widgets/controls",
            "_model_module_version": "1.5.0",
            "_model_name": "HTMLModel",
            "_view_count": null,
            "_view_module": "@jupyter-widgets/controls",
            "_view_module_version": "1.5.0",
            "_view_name": "HTMLView",
            "description": "",
            "description_tooltip": null,
            "layout": "IPY_MODEL_734f824d21ae4d0e9abc27eed3d8ba4f",
            "placeholder": "​",
            "style": "IPY_MODEL_cb2430aadbf64e328b82ec34de5716b4",
            "value": "<h1> Resumo de texto - Imprensa francesa dá pouco espaço à visita de Macron no Brasil, apesar de anfitrião ter caprichado na encenação</h1>"
          }
        },
        "734f824d21ae4d0e9abc27eed3d8ba4f": {
          "model_module": "@jupyter-widgets/base",
          "model_name": "LayoutModel",
          "model_module_version": "1.2.0",
          "state": {
            "_model_module": "@jupyter-widgets/base",
            "_model_module_version": "1.2.0",
            "_model_name": "LayoutModel",
            "_view_count": null,
            "_view_module": "@jupyter-widgets/base",
            "_view_module_version": "1.2.0",
            "_view_name": "LayoutView",
            "align_content": null,
            "align_items": null,
            "align_self": null,
            "border": null,
            "bottom": null,
            "display": null,
            "flex": null,
            "flex_flow": null,
            "grid_area": null,
            "grid_auto_columns": null,
            "grid_auto_flow": null,
            "grid_auto_rows": null,
            "grid_column": null,
            "grid_gap": null,
            "grid_row": null,
            "grid_template_areas": null,
            "grid_template_columns": null,
            "grid_template_rows": null,
            "height": null,
            "justify_content": null,
            "justify_items": null,
            "left": null,
            "margin": null,
            "max_height": null,
            "max_width": null,
            "min_height": null,
            "min_width": null,
            "object_fit": null,
            "object_position": null,
            "order": null,
            "overflow": null,
            "overflow_x": null,
            "overflow_y": null,
            "padding": null,
            "right": null,
            "top": null,
            "visibility": null,
            "width": null
          }
        },
        "cb2430aadbf64e328b82ec34de5716b4": {
          "model_module": "@jupyter-widgets/controls",
          "model_name": "DescriptionStyleModel",
          "model_module_version": "1.5.0",
          "state": {
            "_model_module": "@jupyter-widgets/controls",
            "_model_module_version": "1.5.0",
            "_model_name": "DescriptionStyleModel",
            "_view_count": null,
            "_view_module": "@jupyter-widgets/base",
            "_view_module_version": "1.2.0",
            "_view_name": "StyleView",
            "description_width": ""
          }
        },
        "f59cae167aa34a15be0c8b176f438b9a": {
          "model_module": "@jupyter-widgets/controls",
          "model_name": "HTMLModel",
          "model_module_version": "1.5.0",
          "state": {
            "_dom_classes": [],
            "_model_module": "@jupyter-widgets/controls",
            "_model_module_version": "1.5.0",
            "_model_name": "HTMLModel",
            "_view_count": null,
            "_view_module": "@jupyter-widgets/controls",
            "_view_module_version": "1.5.0",
            "_view_name": "HTMLView",
            "description": "",
            "description_tooltip": null,
            "layout": "IPY_MODEL_b3ac03a70cb149ecb05c1ee6acf0112c",
            "placeholder": "​",
            "style": "IPY_MODEL_4a456502b3604710a336e562b1782834",
            "value": " O primeiro dia da visita do presidente Emmanuel Macron ao Brasil teve pouca repercussão na imprensa francesa.Nos sites, jornais e canais de TV, as reportagens são curtas e sequer fazem parte das manchetes.<mark>O Le Monde conta que o presidente Lula e Macron não economizaram na encenação, descrita pelo correspondente como \"um pouco lunar no meio da selva\".</mark>\"O chefe de Estado, recém-chegado de Caiena, e seu anfitrião brasileiro, que veio recebê-lo em Belém (...) se reuniram (...) na ilha de Combu, localizada em frente à cidade, na presença do líder indígena Raoni Metuktire, que foi condecorado por Macron com a medalha de cavaleiro da Legião de Honra\", relata Le Monde.Foram as palavras de Raoni que marcaram os jornalistas e são reproduzidas na imprensa francesa: \"Considero Lula meu irmão, Macron meu filho\", disse o cacique caiapó de 93 anos.<mark>Na avaliação do Le Monde, \"na falta de acordo sobre as guerras na Ucrânia e na Faixa de Gaza, os dois líderes aproveitaram para mostrar uma frente comum nas questões climáticas.</mark>Analistas ouvidos pelo veículo disseram que Lula e Macron têm o interesse em comum de se posicionar na vanguarda da luta contra o desmatamento e na defesa dos direitos dos povos indígenas, a fim de proteger a Amazônia, mas também querem enviar uma mensagem aos seus respectivos eleitorados.Essa disposição compartilhada é um aspecto positivo e pode ajudar o planeta.<mark>Mas estatisticamente, o desmatamento na Guiana é insignificante em comparação com o Brasil, embora as duas situações sejam difíceis de comparar, com a maior parte da população da região francesa sendo distribuída ao longo da costa e pouco usuária da floresta, aponta a reportagem.</mark> "
          }
        },
        "b3ac03a70cb149ecb05c1ee6acf0112c": {
          "model_module": "@jupyter-widgets/base",
          "model_name": "LayoutModel",
          "model_module_version": "1.2.0",
          "state": {
            "_model_module": "@jupyter-widgets/base",
            "_model_module_version": "1.2.0",
            "_model_name": "LayoutModel",
            "_view_count": null,
            "_view_module": "@jupyter-widgets/base",
            "_view_module_version": "1.2.0",
            "_view_name": "LayoutView",
            "align_content": null,
            "align_items": null,
            "align_self": null,
            "border": null,
            "bottom": null,
            "display": null,
            "flex": null,
            "flex_flow": null,
            "grid_area": null,
            "grid_auto_columns": null,
            "grid_auto_flow": null,
            "grid_auto_rows": null,
            "grid_column": null,
            "grid_gap": null,
            "grid_row": null,
            "grid_template_areas": null,
            "grid_template_columns": null,
            "grid_template_rows": null,
            "height": null,
            "justify_content": null,
            "justify_items": null,
            "left": null,
            "margin": null,
            "max_height": null,
            "max_width": null,
            "min_height": null,
            "min_width": null,
            "object_fit": null,
            "object_position": null,
            "order": null,
            "overflow": null,
            "overflow_x": null,
            "overflow_y": null,
            "padding": null,
            "right": null,
            "top": null,
            "visibility": null,
            "width": null
          }
        },
        "4a456502b3604710a336e562b1782834": {
          "model_module": "@jupyter-widgets/controls",
          "model_name": "DescriptionStyleModel",
          "model_module_version": "1.5.0",
          "state": {
            "_model_module": "@jupyter-widgets/controls",
            "_model_module_version": "1.5.0",
            "_model_name": "DescriptionStyleModel",
            "_view_count": null,
            "_view_module": "@jupyter-widgets/base",
            "_view_module_version": "1.2.0",
            "_view_name": "StyleView",
            "description_width": ""
          }
        }
      }
    }
  },
  "cells": [
    {
      "cell_type": "markdown",
      "metadata": {
        "id": "view-in-github",
        "colab_type": "text"
      },
      "source": [
        "<a href=\"https://colab.research.google.com/github/IsadoraPrevitalle/ProcessamentoLinguagemNatural/blob/main/T1_Sumariza%C3%A7%C3%A3o.ipynb\" target=\"_parent\"><img src=\"https://colab.research.google.com/assets/colab-badge.svg\" alt=\"Open In Colab\"/></a>"
      ]
    },
    {
      "cell_type": "markdown",
      "source": [
        "# Sumarização Baseada em Frequência\n"
      ],
      "metadata": {
        "id": "3uMhzi-TH-fp"
      }
    },
    {
      "cell_type": "code",
      "execution_count": 1,
      "metadata": {
        "id": "7Q_yjPZv0Lgb",
        "colab": {
          "base_uri": "https://localhost:8080/"
        },
        "outputId": "bd5cb932-8ab6-4334-bf97-06fb3530c1ae"
      },
      "outputs": [
        {
          "output_type": "stream",
          "name": "stdout",
          "text": [
            "Collecting goose3\n",
            "  Downloading goose3-3.1.19-py3-none-any.whl (113 kB)\n",
            "\u001b[2K     \u001b[90m━━━━━━━━━━━━━━━━━━━━━━━━━━━━━━━━━━━━━━━━\u001b[0m \u001b[32m113.4/113.4 kB\u001b[0m \u001b[31m980.7 kB/s\u001b[0m eta \u001b[36m0:00:00\u001b[0m\n",
            "\u001b[?25hRequirement already satisfied: requests in /usr/local/lib/python3.10/dist-packages (from goose3) (2.31.0)\n",
            "Requirement already satisfied: Pillow in /usr/local/lib/python3.10/dist-packages (from goose3) (9.4.0)\n",
            "Requirement already satisfied: lxml in /usr/local/lib/python3.10/dist-packages (from goose3) (4.9.4)\n",
            "Collecting cssselect (from goose3)\n",
            "  Downloading cssselect-1.2.0-py2.py3-none-any.whl (18 kB)\n",
            "Requirement already satisfied: beautifulsoup4 in /usr/local/lib/python3.10/dist-packages (from goose3) (4.12.3)\n",
            "Requirement already satisfied: python-dateutil in /usr/local/lib/python3.10/dist-packages (from goose3) (2.8.2)\n",
            "Collecting langdetect (from goose3)\n",
            "  Downloading langdetect-1.0.9.tar.gz (981 kB)\n",
            "\u001b[2K     \u001b[90m━━━━━━━━━━━━━━━━━━━━━━━━━━━━━━━━━━━━━━━━\u001b[0m \u001b[32m981.5/981.5 kB\u001b[0m \u001b[31m7.1 MB/s\u001b[0m eta \u001b[36m0:00:00\u001b[0m\n",
            "\u001b[?25h  Preparing metadata (setup.py) ... \u001b[?25l\u001b[?25hdone\n",
            "Collecting pyahocorasick (from goose3)\n",
            "  Downloading pyahocorasick-2.1.0-cp310-cp310-manylinux_2_5_x86_64.manylinux1_x86_64.manylinux_2_12_x86_64.manylinux2010_x86_64.whl (110 kB)\n",
            "\u001b[2K     \u001b[90m━━━━━━━━━━━━━━━━━━━━━━━━━━━━━━━━━━━━━━━━\u001b[0m \u001b[32m110.7/110.7 kB\u001b[0m \u001b[31m5.4 MB/s\u001b[0m eta \u001b[36m0:00:00\u001b[0m\n",
            "\u001b[?25hRequirement already satisfied: soupsieve>1.2 in /usr/local/lib/python3.10/dist-packages (from beautifulsoup4->goose3) (2.5)\n",
            "Requirement already satisfied: six in /usr/local/lib/python3.10/dist-packages (from langdetect->goose3) (1.16.0)\n",
            "Requirement already satisfied: charset-normalizer<4,>=2 in /usr/local/lib/python3.10/dist-packages (from requests->goose3) (3.3.2)\n",
            "Requirement already satisfied: idna<4,>=2.5 in /usr/local/lib/python3.10/dist-packages (from requests->goose3) (3.6)\n",
            "Requirement already satisfied: urllib3<3,>=1.21.1 in /usr/local/lib/python3.10/dist-packages (from requests->goose3) (2.0.7)\n",
            "Requirement already satisfied: certifi>=2017.4.17 in /usr/local/lib/python3.10/dist-packages (from requests->goose3) (2024.2.2)\n",
            "Building wheels for collected packages: langdetect\n",
            "  Building wheel for langdetect (setup.py) ... \u001b[?25l\u001b[?25hdone\n",
            "  Created wheel for langdetect: filename=langdetect-1.0.9-py3-none-any.whl size=993227 sha256=2e2d41b4d0f3d78dcff938cd95f09580b8a9a22bd3c80c324eca96df06455abd\n",
            "  Stored in directory: /root/.cache/pip/wheels/95/03/7d/59ea870c70ce4e5a370638b5462a7711ab78fba2f655d05106\n",
            "Successfully built langdetect\n",
            "Installing collected packages: pyahocorasick, langdetect, cssselect, goose3\n",
            "Successfully installed cssselect-1.2.0 goose3-3.1.19 langdetect-1.0.9 pyahocorasick-2.1.0\n"
          ]
        }
      ],
      "source": [
        "#Instalando a biblioteca Goose3 para extrair textos da internet\n",
        "!pip install goose3\n",
        "#Importando as bibliotecas de expressão regular,  Natural Language Toolkit, string e Goose\n",
        "import re\n",
        "import nltk\n",
        "import string\n",
        "from goose3 import Goose"
      ]
    },
    {
      "cell_type": "code",
      "source": [
        "#Extraindo uma notícia com a função extratc da biblioteca Goose\n",
        "g = Goose()\n",
        "url = 'https://noticias.r7.com/economia/preco-dos-remedios-vao-subir-ate-45-a-partir-deste-domingo-29032024'\n",
        "Noticia_01 = g.extract(url)\n",
        "#Realizando um pré-processamento do texto extraido com a função cleaned_text\n",
        "Noticia_01 = Noticia_01.cleaned_text\n",
        "Noticia_01_1 = Noticia_01\n",
        "Noticia_01"
      ],
      "metadata": {
        "colab": {
          "base_uri": "https://localhost:8080/",
          "height": 123
        },
        "id": "OozkZJ421WTP",
        "outputId": "8d90b7e7-7a94-4362-ef6a-891c9efc6bbf"
      },
      "execution_count": 2,
      "outputs": [
        {
          "output_type": "execute_result",
          "data": {
            "text/plain": [
              "\"Os preços dos medicamentos vão ser reajustados em até 4,5% pelos fabricantes a partir do próximo domingo (31). O percentual foi definido pelo conselho da Câmara de Regulação do Mercado de Medicamentos e publicado na última quinta-feira (28) no DOU (Diário Oficial da União). O consumidor deve sentir o impacto no bolso dentro de duas semanas.\\n\\nO reajuste já tinha sido antecipado pelo blog Conta em Dia, do R7, já que o Sindusfarma (Sindicato da Indústria de Produtos Farmacêuticos) estimava a reposição da inflação oficial acumulada. O cálculo é baseado no IPCA (Índice Nacional de Preços ao Consumidor Amplo) do período de março de 2023 a fevereiro de 2024.\\n\\nO aumento, porém, depende numa fórmula elaborada pelo órgão ligado à Anvisa (Agência Nacional de Vigilância Sanitária). O setor farmacêutico é submetido ao controle de preços.\\n\\nSomente uma vez por ano as indústrias farmacêuticas estão autorizadas a reajustar os preços de seus produtos, para compensar os aumentos de custo de produção acumulados nos 12 meses anteriores. O reajuste deve atingir cerca de 13 mil produtos.\\n\\nConforme a resolução, o ajuste máximo de preços de medicamentos permitido será o seguinte: nível 1 (4,50%), nível 2 (4,50%) e nível 3 (4,50%). As empresas poderão fazer o reajuste no prazo de até 15 dias após a publicação da portaria, que é assinada por Daniela Marreco Cerqueira.\\n\\nSaiba os cuidados ao comprar remédios pela internet:\\n• Pacientes que utilizam o medicamento Ozempic têm sido vítimas de golpes na internet. A caneta usada para tratamento de diabetes e para emagrecimento custa, em média. R$ 1.200. Os criminosos atraem os consumidores com preços dez vezes menores, mas quem paga, nunca recebe o produto. O Jornal da Record mostra alguns cuidados ao comprar remédios pela internet para não cair em fraudes. Veja!\\n• Consulte o médico\\n\\nAntes de comprar qualquer tipo de medicamento, consulte um médico e somente tome os remédios prescritos por ele. Além de estimular a venda ilegal, o uso de medicamentos sem orientação médica pode representar riscos à saúde. Também não é recomendado tentar adquirir produtos que seus amigos ou familiares tomam, nem mesmo comprar por conta própria\\n• Compre em farmácias conhecidas\\n\\nUma norma publicada em 2009 pela Agência Nacional de Vigilância Sanitária exige que informações como razão social, nome fantasia, CNPJ da empresa e endereço completo estejam presentes em sites de farmácias e drogarias. Caso a página não apresente esses dados, desconfie. Também é importante exigir nota fiscal da farmácia, ela é o documento que oferece garantia ao consumidor\\n• Não compre em sites que não exigem receita médica\\n\\nVender medicamentos sem receita médica pela internet é considerado violação da lei. Verifique se o site exige a documentação para efetuar a venda. Além disso, é importante ficar atento com sites fraudulentos que vendem remédios que não são autorizados pela Anvisa. A importação e venda de produtos não regulamentados no Brasil é ilegal e pode colocar a saúde do paciente em risco\\n• Confira a embalagem\\n\\nNo momento do recebimento da compra, confira algumas informações que devem estar na embalagem do medicamento. Veja se o nome do remédio está bem impresso e pode ser lido com facilidade. A data de validade do produto também deve estar presente na embalagem. Ao perceber rasgos, rasuras, violação ou alguma informação que tenha sido apagada ou adulterada, não faça uso do medicamento e peça orientações de um farmacêutico\\n• Fale com o farmacêutico registrado\\n\\nCaso precise, o cliente tem o direito de exigir acesso a um farmacêutico registrado. É dever do estabelecimento disponibilizar um profissional para auxiliar o consumidor em caso de dúvidas sobre a medicação ou se ele estiver preocupado com possíveis reações do remédio no organismo\\n• Confira o domínio do site\\n\\nA norma da Anvisa indica que os sites autorizados a receber pedidos de medicamentos são aqueles com o domínio '.com.br'. Dessa forma, o órgão consegue identificar os responsáveis pelo domínio dos sites e fazer a fiscalização das páginas. As farmácias on-line também devem informar o nome comercial do produto, o número de registro na Anvisa, o nome do detentor do registro, além de outros dados\\n\\n\\n\\nFonte: Instituto Brasileiro de Ética Concorrencial (ETCO) e Conselho Regional de Farmácia do Estado do Rio de Janeiro (CRF-RJ).\\n• Confira o Jornal da Record de segunda a sexta-feira, às 19h55, e aos sábados, a partir das 19h45.\""
            ],
            "application/vnd.google.colaboratory.intrinsic+json": {
              "type": "string"
            }
          },
          "metadata": {},
          "execution_count": 2
        }
      ]
    },
    {
      "cell_type": "code",
      "source": [
        "# Retiram espaços em branco da notícia\n",
        "Noticia_01 = re.sub(r'\\s', ' ', Noticia_01)"
      ],
      "metadata": {
        "id": "e0PEBWfp1IHG"
      },
      "execution_count": 3,
      "outputs": []
    },
    {
      "cell_type": "code",
      "source": [
        "Noticia_01"
      ],
      "metadata": {
        "colab": {
          "base_uri": "https://localhost:8080/",
          "height": 123
        },
        "id": "IGNLEmNu1sou",
        "outputId": "356cfa80-8cf3-46e4-e6e2-15e984d3b893"
      },
      "execution_count": 4,
      "outputs": [
        {
          "output_type": "execute_result",
          "data": {
            "text/plain": [
              "\"Os preços dos medicamentos vão ser reajustados em até 4,5% pelos fabricantes a partir do próximo domingo (31). O percentual foi definido pelo conselho da Câmara de Regulação do Mercado de Medicamentos e publicado na última quinta-feira (28) no DOU (Diário Oficial da União). O consumidor deve sentir o impacto no bolso dentro de duas semanas.  O reajuste já tinha sido antecipado pelo blog Conta em Dia, do R7, já que o Sindusfarma (Sindicato da Indústria de Produtos Farmacêuticos) estimava a reposição da inflação oficial acumulada. O cálculo é baseado no IPCA (Índice Nacional de Preços ao Consumidor Amplo) do período de março de 2023 a fevereiro de 2024.  O aumento, porém, depende numa fórmula elaborada pelo órgão ligado à Anvisa (Agência Nacional de Vigilância Sanitária). O setor farmacêutico é submetido ao controle de preços.  Somente uma vez por ano as indústrias farmacêuticas estão autorizadas a reajustar os preços de seus produtos, para compensar os aumentos de custo de produção acumulados nos 12 meses anteriores. O reajuste deve atingir cerca de 13 mil produtos.  Conforme a resolução, o ajuste máximo de preços de medicamentos permitido será o seguinte: nível 1 (4,50%), nível 2 (4,50%) e nível 3 (4,50%). As empresas poderão fazer o reajuste no prazo de até 15 dias após a publicação da portaria, que é assinada por Daniela Marreco Cerqueira.  Saiba os cuidados ao comprar remédios pela internet: • Pacientes que utilizam o medicamento Ozempic têm sido vítimas de golpes na internet. A caneta usada para tratamento de diabetes e para emagrecimento custa, em média. R$ 1.200. Os criminosos atraem os consumidores com preços dez vezes menores, mas quem paga, nunca recebe o produto. O Jornal da Record mostra alguns cuidados ao comprar remédios pela internet para não cair em fraudes. Veja! • Consulte o médico  Antes de comprar qualquer tipo de medicamento, consulte um médico e somente tome os remédios prescritos por ele. Além de estimular a venda ilegal, o uso de medicamentos sem orientação médica pode representar riscos à saúde. Também não é recomendado tentar adquirir produtos que seus amigos ou familiares tomam, nem mesmo comprar por conta própria • Compre em farmácias conhecidas  Uma norma publicada em 2009 pela Agência Nacional de Vigilância Sanitária exige que informações como razão social, nome fantasia, CNPJ da empresa e endereço completo estejam presentes em sites de farmácias e drogarias. Caso a página não apresente esses dados, desconfie. Também é importante exigir nota fiscal da farmácia, ela é o documento que oferece garantia ao consumidor • Não compre em sites que não exigem receita médica  Vender medicamentos sem receita médica pela internet é considerado violação da lei. Verifique se o site exige a documentação para efetuar a venda. Além disso, é importante ficar atento com sites fraudulentos que vendem remédios que não são autorizados pela Anvisa. A importação e venda de produtos não regulamentados no Brasil é ilegal e pode colocar a saúde do paciente em risco • Confira a embalagem  No momento do recebimento da compra, confira algumas informações que devem estar na embalagem do medicamento. Veja se o nome do remédio está bem impresso e pode ser lido com facilidade. A data de validade do produto também deve estar presente na embalagem. Ao perceber rasgos, rasuras, violação ou alguma informação que tenha sido apagada ou adulterada, não faça uso do medicamento e peça orientações de um farmacêutico • Fale com o farmacêutico registrado  Caso precise, o cliente tem o direito de exigir acesso a um farmacêutico registrado. É dever do estabelecimento disponibilizar um profissional para auxiliar o consumidor em caso de dúvidas sobre a medicação ou se ele estiver preocupado com possíveis reações do remédio no organismo • Confira o domínio do site  A norma da Anvisa indica que os sites autorizados a receber pedidos de medicamentos são aqueles com o domínio '.com.br'. Dessa forma, o órgão consegue identificar os responsáveis pelo domínio dos sites e fazer a fiscalização das páginas. As farmácias on-line também devem informar o nome comercial do produto, o número de registro na Anvisa, o nome do detentor do registro, além de outros dados    Fonte: Instituto Brasileiro de Ética Concorrencial (ETCO) e Conselho Regional de Farmácia do Estado do Rio de Janeiro (CRF-RJ). • Confira o Jornal da Record de segunda a sexta-feira, às 19h55, e aos sábados, a partir das 19h45.\""
            ],
            "application/vnd.google.colaboratory.intrinsic+json": {
              "type": "string"
            }
          },
          "metadata": {},
          "execution_count": 4
        }
      ]
    },
    {
      "cell_type": "code",
      "source": [
        "#Instalando o pacote punkt para tokenizar a notícia\n",
        "#Instalando o pacote stopwords para remover as palvras menos relevantes da notícia\n",
        "nltk.download('punkt')\n",
        "nltk.download('stopwords')"
      ],
      "metadata": {
        "colab": {
          "base_uri": "https://localhost:8080/"
        },
        "id": "_yozPlFj1Ppy",
        "outputId": "4b966d29-f1c4-4789-a5ab-ad94c5d25bdb"
      },
      "execution_count": 5,
      "outputs": [
        {
          "output_type": "stream",
          "name": "stderr",
          "text": [
            "[nltk_data] Downloading package punkt to /root/nltk_data...\n",
            "[nltk_data]   Unzipping tokenizers/punkt.zip.\n",
            "[nltk_data] Downloading package stopwords to /root/nltk_data...\n",
            "[nltk_data]   Unzipping corpora/stopwords.zip.\n"
          ]
        },
        {
          "output_type": "execute_result",
          "data": {
            "text/plain": [
              "True"
            ]
          },
          "metadata": {},
          "execution_count": 5
        }
      ]
    },
    {
      "cell_type": "code",
      "source": [
        "# Buscando lista de stopWords em portugues\n",
        "stopwords = nltk.corpus.stopwords.words('portuguese')"
      ],
      "metadata": {
        "id": "V57PJd0m1a05"
      },
      "execution_count": 6,
      "outputs": []
    },
    {
      "cell_type": "code",
      "source": [
        "#Função para tokenizar e remover stopwords da notícia\n",
        "\n",
        "def preprocessamento(texto):\n",
        "  texto_formatado = texto.lower() #Altera texto da notícia para minusculo\n",
        "  tokens = []\n",
        "  for token in nltk.word_tokenize(texto_formatado): #Laço de repetição para separar tokens da notícia\n",
        "    tokens.append(token)\n",
        "\n",
        "  #Verifica cada palavra da notícia e a mantem caso a mesma não for stopword ou uma pontuação\n",
        "  tokens = [palavra for palavra in tokens if palavra not in stopwords and palavra not in string.punctuation]\n",
        "\n",
        "  #Concatena as palavras em forma de texto, com a adição de espaço em branco entre elas\n",
        "  texto_formatado = ' '.join([str(elemento) for elemento in tokens if not elemento.isdigit()]) #isdigit verifica se há um número nos tokens\n",
        "\n",
        "  return texto_formatado"
      ],
      "metadata": {
        "id": "HmHx2QSa128p"
      },
      "execution_count": 7,
      "outputs": []
    },
    {
      "cell_type": "code",
      "source": [
        "#Executando notícia na função preprocessamento\n",
        "texto_formatado = preprocessamento(Noticia_01)\n",
        "texto_formatado"
      ],
      "metadata": {
        "colab": {
          "base_uri": "https://localhost:8080/",
          "height": 123
        },
        "id": "hi-Rxxpi3uw7",
        "outputId": "f7e3c405-b517-47af-e0d5-e1a0e68dba60"
      },
      "execution_count": 8,
      "outputs": [
        {
          "output_type": "execute_result",
          "data": {
            "text/plain": [
              "\"preços medicamentos vão reajustados 4,5 fabricantes partir próximo domingo percentual definido conselho câmara regulação mercado medicamentos publicado última quinta-feira dou diário oficial união consumidor deve sentir impacto bolso dentro duas semanas reajuste sido antecipado blog conta dia r7 sindusfarma sindicato indústria produtos farmacêuticos estimava reposição inflação oficial acumulada cálculo baseado ipca índice nacional preços consumidor amplo período março fevereiro 2024. aumento porém depende fórmula elaborada órgão ligado anvisa agência nacional vigilância sanitária setor farmacêutico submetido controle preços somente vez ano indústrias farmacêuticas autorizadas reajustar preços produtos compensar aumentos custo produção acumulados meses anteriores reajuste deve atingir cerca mil produtos conforme resolução ajuste máximo preços medicamentos permitido seguinte nível 4,50 nível 4,50 nível 4,50 empresas poderão fazer reajuste prazo dias após publicação portaria assinada daniela marreco cerqueira saiba cuidados comprar remédios internet • pacientes utilizam medicamento ozempic têm sido vítimas golpes internet caneta usada tratamento diabetes emagrecimento custa média r 1.200. criminosos atraem consumidores preços dez vezes menores paga nunca recebe produto jornal record mostra alguns cuidados comprar remédios internet cair fraudes veja • consulte médico antes comprar qualquer tipo medicamento consulte médico somente tome remédios prescritos além estimular venda ilegal uso medicamentos orientação médica pode representar riscos saúde recomendado tentar adquirir produtos amigos familiares tomam comprar conta própria • compre farmácias conhecidas norma publicada agência nacional vigilância sanitária exige informações razão social nome fantasia cnpj empresa endereço completo presentes sites farmácias drogarias caso página apresente dados desconfie importante exigir nota fiscal farmácia documento oferece garantia consumidor • compre sites exigem receita médica vender medicamentos receita médica internet considerado violação lei verifique site exige documentação efetuar venda além disso importante ficar atento sites fraudulentos vendem remédios autorizados anvisa importação venda produtos regulamentados brasil ilegal pode colocar saúde paciente risco • confira embalagem momento recebimento compra confira algumas informações devem embalagem medicamento veja nome remédio bem impresso pode lido facilidade data validade produto deve presente embalagem perceber rasgos rasuras violação alguma informação sido apagada adulterada faça uso medicamento peça orientações farmacêutico • fale farmacêutico registrado caso precise cliente direito exigir acesso farmacêutico registrado dever estabelecimento disponibilizar profissional auxiliar consumidor caso dúvidas sobre medicação preocupado possíveis reações remédio organismo • confira domínio site norma anvisa indica sites autorizados receber pedidos medicamentos domínio '.com.br dessa forma órgão consegue identificar responsáveis domínio sites fazer fiscalização páginas farmácias on-line devem informar nome comercial produto número registro anvisa nome detentor registro além outros dados fonte instituto brasileiro ética concorrencial etco conselho regional farmácia estado rio janeiro crf-rj • confira jornal record segunda sexta-feira 19h55 sábados partir 19h45\""
            ],
            "application/vnd.google.colaboratory.intrinsic+json": {
              "type": "string"
            }
          },
          "metadata": {},
          "execution_count": 8
        }
      ]
    },
    {
      "cell_type": "code",
      "source": [
        "#Verificando a frequencia de cada palavra dentro da notícia por meio da função FreqDist ao percorrer os tokens com word_tokenize\n",
        "freq_palavra = nltk.FreqDist(nltk.word_tokenize(texto_formatado))\n",
        "freq_palavra"
      ],
      "metadata": {
        "colab": {
          "base_uri": "https://localhost:8080/"
        },
        "id": "WfxHdz2J38uq",
        "outputId": "57c53e57-eaba-4d98-a2a1-c631d1ee55d5"
      },
      "execution_count": 9,
      "outputs": [
        {
          "output_type": "execute_result",
          "data": {
            "text/plain": [
              "FreqDist({'•': 8, 'preços': 6, 'medicamentos': 6, 'produtos': 5, 'sites': 5, 'consumidor': 4, 'anvisa': 4, 'farmacêutico': 4, 'comprar': 4, 'remédios': 4, ...})"
            ]
          },
          "metadata": {},
          "execution_count": 9
        }
      ]
    },
    {
      "cell_type": "code",
      "source": [
        "#Exibindo todos os tokens da notícia\n",
        "freq_palavra.keys()"
      ],
      "metadata": {
        "colab": {
          "base_uri": "https://localhost:8080/"
        },
        "id": "AGqcBURr4O-y",
        "outputId": "50f99029-220c-4db0-ae94-aa314efcfcf8"
      },
      "execution_count": 10,
      "outputs": [
        {
          "output_type": "execute_result",
          "data": {
            "text/plain": [
              "dict_keys(['preços', 'medicamentos', 'vão', 'reajustados', '4,5', 'fabricantes', 'partir', 'próximo', 'domingo', 'percentual', 'definido', 'conselho', 'câmara', 'regulação', 'mercado', 'publicado', 'última', 'quinta-feira', 'dou', 'diário', 'oficial', 'união', 'consumidor', 'deve', 'sentir', 'impacto', 'bolso', 'dentro', 'duas', 'semanas', 'reajuste', 'sido', 'antecipado', 'blog', 'conta', 'dia', 'r7', 'sindusfarma', 'sindicato', 'indústria', 'produtos', 'farmacêuticos', 'estimava', 'reposição', 'inflação', 'acumulada', 'cálculo', 'baseado', 'ipca', 'índice', 'nacional', 'amplo', 'período', 'março', 'fevereiro', '2024.', 'aumento', 'porém', 'depende', 'fórmula', 'elaborada', 'órgão', 'ligado', 'anvisa', 'agência', 'vigilância', 'sanitária', 'setor', 'farmacêutico', 'submetido', 'controle', 'somente', 'vez', 'ano', 'indústrias', 'farmacêuticas', 'autorizadas', 'reajustar', 'compensar', 'aumentos', 'custo', 'produção', 'acumulados', 'meses', 'anteriores', 'atingir', 'cerca', 'mil', 'conforme', 'resolução', 'ajuste', 'máximo', 'permitido', 'seguinte', 'nível', '4,50', 'empresas', 'poderão', 'fazer', 'prazo', 'dias', 'após', 'publicação', 'portaria', 'assinada', 'daniela', 'marreco', 'cerqueira', 'saiba', 'cuidados', 'comprar', 'remédios', 'internet', '•', 'pacientes', 'utilizam', 'medicamento', 'ozempic', 'têm', 'vítimas', 'golpes', 'caneta', 'usada', 'tratamento', 'diabetes', 'emagrecimento', 'custa', 'média', 'r', '1.200.', 'criminosos', 'atraem', 'consumidores', 'dez', 'vezes', 'menores', 'paga', 'nunca', 'recebe', 'produto', 'jornal', 'record', 'mostra', 'alguns', 'cair', 'fraudes', 'veja', 'consulte', 'médico', 'antes', 'qualquer', 'tipo', 'tome', 'prescritos', 'além', 'estimular', 'venda', 'ilegal', 'uso', 'orientação', 'médica', 'pode', 'representar', 'riscos', 'saúde', 'recomendado', 'tentar', 'adquirir', 'amigos', 'familiares', 'tomam', 'própria', 'compre', 'farmácias', 'conhecidas', 'norma', 'publicada', 'exige', 'informações', 'razão', 'social', 'nome', 'fantasia', 'cnpj', 'empresa', 'endereço', 'completo', 'presentes', 'sites', 'drogarias', 'caso', 'página', 'apresente', 'dados', 'desconfie', 'importante', 'exigir', 'nota', 'fiscal', 'farmácia', 'documento', 'oferece', 'garantia', 'exigem', 'receita', 'vender', 'considerado', 'violação', 'lei', 'verifique', 'site', 'documentação', 'efetuar', 'disso', 'ficar', 'atento', 'fraudulentos', 'vendem', 'autorizados', 'importação', 'regulamentados', 'brasil', 'colocar', 'paciente', 'risco', 'confira', 'embalagem', 'momento', 'recebimento', 'compra', 'algumas', 'devem', 'remédio', 'bem', 'impresso', 'lido', 'facilidade', 'data', 'validade', 'presente', 'perceber', 'rasgos', 'rasuras', 'alguma', 'informação', 'apagada', 'adulterada', 'faça', 'peça', 'orientações', 'fale', 'registrado', 'precise', 'cliente', 'direito', 'acesso', 'dever', 'estabelecimento', 'disponibilizar', 'profissional', 'auxiliar', 'dúvidas', 'sobre', 'medicação', 'preocupado', 'possíveis', 'reações', 'organismo', 'domínio', 'indica', 'receber', 'pedidos', \"'.com.br\", 'dessa', 'forma', 'consegue', 'identificar', 'responsáveis', 'fiscalização', 'páginas', 'on-line', 'informar', 'comercial', 'número', 'registro', 'detentor', 'outros', 'fonte', 'instituto', 'brasileiro', 'ética', 'concorrencial', 'etco', 'regional', 'estado', 'rio', 'janeiro', 'crf-rj', 'segunda', 'sexta-feira', '19h55', 'sábados', '19h45'])"
            ]
          },
          "metadata": {},
          "execution_count": 10
        }
      ]
    },
    {
      "cell_type": "code",
      "source": [
        "#Buscando o token com maior frequência\n",
        "freq_maxima = max(freq_palavra.values())\n",
        "freq_maxima"
      ],
      "metadata": {
        "id": "ksbwriZq4Xlm",
        "colab": {
          "base_uri": "https://localhost:8080/"
        },
        "outputId": "9d24f077-939f-4cc8-c37c-2d7fe88c689e"
      },
      "execution_count": 11,
      "outputs": [
        {
          "output_type": "execute_result",
          "data": {
            "text/plain": [
              "8"
            ]
          },
          "metadata": {},
          "execution_count": 11
        }
      ]
    },
    {
      "cell_type": "code",
      "source": [
        "#Calculando os pesos de cada token com base no que possui maior frequência\n",
        "for palavra in freq_palavra.keys():\n",
        "  freq_palavra[palavra] = (freq_palavra[palavra] / freq_maxima)\n",
        "\n",
        "freq_palavra"
      ],
      "metadata": {
        "id": "zsmK8zII4f_o",
        "colab": {
          "base_uri": "https://localhost:8080/"
        },
        "outputId": "2031bdcd-47f1-4a2d-d50a-e3fa4ad7fdec"
      },
      "execution_count": 12,
      "outputs": [
        {
          "output_type": "execute_result",
          "data": {
            "text/plain": [
              "FreqDist({'•': 1.0, 'preços': 0.75, 'medicamentos': 0.75, 'produtos': 0.625, 'sites': 0.625, 'consumidor': 0.5, 'anvisa': 0.5, 'farmacêutico': 0.5, 'comprar': 0.5, 'remédios': 0.5, ...})"
            ]
          },
          "metadata": {},
          "execution_count": 12
        }
      ]
    },
    {
      "cell_type": "code",
      "source": [
        "#Separando as frases exstentes na notícia\n",
        "lista = nltk.sent_tokenize(Noticia_01)\n",
        "lista"
      ],
      "metadata": {
        "colab": {
          "base_uri": "https://localhost:8080/"
        },
        "id": "9jC_1NeP4xnv",
        "outputId": "b80737d7-29f4-49fd-a6c7-edb985b0fd14"
      },
      "execution_count": 13,
      "outputs": [
        {
          "output_type": "execute_result",
          "data": {
            "text/plain": [
              "['Os preços dos medicamentos vão ser reajustados em até 4,5% pelos fabricantes a partir do próximo domingo (31).',\n",
              " 'O percentual foi definido pelo conselho da Câmara de Regulação do Mercado de Medicamentos e publicado na última quinta-feira (28) no DOU (Diário Oficial da União).',\n",
              " 'O consumidor deve sentir o impacto no bolso dentro de duas semanas.',\n",
              " 'O reajuste já tinha sido antecipado pelo blog Conta em Dia, do R7, já que o Sindusfarma (Sindicato da Indústria de Produtos Farmacêuticos) estimava a reposição da inflação oficial acumulada.',\n",
              " 'O cálculo é baseado no IPCA (Índice Nacional de Preços ao Consumidor Amplo) do período de março de 2023 a fevereiro de 2024.',\n",
              " 'O aumento, porém, depende numa fórmula elaborada pelo órgão ligado à Anvisa (Agência Nacional de Vigilância Sanitária).',\n",
              " 'O setor farmacêutico é submetido ao controle de preços.',\n",
              " 'Somente uma vez por ano as indústrias farmacêuticas estão autorizadas a reajustar os preços de seus produtos, para compensar os aumentos de custo de produção acumulados nos 12 meses anteriores.',\n",
              " 'O reajuste deve atingir cerca de 13 mil produtos.',\n",
              " 'Conforme a resolução, o ajuste máximo de preços de medicamentos permitido será o seguinte: nível 1 (4,50%), nível 2 (4,50%) e nível 3 (4,50%).',\n",
              " 'As empresas poderão fazer o reajuste no prazo de até 15 dias após a publicação da portaria, que é assinada por Daniela Marreco Cerqueira.',\n",
              " 'Saiba os cuidados ao comprar remédios pela internet: • Pacientes que utilizam o medicamento Ozempic têm sido vítimas de golpes na internet.',\n",
              " 'A caneta usada para tratamento de diabetes e para emagrecimento custa, em média.',\n",
              " 'R$ 1.200.',\n",
              " 'Os criminosos atraem os consumidores com preços dez vezes menores, mas quem paga, nunca recebe o produto.',\n",
              " 'O Jornal da Record mostra alguns cuidados ao comprar remédios pela internet para não cair em fraudes.',\n",
              " 'Veja!',\n",
              " '• Consulte o médico  Antes de comprar qualquer tipo de medicamento, consulte um médico e somente tome os remédios prescritos por ele.',\n",
              " 'Além de estimular a venda ilegal, o uso de medicamentos sem orientação médica pode representar riscos à saúde.',\n",
              " 'Também não é recomendado tentar adquirir produtos que seus amigos ou familiares tomam, nem mesmo comprar por conta própria • Compre em farmácias conhecidas  Uma norma publicada em 2009 pela Agência Nacional de Vigilância Sanitária exige que informações como razão social, nome fantasia, CNPJ da empresa e endereço completo estejam presentes em sites de farmácias e drogarias.',\n",
              " 'Caso a página não apresente esses dados, desconfie.',\n",
              " 'Também é importante exigir nota fiscal da farmácia, ela é o documento que oferece garantia ao consumidor • Não compre em sites que não exigem receita médica  Vender medicamentos sem receita médica pela internet é considerado violação da lei.',\n",
              " 'Verifique se o site exige a documentação para efetuar a venda.',\n",
              " 'Além disso, é importante ficar atento com sites fraudulentos que vendem remédios que não são autorizados pela Anvisa.',\n",
              " 'A importação e venda de produtos não regulamentados no Brasil é ilegal e pode colocar a saúde do paciente em risco • Confira a embalagem  No momento do recebimento da compra, confira algumas informações que devem estar na embalagem do medicamento.',\n",
              " 'Veja se o nome do remédio está bem impresso e pode ser lido com facilidade.',\n",
              " 'A data de validade do produto também deve estar presente na embalagem.',\n",
              " 'Ao perceber rasgos, rasuras, violação ou alguma informação que tenha sido apagada ou adulterada, não faça uso do medicamento e peça orientações de um farmacêutico • Fale com o farmacêutico registrado  Caso precise, o cliente tem o direito de exigir acesso a um farmacêutico registrado.',\n",
              " \"É dever do estabelecimento disponibilizar um profissional para auxiliar o consumidor em caso de dúvidas sobre a medicação ou se ele estiver preocupado com possíveis reações do remédio no organismo • Confira o domínio do site  A norma da Anvisa indica que os sites autorizados a receber pedidos de medicamentos são aqueles com o domínio '.com.br'.\",\n",
              " 'Dessa forma, o órgão consegue identificar os responsáveis pelo domínio dos sites e fazer a fiscalização das páginas.',\n",
              " 'As farmácias on-line também devem informar o nome comercial do produto, o número de registro na Anvisa, o nome do detentor do registro, além de outros dados    Fonte: Instituto Brasileiro de Ética Concorrencial (ETCO) e Conselho Regional de Farmácia do Estado do Rio de Janeiro (CRF-RJ).',\n",
              " '• Confira o Jornal da Record de segunda a sexta-feira, às 19h55, e aos sábados, a partir das 19h45.']"
            ]
          },
          "metadata": {},
          "execution_count": 13
        }
      ]
    },
    {
      "cell_type": "code",
      "source": [
        "#Gerando nota de cada frase da noticia com base nos pesos de cada token\n",
        "\n",
        "nota_sentenca = {}\n",
        "for sentenca in lista:\n",
        "  for palavra in nltk.word_tokenize(sentenca.lower()): #Acessa cada palavra da noticia e as transformam em minusculo\n",
        "\n",
        "    #Verifica se o token da frase pertence a lista de frequencias pré-definida\n",
        "    if palavra in freq_palavra.keys():\n",
        "      #Verifica se a sentença já está inclusa no array, se não é inclusa, se sim é somada a frequencia da palavra\n",
        "      if sentenca not in nota_sentenca.keys():\n",
        "        nota_sentenca[sentenca] = freq_palavra[palavra]\n",
        "      else:\n",
        "        nota_sentenca[sentenca] += freq_palavra[palavra]\n",
        "nota_sentenca"
      ],
      "metadata": {
        "id": "cNKyOF5544nL",
        "colab": {
          "base_uri": "https://localhost:8080/"
        },
        "outputId": "0eaf2ba6-16de-483d-8970-cacd6a9d2282"
      },
      "execution_count": 14,
      "outputs": [
        {
          "output_type": "execute_result",
          "data": {
            "text/plain": [
              "{'Os preços dos medicamentos vão ser reajustados em até 4,5% pelos fabricantes a partir do próximo domingo (31).': 2.5,\n",
              " 'O percentual foi definido pelo conselho da Câmara de Regulação do Mercado de Medicamentos e publicado na última quinta-feira (28) no DOU (Diário Oficial da União).': 2.625,\n",
              " 'O consumidor deve sentir o impacto no bolso dentro de duas semanas.': 1.625,\n",
              " 'O reajuste já tinha sido antecipado pelo blog Conta em Dia, do R7, já que o Sindusfarma (Sindicato da Indústria de Produtos Farmacêuticos) estimava a reposição da inflação oficial acumulada.': 3.375,\n",
              " 'O cálculo é baseado no IPCA (Índice Nacional de Preços ao Consumidor Amplo) do período de março de 2023 a fevereiro de 2024.': 2.625,\n",
              " 'O aumento, porém, depende numa fórmula elaborada pelo órgão ligado à Anvisa (Agência Nacional de Vigilância Sanitária).': 2.625,\n",
              " 'O setor farmacêutico é submetido ao controle de preços.': 1.625,\n",
              " 'Somente uma vez por ano as indústrias farmacêuticas estão autorizadas a reajustar os preços de seus produtos, para compensar os aumentos de custo de produção acumulados nos 12 meses anteriores.': 3.25,\n",
              " 'O reajuste deve atingir cerca de 13 mil produtos.': 1.75,\n",
              " 'Conforme a resolução, o ajuste máximo de preços de medicamentos permitido será o seguinte: nível 1 (4,50%), nível 2 (4,50%) e nível 3 (4,50%).': 4.5,\n",
              " 'As empresas poderão fazer o reajuste no prazo de até 15 dias após a publicação da portaria, que é assinada por Daniela Marreco Cerqueira.': 2.0,\n",
              " 'Saiba os cuidados ao comprar remédios pela internet: • Pacientes que utilizam o medicamento Ozempic têm sido vítimas de golpes na internet.': 5.0,\n",
              " 'A caneta usada para tratamento de diabetes e para emagrecimento custa, em média.': 0.875,\n",
              " 'R$ 1.200.': 0.125,\n",
              " 'Os criminosos atraem os consumidores com preços dez vezes menores, mas quem paga, nunca recebe o produto.': 2.25,\n",
              " 'O Jornal da Record mostra alguns cuidados ao comprar remédios pela internet para não cair em fraudes.': 2.75,\n",
              " 'Veja!': 0.25,\n",
              " '• Consulte o médico  Antes de comprar qualquer tipo de medicamento, consulte um médico e somente tome os remédios prescritos por ele.': 4.375,\n",
              " 'Além de estimular a venda ilegal, o uso de medicamentos sem orientação médica pode representar riscos à saúde.': 3.5,\n",
              " 'Também não é recomendado tentar adquirir produtos que seus amigos ou familiares tomam, nem mesmo comprar por conta própria • Compre em farmácias conhecidas  Uma norma publicada em 2009 pela Agência Nacional de Vigilância Sanitária exige que informações como razão social, nome fantasia, CNPJ da empresa e endereço completo estejam presentes em sites de farmácias e drogarias.': 8.625,\n",
              " 'Caso a página não apresente esses dados, desconfie.': 1.0,\n",
              " 'Também é importante exigir nota fiscal da farmácia, ela é o documento que oferece garantia ao consumidor • Não compre em sites que não exigem receita médica  Vender medicamentos sem receita médica pela internet é considerado violação da lei.': 7.0,\n",
              " 'Verifique se o site exige a documentação para efetuar a venda.': 1.25,\n",
              " 'Além disso, é importante ficar atento com sites fraudulentos que vendem remédios que não são autorizados pela Anvisa.': 3.125,\n",
              " 'A importação e venda de produtos não regulamentados no Brasil é ilegal e pode colocar a saúde do paciente em risco • Confira a embalagem  No momento do recebimento da compra, confira algumas informações que devem estar na embalagem do medicamento.': 6.875,\n",
              " 'Veja se o nome do remédio está bem impresso e pode ser lido com facilidade.': 1.875,\n",
              " 'A data de validade do produto também deve estar presente na embalagem.': 1.5,\n",
              " 'Ao perceber rasgos, rasuras, violação ou alguma informação que tenha sido apagada ou adulterada, não faça uso do medicamento e peça orientações de um farmacêutico • Fale com o farmacêutico registrado  Caso precise, o cliente tem o direito de exigir acesso a um farmacêutico registrado.': 6.875,\n",
              " \"É dever do estabelecimento disponibilizar um profissional para auxiliar o consumidor em caso de dúvidas sobre a medicação ou se ele estiver preocupado com possíveis reações do remédio no organismo • Confira o domínio do site  A norma da Anvisa indica que os sites autorizados a receber pedidos de medicamentos são aqueles com o domínio '.com.br'.\": 8.0,\n",
              " 'Dessa forma, o órgão consegue identificar os responsáveis pelo domínio dos sites e fazer a fiscalização das páginas.': 2.375,\n",
              " 'As farmácias on-line também devem informar o nome comercial do produto, o número de registro na Anvisa, o nome do detentor do registro, além de outros dados    Fonte: Instituto Brasileiro de Ética Concorrencial (ETCO) e Conselho Regional de Farmácia do Estado do Rio de Janeiro (CRF-RJ).': 6.25,\n",
              " '• Confira o Jornal da Record de segunda a sexta-feira, às 19h55, e aos sábados, a partir das 19h45.': 2.875}"
            ]
          },
          "metadata": {},
          "execution_count": 14
        }
      ]
    },
    {
      "cell_type": "code",
      "source": [
        "#Importando módulo heapq\n",
        "import heapq\n",
        "melhores_sent = heapq.nlargest(3, nota_sentenca, key=nota_sentenca.get) #Ordenação das sentenças pelos 3 maiores valores"
      ],
      "metadata": {
        "id": "CErruG7x5tkZ"
      },
      "execution_count": 15,
      "outputs": []
    },
    {
      "cell_type": "code",
      "source": [
        "melhores_sent"
      ],
      "metadata": {
        "colab": {
          "base_uri": "https://localhost:8080/"
        },
        "id": "SQqgtfOg6AR2",
        "outputId": "aaa89b78-f0db-40bc-cfc9-e2318b68e6ff"
      },
      "execution_count": 16,
      "outputs": [
        {
          "output_type": "execute_result",
          "data": {
            "text/plain": [
              "['Também não é recomendado tentar adquirir produtos que seus amigos ou familiares tomam, nem mesmo comprar por conta própria • Compre em farmácias conhecidas  Uma norma publicada em 2009 pela Agência Nacional de Vigilância Sanitária exige que informações como razão social, nome fantasia, CNPJ da empresa e endereço completo estejam presentes em sites de farmácias e drogarias.',\n",
              " \"É dever do estabelecimento disponibilizar um profissional para auxiliar o consumidor em caso de dúvidas sobre a medicação ou se ele estiver preocupado com possíveis reações do remédio no organismo • Confira o domínio do site  A norma da Anvisa indica que os sites autorizados a receber pedidos de medicamentos são aqueles com o domínio '.com.br'.\",\n",
              " 'Também é importante exigir nota fiscal da farmácia, ela é o documento que oferece garantia ao consumidor • Não compre em sites que não exigem receita médica  Vender medicamentos sem receita médica pela internet é considerado violação da lei.']"
            ]
          },
          "metadata": {},
          "execution_count": 16
        }
      ]
    },
    {
      "cell_type": "code",
      "source": [
        "#Concatenando as melhores sentenças para criar o resumo da notícia\n",
        "resumo = ' '.join(melhores_sent)\n",
        "resumo"
      ],
      "metadata": {
        "colab": {
          "base_uri": "https://localhost:8080/",
          "height": 122
        },
        "id": "z4pzq1TL6BJW",
        "outputId": "4d3ffe65-33c0-4467-ef1f-f839aa906869"
      },
      "execution_count": 17,
      "outputs": [
        {
          "output_type": "execute_result",
          "data": {
            "text/plain": [
              "\"Também não é recomendado tentar adquirir produtos que seus amigos ou familiares tomam, nem mesmo comprar por conta própria • Compre em farmácias conhecidas  Uma norma publicada em 2009 pela Agência Nacional de Vigilância Sanitária exige que informações como razão social, nome fantasia, CNPJ da empresa e endereço completo estejam presentes em sites de farmácias e drogarias. É dever do estabelecimento disponibilizar um profissional para auxiliar o consumidor em caso de dúvidas sobre a medicação ou se ele estiver preocupado com possíveis reações do remédio no organismo • Confira o domínio do site  A norma da Anvisa indica que os sites autorizados a receber pedidos de medicamentos são aqueles com o domínio '.com.br'. Também é importante exigir nota fiscal da farmácia, ela é o documento que oferece garantia ao consumidor • Não compre em sites que não exigem receita médica  Vender medicamentos sem receita médica pela internet é considerado violação da lei.\""
            ],
            "application/vnd.google.colaboratory.intrinsic+json": {
              "type": "string"
            }
          },
          "metadata": {},
          "execution_count": 17
        }
      ]
    },
    {
      "cell_type": "code",
      "source": [
        "#Visualização do Resumo em HTML\n",
        "\n",
        "#Importando a classe HTML para exibir HTML no notebook\n",
        "from IPython.core.display import HTML\n",
        "Noticia_01 = ''\n",
        "\n",
        "#Cabeçalho HTML com o título da notícia\n",
        "display(HTML(f'<h1>Preços dos remédios vão subir até 4,5% a partir do próximo domingo</h1>'))\n",
        "\n",
        "for sentenca in lista:\n",
        "    #Verificando se a sentença está na lista de melhores_sent\n",
        "    if sentenca in melhores_sent:\n",
        "        #Caso a sentença estiver na lista de melhores_sent, adiciona a sentença à Noticia_01, envolvendo-a com tags HTML <mark> para destacá-la\n",
        "        Noticia_01 += str(sentenca).replace(sentenca, f\"<mark>{sentenca}</mark>\")\n",
        "    else:\n",
        "        #Do contrário, apenas adiciona a sentença à Noticia_01 sem formatação especial\n",
        "        Noticia_01 += sentenca\n",
        "\n",
        "#Exibe o conteúdo da notícia em HTML\n",
        "display(HTML(f\"\"\"{Noticia_01}\"\"\"))\n"
      ],
      "metadata": {
        "colab": {
          "base_uri": "https://localhost:8080/",
          "height": 439
        },
        "id": "8e1NOLze6MNS",
        "outputId": "3a9a3d3c-b6f7-4612-f3ad-ce78829ec1e5"
      },
      "execution_count": 18,
      "outputs": [
        {
          "output_type": "display_data",
          "data": {
            "text/plain": [
              "<IPython.core.display.HTML object>"
            ],
            "text/html": [
              "<h1>Preços dos remédios vão subir até 4,5% a partir do próximo domingo</h1>"
            ]
          },
          "metadata": {}
        },
        {
          "output_type": "display_data",
          "data": {
            "text/plain": [
              "<IPython.core.display.HTML object>"
            ],
            "text/html": [
              "Os preços dos medicamentos vão ser reajustados em até 4,5% pelos fabricantes a partir do próximo domingo (31).O percentual foi definido pelo conselho da Câmara de Regulação do Mercado de Medicamentos e publicado na última quinta-feira (28) no DOU (Diário Oficial da União).O consumidor deve sentir o impacto no bolso dentro de duas semanas.O reajuste já tinha sido antecipado pelo blog Conta em Dia, do R7, já que o Sindusfarma (Sindicato da Indústria de Produtos Farmacêuticos) estimava a reposição da inflação oficial acumulada.O cálculo é baseado no IPCA (Índice Nacional de Preços ao Consumidor Amplo) do período de março de 2023 a fevereiro de 2024.O aumento, porém, depende numa fórmula elaborada pelo órgão ligado à Anvisa (Agência Nacional de Vigilância Sanitária).O setor farmacêutico é submetido ao controle de preços.Somente uma vez por ano as indústrias farmacêuticas estão autorizadas a reajustar os preços de seus produtos, para compensar os aumentos de custo de produção acumulados nos 12 meses anteriores.O reajuste deve atingir cerca de 13 mil produtos.Conforme a resolução, o ajuste máximo de preços de medicamentos permitido será o seguinte: nível 1 (4,50%), nível 2 (4,50%) e nível 3 (4,50%).As empresas poderão fazer o reajuste no prazo de até 15 dias após a publicação da portaria, que é assinada por Daniela Marreco Cerqueira.Saiba os cuidados ao comprar remédios pela internet: • Pacientes que utilizam o medicamento Ozempic têm sido vítimas de golpes na internet.A caneta usada para tratamento de diabetes e para emagrecimento custa, em média.R$ 1.200.Os criminosos atraem os consumidores com preços dez vezes menores, mas quem paga, nunca recebe o produto.O Jornal da Record mostra alguns cuidados ao comprar remédios pela internet para não cair em fraudes.Veja!• Consulte o médico  Antes de comprar qualquer tipo de medicamento, consulte um médico e somente tome os remédios prescritos por ele.Além de estimular a venda ilegal, o uso de medicamentos sem orientação médica pode representar riscos à saúde.<mark>Também não é recomendado tentar adquirir produtos que seus amigos ou familiares tomam, nem mesmo comprar por conta própria • Compre em farmácias conhecidas  Uma norma publicada em 2009 pela Agência Nacional de Vigilância Sanitária exige que informações como razão social, nome fantasia, CNPJ da empresa e endereço completo estejam presentes em sites de farmácias e drogarias.</mark>Caso a página não apresente esses dados, desconfie.<mark>Também é importante exigir nota fiscal da farmácia, ela é o documento que oferece garantia ao consumidor • Não compre em sites que não exigem receita médica  Vender medicamentos sem receita médica pela internet é considerado violação da lei.</mark>Verifique se o site exige a documentação para efetuar a venda.Além disso, é importante ficar atento com sites fraudulentos que vendem remédios que não são autorizados pela Anvisa.A importação e venda de produtos não regulamentados no Brasil é ilegal e pode colocar a saúde do paciente em risco • Confira a embalagem  No momento do recebimento da compra, confira algumas informações que devem estar na embalagem do medicamento.Veja se o nome do remédio está bem impresso e pode ser lido com facilidade.A data de validade do produto também deve estar presente na embalagem.Ao perceber rasgos, rasuras, violação ou alguma informação que tenha sido apagada ou adulterada, não faça uso do medicamento e peça orientações de um farmacêutico • Fale com o farmacêutico registrado  Caso precise, o cliente tem o direito de exigir acesso a um farmacêutico registrado.<mark>É dever do estabelecimento disponibilizar um profissional para auxiliar o consumidor em caso de dúvidas sobre a medicação ou se ele estiver preocupado com possíveis reações do remédio no organismo • Confira o domínio do site  A norma da Anvisa indica que os sites autorizados a receber pedidos de medicamentos são aqueles com o domínio '.com.br'.</mark>Dessa forma, o órgão consegue identificar os responsáveis pelo domínio dos sites e fazer a fiscalização das páginas.As farmácias on-line também devem informar o nome comercial do produto, o número de registro na Anvisa, o nome do detentor do registro, além de outros dados    Fonte: Instituto Brasileiro de Ética Concorrencial (ETCO) e Conselho Regional de Farmácia do Estado do Rio de Janeiro (CRF-RJ).• Confira o Jornal da Record de segunda a sexta-feira, às 19h55, e aos sábados, a partir das 19h45."
            ]
          },
          "metadata": {}
        }
      ]
    },
    {
      "cell_type": "code",
      "source": [
        "#Extraindo segunda notícia com a função extratc da biblioteca Goose\n",
        "g = Goose()\n",
        "url = 'https://noticias.uol.com.br/ultimas-noticias/rfi/2024/03/27/imprensa-francesa-da-pouco-espaco-a-visita-de-macron-no-brasil-apesar-de-anfitriao-ter-caprichado-na-encenacao.htm'\n",
        "Noticia_02 = g.extract(url)\n",
        "#Realizando um pré-processamento do texto extraido com a função cleaned_text\n",
        "Noticia_02 = Noticia_02.cleaned_text\n",
        "Noticia_02_1 = Noticia_02\n",
        "Noticia_02"
      ],
      "metadata": {
        "colab": {
          "base_uri": "https://localhost:8080/",
          "height": 123
        },
        "id": "gTB1YR6NRdeu",
        "outputId": "4927a4cc-b952-4818-eca9-cf5065b930ef"
      },
      "execution_count": 67,
      "outputs": [
        {
          "output_type": "execute_result",
          "data": {
            "text/plain": [
              "'O primeiro dia da visita do presidente Emmanuel Macron ao Brasil teve pouca repercussão na imprensa francesa. Nos sites, jornais e canais de TV, as reportagens são curtas e sequer fazem parte das manchetes. O Le Monde conta que o presidente Lula e Macron não economizaram na encenação, descrita pelo correspondente como \"um pouco lunar no meio da selva\".\\n\\n\"O chefe de Estado, recém-chegado de Caiena, e seu anfitrião brasileiro, que veio recebê-lo em Belém (...) se reuniram (...) na ilha de Combu, localizada em frente à cidade, na presença do líder indígena Raoni Metuktire, que foi condecorado por Macron com a medalha de cavaleiro da Legião de Honra\", relata Le Monde. Foram as palavras de Raoni que marcaram os jornalistas e são reproduzidas na imprensa francesa: \"Considero Lula meu irmão, Macron meu filho\", disse o cacique caiapó de 93 anos.\\n\\nNa avaliação do Le Monde, \"na falta de acordo sobre as guerras na Ucrânia e na Faixa de Gaza, os dois líderes aproveitaram para mostrar uma frente comum nas questões climáticas. Analistas ouvidos pelo veículo disseram que Lula e Macron têm o interesse em comum de se posicionar na vanguarda da luta contra o desmatamento e na defesa dos direitos dos povos indígenas, a fim de proteger a Amazônia, mas também querem enviar uma mensagem aos seus respectivos eleitorados. Essa disposição compartilhada é um aspecto positivo e pode ajudar o planeta. Mas estatisticamente, o desmatamento na Guiana é insignificante em comparação com o Brasil, embora as duas situações sejam difíceis de comparar, com a maior parte da população da região francesa sendo distribuída ao longo da costa e pouco usuária da floresta, aponta a reportagem.'"
            ],
            "application/vnd.google.colaboratory.intrinsic+json": {
              "type": "string"
            }
          },
          "metadata": {},
          "execution_count": 67
        }
      ]
    },
    {
      "cell_type": "code",
      "source": [
        "# Retiram espaços em branco da segunda notícia\n",
        "Noticia_02 = re.sub(r'\\s', ' ', Noticia_02)"
      ],
      "metadata": {
        "id": "zgCcKEZnRs0K"
      },
      "execution_count": 20,
      "outputs": []
    },
    {
      "cell_type": "code",
      "source": [
        "#Executando segunda notícia na função preprocessamento\n",
        "texto_formatado_02 = preprocessamento(Noticia_02)\n",
        "texto_formatado_02"
      ],
      "metadata": {
        "colab": {
          "base_uri": "https://localhost:8080/",
          "height": 123
        },
        "id": "YgAv2r36R6vB",
        "outputId": "29b8123e-d533-4a46-f6c6-0ac7f235eca4"
      },
      "execution_count": 21,
      "outputs": [
        {
          "output_type": "execute_result",
          "data": {
            "text/plain": [
              "\"primeiro dia visita presidente emmanuel macron brasil pouca repercussão imprensa francesa sites jornais canais tv reportagens curtas sequer fazem parte manchetes le monde conta presidente lula macron economizaram encenação descrita correspondente `` pouco lunar meio selva '' `` chefe estado recém-chegado caiena anfitrião brasileiro veio recebê-lo belém ... reuniram ... ilha combu localizada frente cidade presença líder indígena raoni metuktire condecorado macron medalha cavaleiro legião honra '' relata le monde palavras raoni marcaram jornalistas reproduzidas imprensa francesa `` considero lula irmão macron filho '' disse cacique caiapó anos avaliação le monde `` falta acordo sobre guerras ucrânia faixa gaza dois líderes aproveitaram mostrar frente comum questões climáticas analistas ouvidos veículo disseram lula macron têm interesse comum posicionar vanguarda luta contra desmatamento defesa direitos povos indígenas fim proteger amazônia querem enviar mensagem respectivos eleitorados disposição compartilhada aspecto positivo pode ajudar planeta estatisticamente desmatamento guiana insignificante comparação brasil embora duas situações difíceis comparar maior parte população região francesa sendo distribuída longo costa pouco usuária floresta aponta reportagem\""
            ],
            "application/vnd.google.colaboratory.intrinsic+json": {
              "type": "string"
            }
          },
          "metadata": {},
          "execution_count": 21
        }
      ]
    },
    {
      "cell_type": "code",
      "source": [
        "#Verificando a frequencia de cada palavra dentro da segunda notícia por meio da função FreqDist ao percorrer os tokens com word_tokenize\n",
        "freq_palavra = nltk.FreqDist(nltk.word_tokenize(texto_formatado_02))\n",
        "\n",
        "#Buscando o token com maior frequência\n",
        "freq_maxima = max(freq_palavra.values())\n",
        "\n",
        "#Calculando os pesos de cada token com base no que possui maior frequência\n",
        "for palavra in freq_palavra.keys():\n",
        "  freq_palavra[palavra] = (freq_palavra[palavra] / freq_maxima)\n",
        "\n",
        "freq_palavra"
      ],
      "metadata": {
        "colab": {
          "base_uri": "https://localhost:8080/"
        },
        "id": "pPtH6zocSEaf",
        "outputId": "70b4f9e6-7e64-408c-ab04-7f5f6b2018ff"
      },
      "execution_count": 22,
      "outputs": [
        {
          "output_type": "execute_result",
          "data": {
            "text/plain": [
              "FreqDist({'``': 1.0, 'macron': 0.7142857142857143, 'francesa': 0.42857142857142855, 'le': 0.42857142857142855, 'monde': 0.42857142857142855, 'lula': 0.42857142857142855, 'presidente': 0.2857142857142857, 'brasil': 0.2857142857142857, 'imprensa': 0.2857142857142857, 'parte': 0.2857142857142857, ...})"
            ]
          },
          "metadata": {},
          "execution_count": 22
        }
      ]
    },
    {
      "cell_type": "code",
      "source": [
        "#Separando as frases exstentes na segunda notícia\n",
        "lista = nltk.sent_tokenize(Noticia_02)\n",
        "lista"
      ],
      "metadata": {
        "colab": {
          "base_uri": "https://localhost:8080/"
        },
        "id": "_u9JR071SOrh",
        "outputId": "b4c4372b-cdbc-4f1e-9923-3e84a7179a49"
      },
      "execution_count": 23,
      "outputs": [
        {
          "output_type": "execute_result",
          "data": {
            "text/plain": [
              "['O primeiro dia da visita do presidente Emmanuel Macron ao Brasil teve pouca repercussão na imprensa francesa.',\n",
              " 'Nos sites, jornais e canais de TV, as reportagens são curtas e sequer fazem parte das manchetes.',\n",
              " 'O Le Monde conta que o presidente Lula e Macron não economizaram na encenação, descrita pelo correspondente como \"um pouco lunar no meio da selva\".',\n",
              " '\"O chefe de Estado, recém-chegado de Caiena, e seu anfitrião brasileiro, que veio recebê-lo em Belém (...) se reuniram (...) na ilha de Combu, localizada em frente à cidade, na presença do líder indígena Raoni Metuktire, que foi condecorado por Macron com a medalha de cavaleiro da Legião de Honra\", relata Le Monde.',\n",
              " 'Foram as palavras de Raoni que marcaram os jornalistas e são reproduzidas na imprensa francesa: \"Considero Lula meu irmão, Macron meu filho\", disse o cacique caiapó de 93 anos.',\n",
              " 'Na avaliação do Le Monde, \"na falta de acordo sobre as guerras na Ucrânia e na Faixa de Gaza, os dois líderes aproveitaram para mostrar uma frente comum nas questões climáticas.',\n",
              " 'Analistas ouvidos pelo veículo disseram que Lula e Macron têm o interesse em comum de se posicionar na vanguarda da luta contra o desmatamento e na defesa dos direitos dos povos indígenas, a fim de proteger a Amazônia, mas também querem enviar uma mensagem aos seus respectivos eleitorados.',\n",
              " 'Essa disposição compartilhada é um aspecto positivo e pode ajudar o planeta.',\n",
              " 'Mas estatisticamente, o desmatamento na Guiana é insignificante em comparação com o Brasil, embora as duas situações sejam difíceis de comparar, com a maior parte da população da região francesa sendo distribuída ao longo da costa e pouco usuária da floresta, aponta a reportagem.']"
            ]
          },
          "metadata": {},
          "execution_count": 23
        }
      ]
    },
    {
      "cell_type": "code",
      "source": [
        "#Gerando nota de cada frase da segunda noticia com base nos pesos de cada token\n",
        "\n",
        "nota_sentenca_02 = {}\n",
        "for sentenca in lista:\n",
        "  for palavra in nltk.word_tokenize(sentenca.lower()): #Acessa cada palavra da noticia e as transformam em minusculo\n",
        "\n",
        "    #Verifica se o token da frase pertence a lista de frequencias pré-definida\n",
        "    if palavra in freq_palavra.keys():\n",
        "      #Verifica se a sentença já está inclusa no array, se não é inclusa, se sim é somada a frequencia da palavra\n",
        "      if sentenca not in nota_sentenca_02.keys():\n",
        "        nota_sentenca_02[sentenca] = freq_palavra[palavra]\n",
        "      else:\n",
        "        nota_sentenca_02[sentenca] += freq_palavra[palavra]\n",
        "nota_sentenca_02"
      ],
      "metadata": {
        "colab": {
          "base_uri": "https://localhost:8080/"
        },
        "id": "NIpQSHxDSQYW",
        "outputId": "71f4508c-db78-4260-c744-7378b2238b95"
      },
      "execution_count": 24,
      "outputs": [
        {
          "output_type": "execute_result",
          "data": {
            "text/plain": [
              "{'O primeiro dia da visita do presidente Emmanuel Macron ao Brasil teve pouca repercussão na imprensa francesa.': 2.8571428571428563,\n",
              " 'Nos sites, jornais e canais de TV, as reportagens são curtas e sequer fazem parte das manchetes.': 1.5714285714285712,\n",
              " 'O Le Monde conta que o presidente Lula e Macron não economizaram na encenação, descrita pelo correspondente como \"um pouco lunar no meio da selva\".': 4.714285714285715,\n",
              " '\"O chefe de Estado, recém-chegado de Caiena, e seu anfitrião brasileiro, que veio recebê-lo em Belém (...) se reuniram (...) na ilha de Combu, localizada em frente à cidade, na presença do líder indígena Raoni Metuktire, que foi condecorado por Macron com a medalha de cavaleiro da Legião de Honra\", relata Le Monde.': 7.142857142857145,\n",
              " 'Foram as palavras de Raoni que marcaram os jornalistas e são reproduzidas na imprensa francesa: \"Considero Lula meu irmão, Macron meu filho\", disse o cacique caiapó de 93 anos.': 4.714285714285715,\n",
              " 'Na avaliação do Le Monde, \"na falta de acordo sobre as guerras na Ucrânia e na Faixa de Gaza, os dois líderes aproveitaram para mostrar uma frente comum nas questões climáticas.': 4.428571428571429,\n",
              " 'Analistas ouvidos pelo veículo disseram que Lula e Macron têm o interesse em comum de se posicionar na vanguarda da luta contra o desmatamento e na defesa dos direitos dos povos indígenas, a fim de proteger a Amazônia, mas também querem enviar uma mensagem aos seus respectivos eleitorados.': 4.8571428571428585,\n",
              " 'Essa disposição compartilhada é um aspecto positivo e pode ajudar o planeta.': 0.9999999999999998,\n",
              " 'Mas estatisticamente, o desmatamento na Guiana é insignificante em comparação com o Brasil, embora as duas situações sejam difíceis de comparar, com a maior parte da população da região francesa sendo distribuída ao longo da costa e pouco usuária da floresta, aponta a reportagem.': 4.428571428571428}"
            ]
          },
          "metadata": {},
          "execution_count": 24
        }
      ]
    },
    {
      "cell_type": "code",
      "source": [
        "melhores_sent = heapq.nlargest(3, nota_sentenca_02, key=nota_sentenca_02.get) #Ordenação das sentenças pelos 3 maiores valores\n",
        "melhores_sent"
      ],
      "metadata": {
        "colab": {
          "base_uri": "https://localhost:8080/"
        },
        "id": "3gPdonBfSebu",
        "outputId": "b053ceb1-8709-4369-a146-144622fe3a3a"
      },
      "execution_count": 25,
      "outputs": [
        {
          "output_type": "execute_result",
          "data": {
            "text/plain": [
              "['\"O chefe de Estado, recém-chegado de Caiena, e seu anfitrião brasileiro, que veio recebê-lo em Belém (...) se reuniram (...) na ilha de Combu, localizada em frente à cidade, na presença do líder indígena Raoni Metuktire, que foi condecorado por Macron com a medalha de cavaleiro da Legião de Honra\", relata Le Monde.',\n",
              " 'Analistas ouvidos pelo veículo disseram que Lula e Macron têm o interesse em comum de se posicionar na vanguarda da luta contra o desmatamento e na defesa dos direitos dos povos indígenas, a fim de proteger a Amazônia, mas também querem enviar uma mensagem aos seus respectivos eleitorados.',\n",
              " 'O Le Monde conta que o presidente Lula e Macron não economizaram na encenação, descrita pelo correspondente como \"um pouco lunar no meio da selva\".']"
            ]
          },
          "metadata": {},
          "execution_count": 25
        }
      ]
    },
    {
      "cell_type": "code",
      "source": [
        "#Visualização do Resumo em HTML\n",
        "\n",
        "#Importando a classe HTML para exibir HTML no notebook\n",
        "from IPython.core.display import HTML\n",
        "Noticia_02 = ''\n",
        "\n",
        "#Cabeçalho HTML com o título da segunda notícia\n",
        "display(HTML(f'<h1>Imprensa francesa dá pouco espaço à visita de Macron no Brasil, apesar de anfitrião ter caprichado na encenação</h1>'))\n",
        "\n",
        "for sentenca in lista:\n",
        "    #Verificando se a sentença está na lista de melhores_sent\n",
        "    if sentenca in melhores_sent:\n",
        "        #Caso a sentença estiver na lista de melhores_sent, adiciona a sentença à Noticia_01, envolvendo-a com tags HTML <mark> para destacá-la\n",
        "        Noticia_02 += str(sentenca).replace(sentenca, f\"<mark>{sentenca}</mark>\")\n",
        "    else:\n",
        "        #Do contrário, apenas adiciona a sentença à Noticia_01 sem formatação especial\n",
        "        Noticia_02 += sentenca\n",
        "\n",
        "#Exibe o conteúdo da segunda notícia em HTML\n",
        "display(HTML(f\"\"\"{Noticia_02}\"\"\"))\n"
      ],
      "metadata": {
        "colab": {
          "base_uri": "https://localhost:8080/",
          "height": 248
        },
        "id": "IqfDt_vYSoaA",
        "outputId": "20bac3cb-4d53-40e9-d967-aeb6cbe9dfd8"
      },
      "execution_count": 26,
      "outputs": [
        {
          "output_type": "display_data",
          "data": {
            "text/plain": [
              "<IPython.core.display.HTML object>"
            ],
            "text/html": [
              "<h1>Imprensa francesa dá pouco espaço à visita de Macron no Brasil, apesar de anfitrião ter caprichado na encenação</h1>"
            ]
          },
          "metadata": {}
        },
        {
          "output_type": "display_data",
          "data": {
            "text/plain": [
              "<IPython.core.display.HTML object>"
            ],
            "text/html": [
              "O primeiro dia da visita do presidente Emmanuel Macron ao Brasil teve pouca repercussão na imprensa francesa.Nos sites, jornais e canais de TV, as reportagens são curtas e sequer fazem parte das manchetes.<mark>O Le Monde conta que o presidente Lula e Macron não economizaram na encenação, descrita pelo correspondente como \"um pouco lunar no meio da selva\".</mark><mark>\"O chefe de Estado, recém-chegado de Caiena, e seu anfitrião brasileiro, que veio recebê-lo em Belém (...) se reuniram (...) na ilha de Combu, localizada em frente à cidade, na presença do líder indígena Raoni Metuktire, que foi condecorado por Macron com a medalha de cavaleiro da Legião de Honra\", relata Le Monde.</mark>Foram as palavras de Raoni que marcaram os jornalistas e são reproduzidas na imprensa francesa: \"Considero Lula meu irmão, Macron meu filho\", disse o cacique caiapó de 93 anos.Na avaliação do Le Monde, \"na falta de acordo sobre as guerras na Ucrânia e na Faixa de Gaza, os dois líderes aproveitaram para mostrar uma frente comum nas questões climáticas.<mark>Analistas ouvidos pelo veículo disseram que Lula e Macron têm o interesse em comum de se posicionar na vanguarda da luta contra o desmatamento e na defesa dos direitos dos povos indígenas, a fim de proteger a Amazônia, mas também querem enviar uma mensagem aos seus respectivos eleitorados.</mark>Essa disposição compartilhada é um aspecto positivo e pode ajudar o planeta.Mas estatisticamente, o desmatamento na Guiana é insignificante em comparação com o Brasil, embora as duas situações sejam difíceis de comparar, com a maior parte da população da região francesa sendo distribuída ao longo da costa e pouco usuária da floresta, aponta a reportagem."
            ]
          },
          "metadata": {}
        }
      ]
    },
    {
      "cell_type": "markdown",
      "source": [
        "# Sumarização - Algoritmo de Luhn"
      ],
      "metadata": {
        "id": "RZb4bHP3XxZV"
      }
    },
    {
      "cell_type": "code",
      "source": [
        "#Criando função para calcular as notas de cada sentença da notícia\n",
        "\n",
        "def calcula_notas_sentenca(sentencas, palavras_importantes, distancia):\n",
        "    notas = []\n",
        "    indices_sentencas = 0\n",
        "    #Laço d erepetição para iterar sobre cada sentença após transforma-las em minúsculas\n",
        "    for sentenca in [nltk.word_tokenize(sentenca.lower()) for sentenca in sentencas]:\n",
        "        indice_palavra = []\n",
        "        #laço para iterar sobre cada palavra importante da notícia\n",
        "        for palavra in palavras_importantes:\n",
        "            try:\n",
        "                #Se a palavrar estiver em palavras_importantes, a mesma terá o índice adicionado a sentença\n",
        "                indice_palavra.append(sentenca.index(palavra))\n",
        "            except ValueError:\n",
        "                #Caso a mesma não existir ou gerar um erro, será dispensada\n",
        "                pass\n",
        "\n",
        "        #Ordenando as palavras através dos indices com a função sort\n",
        "        indice_palavra.sort()\n",
        "\n",
        "        #Continuando função após verificar que não há índices de palavras importantes na sentença\n",
        "        if len(indice_palavra) == 0:\n",
        "            continue\n",
        "\n",
        "        lista_grupos = []\n",
        "        grupo = [indice_palavra[0]]\n",
        "        i = 1\n",
        "        #laço de repetição para iterar sobre os índices das palavras\n",
        "        while i < len(indice_palavra):\n",
        "            #Caso a distância entre o índice de palavra atual e o anterior for menor que a distância máxima permitida o indice é adicionado ao grupo\n",
        "            if indice_palavra[i] - indice_palavra[i - 1] < distancia:\n",
        "                grupo.append(indice_palavra[i])\n",
        "            else:\n",
        "                #Do contrário, adiciona-se ao grupo à lista de grupos e inicializa um novo\n",
        "                lista_grupos.append(grupo[:])\n",
        "                grupo = [indice_palavra[i]]\n",
        "            i += 1\n",
        "        lista_grupos.append(grupo)\n",
        "\n",
        "        nota_max_grupo = 0\n",
        "        #Laço de repetição para iterar sobre os grupos de índices das palavras\n",
        "        for g in lista_grupos:\n",
        "            #Calculando o número de palavras importantes no grupo com a função len\n",
        "            palavras_importantes_no_grupo = len(g)\n",
        "            #Calculando o total de palavras no grupo\n",
        "            total_palavra_no_grupo = g[-1] - g[0] + 1\n",
        "            #Calculando a nota do grupo\n",
        "            nota = 1.0 * palavras_importantes_no_grupo**2 / total_palavra_no_grupo\n",
        "            #Atualizando a nota máxima do grupo, se a mesma for maior que a nota máxima\n",
        "            if nota > nota_max_grupo:\n",
        "                nota_max_grupo = nota\n",
        "\n",
        "            #Adicionando a nota máxima do grupo e o índice da sentença à lista de notas\n",
        "            notas.append((nota_max_grupo, indices_sentencas))\n",
        "            indices_sentencas += 1\n",
        "\n",
        "    return notas"
      ],
      "metadata": {
        "id": "4ZXW31f4YxB4"
      },
      "execution_count": 27,
      "outputs": []
    },
    {
      "cell_type": "code",
      "source": [
        "#Criando função para sumarizar a notícia\n",
        "\n",
        "def sumarizar(texto, top_n_palavras, distancia, qtd_sentencas):\n",
        "    #Tokenizando o texto da notícia\n",
        "    sentencas_originais = [sentenca for sentenca in nltk.sent_tokenize(texto)]\n",
        "\n",
        "    #Realizando o Pré-processamento de cada sentença\n",
        "    sentencas_formatadas = [preprocessamento(sentenca_original) for sentenca_original in sentencas_originais]\n",
        "\n",
        "    #Extraindo as palavras das sentenças\n",
        "    palavras = [palavra for sentenca in sentencas_formatadas for palavra in nltk.word_tokenize(sentenca)]\n",
        "\n",
        "    #Realizando o calculo da frequência de cada palavra\n",
        "    frequencia = nltk.FreqDist(palavras)\n",
        "\n",
        "    #Selecionando as top N palavras mais comuns\n",
        "    top_n_palavras = [palavra[0] for palavra in frequencia.most_common(top_n_palavras)]\n",
        "\n",
        "    #Calculando as notas das sentenças\n",
        "    notas_sentencas = calcula_notas_sentenca(sentencas_formatadas, top_n_palavras, distancia)\n",
        "\n",
        "    #Selecionando as melhores sentenças com base em suas notas\n",
        "    melhores_sentencas = heapq.nlargest(qtd_sentencas, notas_sentencas)\n",
        "    melhores_sentencas = [sentencas_originais[i] for (nota, i) in melhores_sentencas]\n",
        "\n",
        "    return sentencas_originais, melhores_sentencas, notas_sentencas"
      ],
      "metadata": {
        "id": "L5t9FA2uYx0C"
      },
      "execution_count": 50,
      "outputs": []
    },
    {
      "cell_type": "code",
      "source": [
        "#Importando a classe HTML do módulo ipywidgets para visualizar notícia\n",
        "from ipywidgets import HTML\n",
        "\n",
        "#Função para visualizar o resumo da notícia\n",
        "def visualiza_resumo(titulo, lista_sentencas, melhores_sentencas):\n",
        "    #Importando a função display_html do módulo IPython.core.display\n",
        "    from IPython.core.display import display_html\n",
        "    texto = ''\n",
        "    #Exibindo o titulo da notícia\n",
        "    display(HTML(f'<h1> Resumo de texto - {titulo}</h1>'))\n",
        "    #Iteração em um laco de repetição para verificar cada sentença do texto, se a mesma for uma das melhores sentenças é destacada na exibição\n",
        "    for i in lista_sentencas:\n",
        "        if i in melhores_sentencas:\n",
        "            texto += str(i).replace(i, f\"<mark>{i}</mark>\")  #Destacam as melhores sentenças da notícia com a tag <mark>\n",
        "        else:\n",
        "            texto += i\n",
        "    #Exibindo o texto da notícia formatado como HTML\n",
        "    display(HTML(f\"\"\" {texto} \"\"\"))"
      ],
      "metadata": {
        "id": "izJ7TUMNZ077"
      },
      "execution_count": 42,
      "outputs": []
    },
    {
      "cell_type": "code",
      "source": [
        "sentencas_originais_01, melhores_sentencas_01, notas_sentencas_01 = sumarizar(Noticia_01_1, 8, 3, 9)"
      ],
      "metadata": {
        "colab": {
          "base_uri": "https://localhost:8080/"
        },
        "id": "7GC5nkpyZoAm",
        "outputId": "62d595e6-9629-44dc-b1b0-9f66f305ae55"
      },
      "execution_count": 75,
      "outputs": [
        {
          "output_type": "stream",
          "name": "stdout",
          "text": [
            "['preços medicamentos vão reajustados 4,5 fabricantes partir próximo domingo', 'percentual definido conselho câmara regulação mercado medicamentos publicado última quinta-feira dou diário oficial união', 'consumidor deve sentir impacto bolso dentro duas semanas', 'reajuste sido antecipado blog conta dia r7 sindusfarma sindicato indústria produtos farmacêuticos estimava reposição inflação oficial acumulada', 'cálculo baseado ipca índice nacional preços consumidor amplo período março fevereiro', 'aumento porém depende fórmula elaborada órgão ligado anvisa agência nacional vigilância sanitária', 'setor farmacêutico submetido controle preços', 'somente vez ano indústrias farmacêuticas autorizadas reajustar preços produtos compensar aumentos custo produção acumulados meses anteriores', 'reajuste deve atingir cerca mil produtos', 'conforme resolução ajuste máximo preços medicamentos permitido seguinte nível 4,50 nível 4,50 nível 4,50', 'empresas poderão fazer reajuste prazo dias após publicação portaria assinada daniela marreco cerqueira', 'saiba cuidados comprar remédios internet • pacientes utilizam medicamento ozempic têm sido vítimas golpes internet', 'caneta usada tratamento diabetes emagrecimento custa média', 'r 1.200', 'criminosos atraem consumidores preços dez vezes menores paga nunca recebe produto', 'jornal record mostra alguns cuidados comprar remédios internet cair fraudes', 'veja', '• consulte médico antes comprar qualquer tipo medicamento consulte médico somente tome remédios prescritos', 'além estimular venda ilegal uso medicamentos orientação médica pode representar riscos saúde', 'recomendado tentar adquirir produtos amigos familiares tomam comprar conta própria • compre farmácias conhecidas norma publicada agência nacional vigilância sanitária exige informações razão social nome fantasia cnpj empresa endereço completo presentes sites farmácias drogarias', 'caso página apresente dados desconfie', 'importante exigir nota fiscal farmácia documento oferece garantia consumidor • compre sites exigem receita médica vender medicamentos receita médica internet considerado violação lei', 'verifique site exige documentação efetuar venda', 'além disso importante ficar atento sites fraudulentos vendem remédios autorizados anvisa', 'importação venda produtos regulamentados brasil ilegal pode colocar saúde paciente risco • confira embalagem momento recebimento compra confira algumas informações devem embalagem medicamento', 'veja nome remédio bem impresso pode lido facilidade', 'data validade produto deve presente embalagem', 'perceber rasgos rasuras violação alguma informação sido apagada adulterada faça uso medicamento peça orientações farmacêutico • fale farmacêutico registrado caso precise cliente direito exigir acesso farmacêutico registrado', \"dever estabelecimento disponibilizar profissional auxiliar consumidor caso dúvidas sobre medicação preocupado possíveis reações remédio organismo • confira domínio site norma anvisa indica sites autorizados receber pedidos medicamentos domínio '.com.br\", 'dessa forma órgão consegue identificar responsáveis domínio sites fazer fiscalização páginas', 'farmácias on-line devem informar nome comercial produto número registro anvisa nome detentor registro além outros dados fonte instituto brasileiro ética concorrencial etco conselho regional farmácia estado rio janeiro crf-rj', '• confira jornal record segunda sexta-feira 19h55 sábados partir 19h45']\n",
            "['preços', 'medicamentos', 'vão', 'reajustados', '4,5', 'fabricantes', 'partir', 'próximo', 'domingo', 'percentual', 'definido', 'conselho', 'câmara', 'regulação', 'mercado', 'medicamentos', 'publicado', 'última', 'quinta-feira', 'dou', 'diário', 'oficial', 'união', 'consumidor', 'deve', 'sentir', 'impacto', 'bolso', 'dentro', 'duas', 'semanas', 'reajuste', 'sido', 'antecipado', 'blog', 'conta', 'dia', 'r7', 'sindusfarma', 'sindicato', 'indústria', 'produtos', 'farmacêuticos', 'estimava', 'reposição', 'inflação', 'oficial', 'acumulada', 'cálculo', 'baseado', 'ipca', 'índice', 'nacional', 'preços', 'consumidor', 'amplo', 'período', 'março', 'fevereiro', 'aumento', 'porém', 'depende', 'fórmula', 'elaborada', 'órgão', 'ligado', 'anvisa', 'agência', 'nacional', 'vigilância', 'sanitária', 'setor', 'farmacêutico', 'submetido', 'controle', 'preços', 'somente', 'vez', 'ano', 'indústrias', 'farmacêuticas', 'autorizadas', 'reajustar', 'preços', 'produtos', 'compensar', 'aumentos', 'custo', 'produção', 'acumulados', 'meses', 'anteriores', 'reajuste', 'deve', 'atingir', 'cerca', 'mil', 'produtos', 'conforme', 'resolução', 'ajuste', 'máximo', 'preços', 'medicamentos', 'permitido', 'seguinte', 'nível', '4,50', 'nível', '4,50', 'nível', '4,50', 'empresas', 'poderão', 'fazer', 'reajuste', 'prazo', 'dias', 'após', 'publicação', 'portaria', 'assinada', 'daniela', 'marreco', 'cerqueira', 'saiba', 'cuidados', 'comprar', 'remédios', 'internet', '•', 'pacientes', 'utilizam', 'medicamento', 'ozempic', 'têm', 'sido', 'vítimas', 'golpes', 'internet', 'caneta', 'usada', 'tratamento', 'diabetes', 'emagrecimento', 'custa', 'média', 'r', '1.200', 'criminosos', 'atraem', 'consumidores', 'preços', 'dez', 'vezes', 'menores', 'paga', 'nunca', 'recebe', 'produto', 'jornal', 'record', 'mostra', 'alguns', 'cuidados', 'comprar', 'remédios', 'internet', 'cair', 'fraudes', 'veja', '•', 'consulte', 'médico', 'antes', 'comprar', 'qualquer', 'tipo', 'medicamento', 'consulte', 'médico', 'somente', 'tome', 'remédios', 'prescritos', 'além', 'estimular', 'venda', 'ilegal', 'uso', 'medicamentos', 'orientação', 'médica', 'pode', 'representar', 'riscos', 'saúde', 'recomendado', 'tentar', 'adquirir', 'produtos', 'amigos', 'familiares', 'tomam', 'comprar', 'conta', 'própria', '•', 'compre', 'farmácias', 'conhecidas', 'norma', 'publicada', 'agência', 'nacional', 'vigilância', 'sanitária', 'exige', 'informações', 'razão', 'social', 'nome', 'fantasia', 'cnpj', 'empresa', 'endereço', 'completo', 'presentes', 'sites', 'farmácias', 'drogarias', 'caso', 'página', 'apresente', 'dados', 'desconfie', 'importante', 'exigir', 'nota', 'fiscal', 'farmácia', 'documento', 'oferece', 'garantia', 'consumidor', '•', 'compre', 'sites', 'exigem', 'receita', 'médica', 'vender', 'medicamentos', 'receita', 'médica', 'internet', 'considerado', 'violação', 'lei', 'verifique', 'site', 'exige', 'documentação', 'efetuar', 'venda', 'além', 'disso', 'importante', 'ficar', 'atento', 'sites', 'fraudulentos', 'vendem', 'remédios', 'autorizados', 'anvisa', 'importação', 'venda', 'produtos', 'regulamentados', 'brasil', 'ilegal', 'pode', 'colocar', 'saúde', 'paciente', 'risco', '•', 'confira', 'embalagem', 'momento', 'recebimento', 'compra', 'confira', 'algumas', 'informações', 'devem', 'embalagem', 'medicamento', 'veja', 'nome', 'remédio', 'bem', 'impresso', 'pode', 'lido', 'facilidade', 'data', 'validade', 'produto', 'deve', 'presente', 'embalagem', 'perceber', 'rasgos', 'rasuras', 'violação', 'alguma', 'informação', 'sido', 'apagada', 'adulterada', 'faça', 'uso', 'medicamento', 'peça', 'orientações', 'farmacêutico', '•', 'fale', 'farmacêutico', 'registrado', 'caso', 'precise', 'cliente', 'direito', 'exigir', 'acesso', 'farmacêutico', 'registrado', 'dever', 'estabelecimento', 'disponibilizar', 'profissional', 'auxiliar', 'consumidor', 'caso', 'dúvidas', 'sobre', 'medicação', 'preocupado', 'possíveis', 'reações', 'remédio', 'organismo', '•', 'confira', 'domínio', 'site', 'norma', 'anvisa', 'indica', 'sites', 'autorizados', 'receber', 'pedidos', 'medicamentos', 'domínio', \"'.com.br\", 'dessa', 'forma', 'órgão', 'consegue', 'identificar', 'responsáveis', 'domínio', 'sites', 'fazer', 'fiscalização', 'páginas', 'farmácias', 'on-line', 'devem', 'informar', 'nome', 'comercial', 'produto', 'número', 'registro', 'anvisa', 'nome', 'detentor', 'registro', 'além', 'outros', 'dados', 'fonte', 'instituto', 'brasileiro', 'ética', 'concorrencial', 'etco', 'conselho', 'regional', 'farmácia', 'estado', 'rio', 'janeiro', 'crf-rj', '•', 'confira', 'jornal', 'record', 'segunda', 'sexta-feira', '19h55', 'sábados', 'partir', '19h45']\n",
            "<FreqDist with 302 samples and 419 outcomes>\n",
            "['•', 'preços', 'medicamentos', 'produtos', 'sites', 'consumidor', 'anvisa', 'farmacêutico']\n",
            "[(2.0, 0), (1.0, 1), (1.0, 2), (1.0, 3), (2.0, 4), (1.0, 5), (1.0, 6), (1.0, 7), (2.0, 8), (1.0, 9), (2.0, 10), (1.0, 11), (1.0, 12), (1.0, 13), (1.0, 14), (1.0, 15), (1.0, 16), (1.0, 17), (2.25, 18), (2.25, 19), (1.0, 20), (1.0, 21), (1.0, 22), (1.0, 23), (2.0, 24), (1.0, 25), (1.0, 26), (1.3333333333333333, 27), (1.3333333333333333, 28), (1.0, 29), (1.0, 30), (1.0, 31)]\n"
          ]
        }
      ]
    },
    {
      "cell_type": "code",
      "source": [
        "visualiza_resumo('Preços dos remédios vão subir até 4,5% a partir do próximo domingo', sentencas_originais_01, melhores_sentencas_01)"
      ],
      "metadata": {
        "colab": {
          "base_uri": "https://localhost:8080/",
          "height": 632,
          "referenced_widgets": [
            "9673fe8db2ca42d5996aa51a940d9bc1",
            "f58568744d814df2b238e03ba18e660c",
            "b726684166264ac8b4fdefffa15da046",
            "b3fdc9a583ef49daa4ab0194a3b7465e",
            "8fe14a7072ae488eb24a818b97123e0e",
            "9f6f77e922b34966a83eb3d6dd843171"
          ]
        },
        "id": "mCDhv8neZ2nk",
        "outputId": "5b732b30-501b-4ea2-865e-9ccfec1bd63c"
      },
      "execution_count": 76,
      "outputs": [
        {
          "output_type": "display_data",
          "data": {
            "text/plain": [
              "HTML(value='<h1> Resumo de texto - Preços dos remédios vão subir até 4,5% a partir do próximo domingo</h1>')"
            ],
            "application/vnd.jupyter.widget-view+json": {
              "version_major": 2,
              "version_minor": 0,
              "model_id": "9673fe8db2ca42d5996aa51a940d9bc1"
            }
          },
          "metadata": {}
        },
        {
          "output_type": "display_data",
          "data": {
            "text/plain": [
              "HTML(value=\" <mark>Os preços dos medicamentos vão ser reajustados em até 4,5% pelos fabricantes a partir do pr…"
            ],
            "application/vnd.jupyter.widget-view+json": {
              "version_major": 2,
              "version_minor": 0,
              "model_id": "b3fdc9a583ef49daa4ab0194a3b7465e"
            }
          },
          "metadata": {}
        }
      ]
    },
    {
      "cell_type": "code",
      "source": [
        "sentencas_originais_02, melhores_sentencas_02, notas_sentencas_02 = sumarizar(Noticia_02_1, 2, 1, 4)"
      ],
      "metadata": {
        "colab": {
          "base_uri": "https://localhost:8080/"
        },
        "id": "GBF_-jysZxJm",
        "outputId": "5ea17a8e-c0a7-4b3a-b1b9-e4c07a2447c3"
      },
      "execution_count": 73,
      "outputs": [
        {
          "output_type": "stream",
          "name": "stdout",
          "text": [
            "['primeiro dia visita presidente emmanuel macron brasil pouca repercussão imprensa francesa', 'sites jornais canais tv reportagens curtas sequer fazem parte manchetes', \"le monde conta presidente lula macron economizaram encenação descrita correspondente `` pouco lunar meio selva ''\", \"`` chefe estado recém-chegado caiena anfitrião brasileiro veio recebê-lo belém ... reuniram ... ilha combu localizada frente cidade presença líder indígena raoni metuktire condecorado macron medalha cavaleiro legião honra '' relata le monde\", \"palavras raoni marcaram jornalistas reproduzidas imprensa francesa `` considero lula irmão macron filho '' disse cacique caiapó anos\", 'avaliação le monde `` falta acordo sobre guerras ucrânia faixa gaza dois líderes aproveitaram mostrar frente comum questões climáticas', 'analistas ouvidos veículo disseram lula macron têm interesse comum posicionar vanguarda luta contra desmatamento defesa direitos povos indígenas fim proteger amazônia querem enviar mensagem respectivos eleitorados', 'disposição compartilhada aspecto positivo pode ajudar planeta', 'estatisticamente desmatamento guiana insignificante comparação brasil embora duas situações difíceis comparar maior parte população região francesa sendo distribuída longo costa pouco usuária floresta aponta reportagem']\n",
            "['primeiro', 'dia', 'visita', 'presidente', 'emmanuel', 'macron', 'brasil', 'pouca', 'repercussão', 'imprensa', 'francesa', 'sites', 'jornais', 'canais', 'tv', 'reportagens', 'curtas', 'sequer', 'fazem', 'parte', 'manchetes', 'le', 'monde', 'conta', 'presidente', 'lula', 'macron', 'economizaram', 'encenação', 'descrita', 'correspondente', '``', 'pouco', 'lunar', 'meio', 'selva', '``', '``', 'chefe', 'estado', 'recém-chegado', 'caiena', 'anfitrião', 'brasileiro', 'veio', 'recebê-lo', 'belém', '...', 'reuniram', '...', 'ilha', 'combu', 'localizada', 'frente', 'cidade', 'presença', 'líder', 'indígena', 'raoni', 'metuktire', 'condecorado', 'macron', 'medalha', 'cavaleiro', 'legião', 'honra', '``', 'relata', 'le', 'monde', 'palavras', 'raoni', 'marcaram', 'jornalistas', 'reproduzidas', 'imprensa', 'francesa', '``', 'considero', 'lula', 'irmão', 'macron', 'filho', '``', 'disse', 'cacique', 'caiapó', 'anos', 'avaliação', 'le', 'monde', '``', 'falta', 'acordo', 'sobre', 'guerras', 'ucrânia', 'faixa', 'gaza', 'dois', 'líderes', 'aproveitaram', 'mostrar', 'frente', 'comum', 'questões', 'climáticas', 'analistas', 'ouvidos', 'veículo', 'disseram', 'lula', 'macron', 'têm', 'interesse', 'comum', 'posicionar', 'vanguarda', 'luta', 'contra', 'desmatamento', 'defesa', 'direitos', 'povos', 'indígenas', 'fim', 'proteger', 'amazônia', 'querem', 'enviar', 'mensagem', 'respectivos', 'eleitorados', 'disposição', 'compartilhada', 'aspecto', 'positivo', 'pode', 'ajudar', 'planeta', 'estatisticamente', 'desmatamento', 'guiana', 'insignificante', 'comparação', 'brasil', 'embora', 'duas', 'situações', 'difíceis', 'comparar', 'maior', 'parte', 'população', 'região', 'francesa', 'sendo', 'distribuída', 'longo', 'costa', 'pouco', 'usuária', 'floresta', 'aponta', 'reportagem']\n",
            "<FreqDist with 137 samples and 165 outcomes>\n",
            "['``', 'macron']\n",
            "[(1.0, 0), (1.0, 1), (1.0, 2), (1.0, 3), (1.0, 4), (1.0, 5), (1.0, 6), (1.0, 7), (1.0, 8)]\n"
          ]
        }
      ]
    },
    {
      "cell_type": "code",
      "source": [
        "visualiza_resumo('Imprensa francesa dá pouco espaço à visita de Macron no Brasil, apesar de anfitrião ter caprichado na encenação', sentencas_originais_02, melhores_sentencas_02)"
      ],
      "metadata": {
        "colab": {
          "base_uri": "https://localhost:8080/",
          "height": 324,
          "referenced_widgets": [
            "3f263aac6286459687ea429082510ee7",
            "7344305ffc1a4b20a68e421b9401001d",
            "c9a224cd66284ba98c1fa8d3e326e18e",
            "9d94a5d97e764637813243ffcdefb52d",
            "8d3783f8d77e45c8b950f8e0d7a1e27a",
            "ef02b6f946454690b96dfadc3197d3aa"
          ]
        },
        "id": "Sgz2c60ZZJCi",
        "outputId": "c23fed2b-792b-4eb5-abf0-b978019bf14e"
      },
      "execution_count": 74,
      "outputs": [
        {
          "output_type": "display_data",
          "data": {
            "text/plain": [
              "HTML(value='<h1> Resumo de texto - Imprensa francesa dá pouco espaço à visita de Macron no Brasil, apesar de a…"
            ],
            "application/vnd.jupyter.widget-view+json": {
              "version_major": 2,
              "version_minor": 0,
              "model_id": "3f263aac6286459687ea429082510ee7"
            }
          },
          "metadata": {}
        },
        {
          "output_type": "display_data",
          "data": {
            "text/plain": [
              "HTML(value=' O primeiro dia da visita do presidente Emmanuel Macron ao Brasil teve pouca repercussão na impren…"
            ],
            "application/vnd.jupyter.widget-view+json": {
              "version_major": 2,
              "version_minor": 0,
              "model_id": "9d94a5d97e764637813243ffcdefb52d"
            }
          },
          "metadata": {}
        }
      ]
    },
    {
      "cell_type": "markdown",
      "source": [
        "# Sumarização com TextRank"
      ],
      "metadata": {
        "id": "eYezxP4ocDY6"
      }
    },
    {
      "cell_type": "code",
      "source": [
        "#Instalando a biblioteca SentenceTransformers para trabalhar com representações de sentenças baseados em transformers\n",
        "pip install sentence-transformers"
      ],
      "metadata": {
        "id": "p6Re82bvcTgH"
      },
      "execution_count": null,
      "outputs": []
    },
    {
      "cell_type": "code",
      "source": [
        "#Importando as bibliotecas SentenceTransformer, cosine_similarity para calcular a similaridade do cosseno e nx para estudar estrutura de redes de grafo\n",
        "from sentence_transformers import SentenceTransformer\n",
        "from sklearn.metrics.pairwise import cosine_similarity\n",
        "from nltk.tokenize import sent_tokenize\n",
        "import networkx as nx\n",
        "\n",
        "#Criando função para gerar o resumo da notícia\n",
        "def textrank_summarize(text, num_sentences):\n",
        "    #Realizando a tokenização do texto\n",
        "    sentences = sent_tokenize(text)\n",
        "\n",
        "    #Carregando o modelo de incorporação de sentenças pré-treinado\n",
        "    model = SentenceTransformer('bert-base-nli-mean-tokens')\n",
        "\n",
        "    #Realizando a codificação em embeddings\n",
        "    sentence_embeddings = model.encode(sentences)\n",
        "\n",
        "    #Realizando o Cálculo da similaridade de cosseno\n",
        "    similarity_matrix = cosine_similarity(sentence_embeddings)\n",
        "\n",
        "    #Craindo o grafo com base na matriz de similaridade\n",
        "    nx_graph = nx.from_numpy_array(similarity_matrix)\n",
        "\n",
        "    #Aplicando o algoritmo PageRank para calcular as pontuações de importância\n",
        "    scores = nx.pagerank(nx_graph)\n",
        "\n",
        "    #Ordenando as melhores sentenças com base nas pontuações de importância\n",
        "    ranked_sentences = sorted(((scores[i],s) for i,s in enumerate(sentences)), reverse=True)\n",
        "\n",
        "    #Selecionando as principais sentenças\n",
        "    summary = ' '.join([s for _,s in ranked_sentences[:num_sentences]])\n",
        "\n",
        "    return summary"
      ],
      "metadata": {
        "id": "gwnp8i0ed2_Q"
      },
      "execution_count": 89,
      "outputs": []
    },
    {
      "cell_type": "code",
      "source": [
        "textRank_01 = textrank_summarize(Noticia_01_1, 6)\n",
        "textRank_01"
      ],
      "metadata": {
        "id": "wdQsJ9geepXJ",
        "colab": {
          "base_uri": "https://localhost:8080/",
          "height": 105
        },
        "outputId": "833405b3-32fd-452a-a595-0a9412457d04"
      },
      "execution_count": 90,
      "outputs": [
        {
          "output_type": "execute_result",
          "data": {
            "text/plain": [
              "'A data de validade do produto também deve estar presente na embalagem. Os criminosos atraem os consumidores com preços dez vezes menores, mas quem paga, nunca recebe o produto. O aumento, porém, depende numa fórmula elaborada pelo órgão ligado à Anvisa (Agência Nacional de Vigilância Sanitária). A importação e venda de produtos não regulamentados no Brasil é ilegal e pode colocar a saúde do paciente em risco\\n• Confira a embalagem\\n\\nNo momento do recebimento da compra, confira algumas informações que devem estar na embalagem do medicamento. Veja se o nome do remédio está bem impresso e pode ser lido com facilidade. O percentual foi definido pelo conselho da Câmara de Regulação do Mercado de Medicamentos e publicado na última quinta-feira (28) no DOU (Diário Oficial da União).'"
            ],
            "application/vnd.google.colaboratory.intrinsic+json": {
              "type": "string"
            }
          },
          "metadata": {},
          "execution_count": 90
        }
      ]
    },
    {
      "cell_type": "code",
      "source": [
        "visualiza_resumo('Preços dos remédios vão subir até 4,5% a partir do próximo domingo', sentencas_originais_01, textRank_01)"
      ],
      "metadata": {
        "colab": {
          "base_uri": "https://localhost:8080/",
          "height": 632,
          "referenced_widgets": [
            "64eba2c0fc524fa9ba4dfca223c10fdb",
            "094c6481f5aa47f997da5b166493a3b2",
            "414f44b0be2a4a06b54e17f3af95d487",
            "e57e746889a747ff8e934f4365232e64",
            "8536b14687b947919ce609323b0c0f73",
            "81bec010ff4a4de9b7bf985565ab4862"
          ]
        },
        "id": "XgOtytz3fSM1",
        "outputId": "48f9d2b0-e990-4894-d378-2334ac957f01"
      },
      "execution_count": 91,
      "outputs": [
        {
          "output_type": "display_data",
          "data": {
            "text/plain": [
              "HTML(value='<h1> Resumo de texto - Preços dos remédios vão subir até 4,5% a partir do próximo domingo</h1>')"
            ],
            "application/vnd.jupyter.widget-view+json": {
              "version_major": 2,
              "version_minor": 0,
              "model_id": "64eba2c0fc524fa9ba4dfca223c10fdb"
            }
          },
          "metadata": {}
        },
        {
          "output_type": "display_data",
          "data": {
            "text/plain": [
              "HTML(value=\" Os preços dos medicamentos vão ser reajustados em até 4,5% pelos fabricantes a partir do próximo …"
            ],
            "application/vnd.jupyter.widget-view+json": {
              "version_major": 2,
              "version_minor": 0,
              "model_id": "e57e746889a747ff8e934f4365232e64"
            }
          },
          "metadata": {}
        }
      ]
    },
    {
      "cell_type": "code",
      "source": [
        "textRank_02 = textrank_summarize(Noticia_02_1, 3)\n",
        "textRank_02"
      ],
      "metadata": {
        "colab": {
          "base_uri": "https://localhost:8080/",
          "height": 88
        },
        "id": "PATr-3QVeRXq",
        "outputId": "7fd44874-ca3b-4d28-f5d1-4b6fa4b68f7b"
      },
      "execution_count": 85,
      "outputs": [
        {
          "output_type": "execute_result",
          "data": {
            "text/plain": [
              "'Mas estatisticamente, o desmatamento na Guiana é insignificante em comparação com o Brasil, embora as duas situações sejam difíceis de comparar, com a maior parte da população da região francesa sendo distribuída ao longo da costa e pouco usuária da floresta, aponta a reportagem. O Le Monde conta que o presidente Lula e Macron não economizaram na encenação, descrita pelo correspondente como \"um pouco lunar no meio da selva\". Na avaliação do Le Monde, \"na falta de acordo sobre as guerras na Ucrânia e na Faixa de Gaza, os dois líderes aproveitaram para mostrar uma frente comum nas questões climáticas.'"
            ],
            "application/vnd.google.colaboratory.intrinsic+json": {
              "type": "string"
            }
          },
          "metadata": {},
          "execution_count": 85
        }
      ]
    },
    {
      "cell_type": "code",
      "source": [
        "visualiza_resumo('Imprensa francesa dá pouco espaço à visita de Macron no Brasil, apesar de anfitrião ter caprichado na encenação', sentencas_originais_02, textRank_02)"
      ],
      "metadata": {
        "colab": {
          "base_uri": "https://localhost:8080/",
          "height": 324,
          "referenced_widgets": [
            "96de4c82a9774a3785249d2dc5ae716c",
            "734f824d21ae4d0e9abc27eed3d8ba4f",
            "cb2430aadbf64e328b82ec34de5716b4",
            "f59cae167aa34a15be0c8b176f438b9a",
            "b3ac03a70cb149ecb05c1ee6acf0112c",
            "4a456502b3604710a336e562b1782834"
          ]
        },
        "id": "rA77MuHXeYqu",
        "outputId": "d73ac6dc-1083-4be1-ee74-160694fd336d"
      },
      "execution_count": 86,
      "outputs": [
        {
          "output_type": "display_data",
          "data": {
            "text/plain": [
              "HTML(value='<h1> Resumo de texto - Imprensa francesa dá pouco espaço à visita de Macron no Brasil, apesar de a…"
            ],
            "application/vnd.jupyter.widget-view+json": {
              "version_major": 2,
              "version_minor": 0,
              "model_id": "96de4c82a9774a3785249d2dc5ae716c"
            }
          },
          "metadata": {}
        },
        {
          "output_type": "display_data",
          "data": {
            "text/plain": [
              "HTML(value=' O primeiro dia da visita do presidente Emmanuel Macron ao Brasil teve pouca repercussão na impren…"
            ],
            "application/vnd.jupyter.widget-view+json": {
              "version_major": 2,
              "version_minor": 0,
              "model_id": "f59cae167aa34a15be0c8b176f438b9a"
            }
          },
          "metadata": {}
        }
      ]
    }
  ]
}