{
  "nbformat": 4,
  "nbformat_minor": 0,
  "metadata": {
    "colab": {
      "provenance": [],
      "authorship_tag": "ABX9TyN/PFor3kT5tiIHK3r7Hqqu",
      "include_colab_link": true
    },
    "kernelspec": {
      "name": "python3",
      "display_name": "Python 3"
    },
    "language_info": {
      "name": "python"
    }
  },
  "cells": [
    {
      "cell_type": "markdown",
      "metadata": {
        "id": "view-in-github",
        "colab_type": "text"
      },
      "source": [
        "<a href=\"https://colab.research.google.com/github/IsadoraPrevitalle/ProcessamentoLinguagemNatural/blob/main/Sumariza%C3%A7%C3%A3o_Frequencia.ipynb\" target=\"_parent\"><img src=\"https://colab.research.google.com/assets/colab-badge.svg\" alt=\"Open In Colab\"/></a>"
      ]
    },
    {
      "cell_type": "code",
      "execution_count": null,
      "metadata": {
        "id": "7Q_yjPZv0Lgb"
      },
      "outputs": [],
      "source": [
        "#Importando as bibliotecas de expressão regular,\n",
        "import re\n",
        "import nltk\n",
        "import string"
      ]
    },
    {
      "cell_type": "code",
      "source": [
        "texto = '''A educação é um dos pilares fundamentais para o desenvolvimento de uma sociedade.\n",
        "Por meio dela, as pessoas adquirem conhecimento, habilidades e valores que são essenciais para sua participação ativa na comunidade e no mercado de trabalho.\n",
        "No entanto, o acesso à educação nem sempre é equitativo.\n",
        "Em muitas partes do mundo, há disparidades significativas no acesso à educação de qualidade, com grupos marginalizados enfrentando barreiras adicionais.\n",
        "Para combater essa desigualdade, políticas públicas voltadas para democratização do acesso à educação são essenciais.\n",
        "Isso inclui não apenas o acesso físico às escolas, mas também a qualidade do ensino oferecido.\n",
        "investimentos em infraestrutura educacional, capacitação de professores e desenvolvimento de currículos inclusivos são medidas importantes nesse sentido.'''"
      ],
      "metadata": {
        "id": "UC2fwQee0hy9"
      },
      "execution_count": null,
      "outputs": []
    },
    {
      "cell_type": "code",
      "source": [
        "texto"
      ],
      "metadata": {
        "colab": {
          "base_uri": "https://localhost:8080/",
          "height": 105
        },
        "id": "OozkZJ421WTP",
        "outputId": "c86edc0c-b9cc-455f-ac4a-7f8dac2c2510"
      },
      "execution_count": null,
      "outputs": [
        {
          "output_type": "execute_result",
          "data": {
            "text/plain": [
              "'A educação é um dos pilares fundamentais para o desenvolvimento de uma sociedade.\\nPor meio dela, as pessoas adquirem conhecimento, habilidades e valores que são essenciais para sua participação ativa na comunidade e no mercado de trabalho.\\nNo entanto, o acesso à educação nem sempre é equitativo.\\nEm muitas partes do mundo, há disparidades significativas no acesso à educação de qualidade, com grupos marginalizados enfrentando barreiras adicionais.\\nPara combater essa desigualdade, políticas públicas voltadas para democratização do acesso à educação são essenciais.\\nIsso inclui não apenas o acesso físico às escolas, mas também a qualidade do ensino oferecido.\\ninvestimentos em infraestrutura educacional, capacitação de professores e desenvolvimento de currículos inclusivos são medidas importantes nesse sentido.'"
            ],
            "application/vnd.google.colaboratory.intrinsic+json": {
              "type": "string"
            }
          },
          "metadata": {},
          "execution_count": 3
        }
      ]
    },
    {
      "cell_type": "code",
      "source": [
        "# Retiram espaços em branco\n",
        "texto = re.sub(r'\\s', ' ', texto)"
      ],
      "metadata": {
        "id": "e0PEBWfp1IHG"
      },
      "execution_count": null,
      "outputs": []
    },
    {
      "cell_type": "code",
      "source": [
        "texto"
      ],
      "metadata": {
        "colab": {
          "base_uri": "https://localhost:8080/",
          "height": 105
        },
        "id": "IGNLEmNu1sou",
        "outputId": "9bac14d7-8951-4e25-ddab-8fbf01dff4b2"
      },
      "execution_count": null,
      "outputs": [
        {
          "output_type": "execute_result",
          "data": {
            "text/plain": [
              "'A educação é um dos pilares fundamentais para o desenvolvimento de uma sociedade. Por meio dela, as pessoas adquirem conhecimento, habilidades e valores que são essenciais para sua participação ativa na comunidade e no mercado de trabalho. No entanto, o acesso à educação nem sempre é equitativo. Em muitas partes do mundo, há disparidades significativas no acesso à educação de qualidade, com grupos marginalizados enfrentando barreiras adicionais. Para combater essa desigualdade, políticas públicas voltadas para democratização do acesso à educação são essenciais. Isso inclui não apenas o acesso físico às escolas, mas também a qualidade do ensino oferecido. investimentos em infraestrutura educacional, capacitação de professores e desenvolvimento de currículos inclusivos são medidas importantes nesse sentido.'"
            ],
            "application/vnd.google.colaboratory.intrinsic+json": {
              "type": "string"
            }
          },
          "metadata": {},
          "execution_count": 5
        }
      ]
    },
    {
      "cell_type": "code",
      "source": [
        "nltk.download('punkt')\n",
        "nltk.download('stopwords')"
      ],
      "metadata": {
        "colab": {
          "base_uri": "https://localhost:8080/"
        },
        "id": "_yozPlFj1Ppy",
        "outputId": "abbcfd3a-b6f3-43f0-e3df-dda0ab4783f7"
      },
      "execution_count": null,
      "outputs": [
        {
          "output_type": "stream",
          "name": "stderr",
          "text": [
            "[nltk_data] Downloading package punkt to /root/nltk_data...\n",
            "[nltk_data]   Unzipping tokenizers/punkt.zip.\n",
            "[nltk_data] Downloading package stopwords to /root/nltk_data...\n",
            "[nltk_data]   Unzipping corpora/stopwords.zip.\n"
          ]
        },
        {
          "output_type": "execute_result",
          "data": {
            "text/plain": [
              "True"
            ]
          },
          "metadata": {},
          "execution_count": 6
        }
      ]
    },
    {
      "cell_type": "code",
      "source": [
        "# Busca lista de stopWords em portugues\n",
        "stopwords = nltk.corpus.stopwords.words('portuguese')\n",
        "print(stopwords)"
      ],
      "metadata": {
        "colab": {
          "base_uri": "https://localhost:8080/"
        },
        "id": "V57PJd0m1a05",
        "outputId": "dcb4354c-7d94-4ba1-9f28-293b3a2388c0"
      },
      "execution_count": null,
      "outputs": [
        {
          "output_type": "stream",
          "name": "stdout",
          "text": [
            "['a', 'à', 'ao', 'aos', 'aquela', 'aquelas', 'aquele', 'aqueles', 'aquilo', 'as', 'às', 'até', 'com', 'como', 'da', 'das', 'de', 'dela', 'delas', 'dele', 'deles', 'depois', 'do', 'dos', 'e', 'é', 'ela', 'elas', 'ele', 'eles', 'em', 'entre', 'era', 'eram', 'éramos', 'essa', 'essas', 'esse', 'esses', 'esta', 'está', 'estamos', 'estão', 'estar', 'estas', 'estava', 'estavam', 'estávamos', 'este', 'esteja', 'estejam', 'estejamos', 'estes', 'esteve', 'estive', 'estivemos', 'estiver', 'estivera', 'estiveram', 'estivéramos', 'estiverem', 'estivermos', 'estivesse', 'estivessem', 'estivéssemos', 'estou', 'eu', 'foi', 'fomos', 'for', 'fora', 'foram', 'fôramos', 'forem', 'formos', 'fosse', 'fossem', 'fôssemos', 'fui', 'há', 'haja', 'hajam', 'hajamos', 'hão', 'havemos', 'haver', 'hei', 'houve', 'houvemos', 'houver', 'houvera', 'houverá', 'houveram', 'houvéramos', 'houverão', 'houverei', 'houverem', 'houveremos', 'houveria', 'houveriam', 'houveríamos', 'houvermos', 'houvesse', 'houvessem', 'houvéssemos', 'isso', 'isto', 'já', 'lhe', 'lhes', 'mais', 'mas', 'me', 'mesmo', 'meu', 'meus', 'minha', 'minhas', 'muito', 'na', 'não', 'nas', 'nem', 'no', 'nos', 'nós', 'nossa', 'nossas', 'nosso', 'nossos', 'num', 'numa', 'o', 'os', 'ou', 'para', 'pela', 'pelas', 'pelo', 'pelos', 'por', 'qual', 'quando', 'que', 'quem', 'são', 'se', 'seja', 'sejam', 'sejamos', 'sem', 'ser', 'será', 'serão', 'serei', 'seremos', 'seria', 'seriam', 'seríamos', 'seu', 'seus', 'só', 'somos', 'sou', 'sua', 'suas', 'também', 'te', 'tem', 'tém', 'temos', 'tenha', 'tenham', 'tenhamos', 'tenho', 'terá', 'terão', 'terei', 'teremos', 'teria', 'teriam', 'teríamos', 'teu', 'teus', 'teve', 'tinha', 'tinham', 'tínhamos', 'tive', 'tivemos', 'tiver', 'tivera', 'tiveram', 'tivéramos', 'tiverem', 'tivermos', 'tivesse', 'tivessem', 'tivéssemos', 'tu', 'tua', 'tuas', 'um', 'uma', 'você', 'vocês', 'vos']\n"
          ]
        }
      ]
    },
    {
      "cell_type": "code",
      "source": [
        "len(stopwords)"
      ],
      "metadata": {
        "colab": {
          "base_uri": "https://localhost:8080/"
        },
        "id": "TD-NOWg31thb",
        "outputId": "eb85a12b-88d5-4436-e79b-73fbf5eaf835"
      },
      "execution_count": null,
      "outputs": [
        {
          "output_type": "execute_result",
          "data": {
            "text/plain": [
              "207"
            ]
          },
          "metadata": {},
          "execution_count": 8
        }
      ]
    },
    {
      "cell_type": "code",
      "source": [
        "string.punctuation"
      ],
      "metadata": {
        "colab": {
          "base_uri": "https://localhost:8080/",
          "height": 36
        },
        "id": "deg-w9DQ1yCJ",
        "outputId": "b5a57a22-0c97-4617-adbf-ab9db85b59e0"
      },
      "execution_count": null,
      "outputs": [
        {
          "output_type": "execute_result",
          "data": {
            "text/plain": [
              "'!\"#$%&\\'()*+,-./:;<=>?@[\\\\]^_`{|}~'"
            ],
            "application/vnd.google.colaboratory.intrinsic+json": {
              "type": "string"
            }
          },
          "metadata": {},
          "execution_count": 9
        }
      ]
    },
    {
      "cell_type": "code",
      "source": [
        "def preprocessamento(texto):\n",
        "  texto_formatado = texto.lower() #Deixa texto em minusculo\n",
        "  tokens = []\n",
        "  for token in nltk.word_tokenize(texto_formatado): #Função quebra as palavras de um texto, cada palavra fuca em uma linha\n",
        "    tokens.append(token)\n",
        "\n",
        "  #Verifica cada palavra e a mantem caso a mesma não for stopword ou uma pontuação\n",
        "  tokens = [palavra for palavra in tokens if palavra not in stopwords and palavra not in string.punctuation]\n",
        "\n",
        "  #Concatena as palavras em forma de texto, com a adição de espaço em branco entre elas\n",
        "  texto_formatado = ' '.join([str(elemento) for elemento in tokens if not elemento.isdigit()]) #Verifica se é um numero (digito)\n",
        "\n",
        "  return texto_formatado"
      ],
      "metadata": {
        "id": "HmHx2QSa128p"
      },
      "execution_count": null,
      "outputs": []
    },
    {
      "cell_type": "code",
      "source": [
        "texto_formatado = preprocessamento(texto)\n",
        "texto_formatado"
      ],
      "metadata": {
        "colab": {
          "base_uri": "https://localhost:8080/",
          "height": 88
        },
        "id": "hi-Rxxpi3uw7",
        "outputId": "fbfa5997-14b7-4eaa-a323-49f1816980d2"
      },
      "execution_count": null,
      "outputs": [
        {
          "output_type": "execute_result",
          "data": {
            "text/plain": [
              "'educação pilares fundamentais desenvolvimento sociedade meio pessoas adquirem conhecimento habilidades valores essenciais participação ativa comunidade mercado trabalho entanto acesso educação sempre equitativo muitas partes mundo disparidades significativas acesso educação qualidade grupos marginalizados enfrentando barreiras adicionais combater desigualdade políticas públicas voltadas democratização acesso educação essenciais inclui apenas acesso físico escolas qualidade ensino oferecido investimentos infraestrutura educacional capacitação professores desenvolvimento currículos inclusivos medidas importantes nesse sentido'"
            ],
            "application/vnd.google.colaboratory.intrinsic+json": {
              "type": "string"
            }
          },
          "metadata": {},
          "execution_count": 11
        }
      ]
    },
    {
      "cell_type": "code",
      "source": [
        "freq_palavra = nltk.FreqDist(nltk.word_tokenize(texto_formatado))\n",
        "freq_palavra"
      ],
      "metadata": {
        "colab": {
          "base_uri": "https://localhost:8080/"
        },
        "id": "WfxHdz2J38uq",
        "outputId": "b254b53c-4b84-455d-d42f-5d1494362eb5"
      },
      "execution_count": null,
      "outputs": [
        {
          "output_type": "execute_result",
          "data": {
            "text/plain": [
              "FreqDist({'educação': 4, 'acesso': 4, 'desenvolvimento': 2, 'essenciais': 2, 'qualidade': 2, 'pilares': 1, 'fundamentais': 1, 'sociedade': 1, 'meio': 1, 'pessoas': 1, ...})"
            ]
          },
          "metadata": {},
          "execution_count": 12
        }
      ]
    },
    {
      "cell_type": "code",
      "source": [
        "freq_palavra['acesso'] #Analisa frequencia de uma palavra individualmente"
      ],
      "metadata": {
        "colab": {
          "base_uri": "https://localhost:8080/"
        },
        "id": "5Q8mI2zh4HBr",
        "outputId": "ff0ce60f-62c2-4991-89f2-1d1209a31948"
      },
      "execution_count": null,
      "outputs": [
        {
          "output_type": "execute_result",
          "data": {
            "text/plain": [
              "4"
            ]
          },
          "metadata": {},
          "execution_count": 13
        }
      ]
    },
    {
      "cell_type": "code",
      "source": [
        "freq_palavra.keys()"
      ],
      "metadata": {
        "colab": {
          "base_uri": "https://localhost:8080/"
        },
        "id": "AGqcBURr4O-y",
        "outputId": "26733b06-5ea7-4fd7-f3ad-83aa669513bc"
      },
      "execution_count": null,
      "outputs": [
        {
          "output_type": "execute_result",
          "data": {
            "text/plain": [
              "dict_keys(['educação', 'pilares', 'fundamentais', 'desenvolvimento', 'sociedade', 'meio', 'pessoas', 'adquirem', 'conhecimento', 'habilidades', 'valores', 'essenciais', 'participação', 'ativa', 'comunidade', 'mercado', 'trabalho', 'entanto', 'acesso', 'sempre', 'equitativo', 'muitas', 'partes', 'mundo', 'disparidades', 'significativas', 'qualidade', 'grupos', 'marginalizados', 'enfrentando', 'barreiras', 'adicionais', 'combater', 'desigualdade', 'políticas', 'públicas', 'voltadas', 'democratização', 'inclui', 'apenas', 'físico', 'escolas', 'ensino', 'oferecido', 'investimentos', 'infraestrutura', 'educacional', 'capacitação', 'professores', 'currículos', 'inclusivos', 'medidas', 'importantes', 'nesse', 'sentido'])"
            ]
          },
          "metadata": {},
          "execution_count": 14
        }
      ]
    },
    {
      "cell_type": "code",
      "source": [
        "freq_maxima = max(freq_palavra.values())"
      ],
      "metadata": {
        "id": "ksbwriZq4Xlm"
      },
      "execution_count": null,
      "outputs": []
    },
    {
      "cell_type": "code",
      "source": [
        "freq_maxima"
      ],
      "metadata": {
        "colab": {
          "base_uri": "https://localhost:8080/"
        },
        "id": "paexWZA14cfy",
        "outputId": "24ce8496-d6a7-449a-c129-ff8ae05b66d7"
      },
      "execution_count": null,
      "outputs": [
        {
          "output_type": "execute_result",
          "data": {
            "text/plain": [
              "4"
            ]
          },
          "metadata": {},
          "execution_count": 16
        }
      ]
    },
    {
      "cell_type": "code",
      "source": [
        "for palavra in freq_palavra.keys():\n",
        "  freq_palavra[palavra] = (freq_palavra[palavra] / freq_maxima)"
      ],
      "metadata": {
        "id": "zsmK8zII4f_o"
      },
      "execution_count": null,
      "outputs": []
    },
    {
      "cell_type": "code",
      "source": [
        "freq_palavra"
      ],
      "metadata": {
        "colab": {
          "base_uri": "https://localhost:8080/"
        },
        "id": "9y5aiL4U4wi5",
        "outputId": "70712eae-6d24-4412-8fa9-191d0cb2aa3d"
      },
      "execution_count": null,
      "outputs": [
        {
          "output_type": "execute_result",
          "data": {
            "text/plain": [
              "FreqDist({'educação': 1.0, 'acesso': 1.0, 'desenvolvimento': 0.5, 'essenciais': 0.5, 'qualidade': 0.5, 'pilares': 0.25, 'fundamentais': 0.25, 'sociedade': 0.25, 'meio': 0.25, 'pessoas': 0.25, ...})"
            ]
          },
          "metadata": {},
          "execution_count": 18
        }
      ]
    },
    {
      "cell_type": "code",
      "source": [
        "lista = nltk.sent_tokenize(texto)\n",
        "lista"
      ],
      "metadata": {
        "colab": {
          "base_uri": "https://localhost:8080/"
        },
        "id": "9jC_1NeP4xnv",
        "outputId": "243a4bed-6c43-43b2-cdaf-1f0853a13899"
      },
      "execution_count": null,
      "outputs": [
        {
          "output_type": "execute_result",
          "data": {
            "text/plain": [
              "['A educação é um dos pilares fundamentais para o desenvolvimento de uma sociedade.',\n",
              " 'Por meio dela, as pessoas adquirem conhecimento, habilidades e valores que são essenciais para sua participação ativa na comunidade e no mercado de trabalho.',\n",
              " 'No entanto, o acesso à educação nem sempre é equitativo.',\n",
              " 'Em muitas partes do mundo, há disparidades significativas no acesso à educação de qualidade, com grupos marginalizados enfrentando barreiras adicionais.',\n",
              " 'Para combater essa desigualdade, políticas públicas voltadas para democratização do acesso à educação são essenciais.',\n",
              " 'Isso inclui não apenas o acesso físico às escolas, mas também a qualidade do ensino oferecido.',\n",
              " 'investimentos em infraestrutura educacional, capacitação de professores e desenvolvimento de currículos inclusivos são medidas importantes nesse sentido.']"
            ]
          },
          "metadata": {},
          "execution_count": 19
        }
      ]
    },
    {
      "cell_type": "code",
      "source": [
        "#Gerando Resumo\n",
        "\n",
        "nota_sentenca = {}\n",
        "for sentenca in lista:\n",
        "  for palavra in nltk.word_tokenize(sentenca.lower()): #Acessa cada palavra e passa tudo para minusculo\n",
        "\n",
        "    if palavra in freq_palavra.keys():\n",
        "      if sentenca not in nota_sentenca.keys():\n",
        "        nota_sentenca[sentenca] = freq_palavra[palavra]\n",
        "      else:\n",
        "        nota_sentenca[sentenca] += freq_palavra[palavra]\n"
      ],
      "metadata": {
        "id": "cNKyOF5544nL"
      },
      "execution_count": null,
      "outputs": []
    },
    {
      "cell_type": "code",
      "source": [
        "nota_sentenca"
      ],
      "metadata": {
        "colab": {
          "base_uri": "https://localhost:8080/"
        },
        "id": "Jza_7AFs5rao",
        "outputId": "a9666cca-adc1-49c2-e214-0a7a82fe4dcb"
      },
      "execution_count": null,
      "outputs": [
        {
          "output_type": "execute_result",
          "data": {
            "text/plain": [
              "{'A educação é um dos pilares fundamentais para o desenvolvimento de uma sociedade.': 2.25,\n",
              " 'Por meio dela, as pessoas adquirem conhecimento, habilidades e valores que são essenciais para sua participação ativa na comunidade e no mercado de trabalho.': 3.25,\n",
              " 'No entanto, o acesso à educação nem sempre é equitativo.': 2.75,\n",
              " 'Em muitas partes do mundo, há disparidades significativas no acesso à educação de qualidade, com grupos marginalizados enfrentando barreiras adicionais.': 5.0,\n",
              " 'Para combater essa desigualdade, políticas públicas voltadas para democratização do acesso à educação são essenciais.': 4.0,\n",
              " 'Isso inclui não apenas o acesso físico às escolas, mas também a qualidade do ensino oferecido.': 3.0,\n",
              " 'investimentos em infraestrutura educacional, capacitação de professores e desenvolvimento de currículos inclusivos são medidas importantes nesse sentido.': 3.25}"
            ]
          },
          "metadata": {},
          "execution_count": 21
        }
      ]
    },
    {
      "cell_type": "code",
      "source": [
        "import heapq\n",
        "melhores_sent = heapq.nlargest(3, nota_sentenca, key=nota_sentenca.get) #Ordenação da pelos maiores valores"
      ],
      "metadata": {
        "id": "CErruG7x5tkZ"
      },
      "execution_count": null,
      "outputs": []
    },
    {
      "cell_type": "code",
      "source": [
        "melhores_sent"
      ],
      "metadata": {
        "colab": {
          "base_uri": "https://localhost:8080/"
        },
        "id": "SQqgtfOg6AR2",
        "outputId": "9be11eae-8c0a-45dc-9ba6-45b31695c8b8"
      },
      "execution_count": null,
      "outputs": [
        {
          "output_type": "execute_result",
          "data": {
            "text/plain": [
              "['Em muitas partes do mundo, há disparidades significativas no acesso à educação de qualidade, com grupos marginalizados enfrentando barreiras adicionais.',\n",
              " 'Para combater essa desigualdade, políticas públicas voltadas para democratização do acesso à educação são essenciais.',\n",
              " 'Por meio dela, as pessoas adquirem conhecimento, habilidades e valores que são essenciais para sua participação ativa na comunidade e no mercado de trabalho.']"
            ]
          },
          "metadata": {},
          "execution_count": 23
        }
      ]
    },
    {
      "cell_type": "code",
      "source": [
        "resumo = ' '.join(melhores_sent)\n",
        "resumo"
      ],
      "metadata": {
        "colab": {
          "base_uri": "https://localhost:8080/",
          "height": 70
        },
        "id": "z4pzq1TL6BJW",
        "outputId": "e053a2c0-3c6d-435b-b69b-d1410d4c2974"
      },
      "execution_count": null,
      "outputs": [
        {
          "output_type": "execute_result",
          "data": {
            "text/plain": [
              "'Em muitas partes do mundo, há disparidades significativas no acesso à educação de qualidade, com grupos marginalizados enfrentando barreiras adicionais. Para combater essa desigualdade, políticas públicas voltadas para democratização do acesso à educação são essenciais. Por meio dela, as pessoas adquirem conhecimento, habilidades e valores que são essenciais para sua participação ativa na comunidade e no mercado de trabalho.'"
            ],
            "application/vnd.google.colaboratory.intrinsic+json": {
              "type": "string"
            }
          },
          "metadata": {},
          "execution_count": 24
        }
      ]
    },
    {
      "cell_type": "code",
      "source": [
        "texto"
      ],
      "metadata": {
        "colab": {
          "base_uri": "https://localhost:8080/",
          "height": 105
        },
        "id": "JPKtprpB6GCQ",
        "outputId": "a68f1201-a602-4177-de44-794309b341f6"
      },
      "execution_count": null,
      "outputs": [
        {
          "output_type": "execute_result",
          "data": {
            "text/plain": [
              "'A educação é um dos pilares fundamentais para o desenvolvimento de uma sociedade. Por meio dela, as pessoas adquirem conhecimento, habilidades e valores que são essenciais para sua participação ativa na comunidade e no mercado de trabalho. No entanto, o acesso à educação nem sempre é equitativo. Em muitas partes do mundo, há disparidades significativas no acesso à educação de qualidade, com grupos marginalizados enfrentando barreiras adicionais. Para combater essa desigualdade, políticas públicas voltadas para democratização do acesso à educação são essenciais. Isso inclui não apenas o acesso físico às escolas, mas também a qualidade do ensino oferecido. investimentos em infraestrutura educacional, capacitação de professores e desenvolvimento de currículos inclusivos são medidas importantes nesse sentido.'"
            ],
            "application/vnd.google.colaboratory.intrinsic+json": {
              "type": "string"
            }
          },
          "metadata": {},
          "execution_count": 25
        }
      ]
    },
    {
      "cell_type": "code",
      "source": [
        "#Visualização Resumo em HTML\n",
        "\n",
        "from IPython.core.display import HTML\n",
        "texto = ''\n",
        "\n",
        "display(HTML(f'<h1>Resumo do texto</h1>'))\n",
        "for sentenca in lista:\n",
        "  if sentenca in melhores_sent:\n",
        "    texto += str(sentenca).replace(sentenca, f\"<mark>{sentenca}</mark>\")\n",
        "  else:\n",
        "    texto += sentenca\n",
        "display(HTML(f\"\"\"{texto}\"\"\"))"
      ],
      "metadata": {
        "colab": {
          "base_uri": "https://localhost:8080/",
          "height": 144
        },
        "id": "8e1NOLze6MNS",
        "outputId": "99366d5b-a027-46fd-b5ae-f01d1b5d451e"
      },
      "execution_count": null,
      "outputs": [
        {
          "output_type": "display_data",
          "data": {
            "text/plain": [
              "<IPython.core.display.HTML object>"
            ],
            "text/html": [
              "<h1>Resumo do texto</h1>"
            ]
          },
          "metadata": {}
        },
        {
          "output_type": "display_data",
          "data": {
            "text/plain": [
              "<IPython.core.display.HTML object>"
            ],
            "text/html": [
              "A educação é um dos pilares fundamentais para o desenvolvimento de uma sociedade.<mark>Por meio dela, as pessoas adquirem conhecimento, habilidades e valores que são essenciais para sua participação ativa na comunidade e no mercado de trabalho.</mark>No entanto, o acesso à educação nem sempre é equitativo.<mark>Em muitas partes do mundo, há disparidades significativas no acesso à educação de qualidade, com grupos marginalizados enfrentando barreiras adicionais.</mark><mark>Para combater essa desigualdade, políticas públicas voltadas para democratização do acesso à educação são essenciais.</mark>Isso inclui não apenas o acesso físico às escolas, mas também a qualidade do ensino oferecido.investimentos em infraestrutura educacional, capacitação de professores e desenvolvimento de currículos inclusivos são medidas importantes nesse sentido."
            ]
          },
          "metadata": {}
        }
      ]
    }
  ]
}