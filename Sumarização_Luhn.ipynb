{
  "nbformat": 4,
  "nbformat_minor": 0,
  "metadata": {
    "colab": {
      "provenance": [],
      "authorship_tag": "ABX9TyPn92j0G0jEoo5LuhNlfQ7a",
      "include_colab_link": true
    },
    "kernelspec": {
      "name": "python3",
      "display_name": "Python 3"
    },
    "language_info": {
      "name": "python"
    },
    "widgets": {
      "application/vnd.jupyter.widget-state+json": {
        "86b1053566044fae9cefe25b1dd21ddd": {
          "model_module": "@jupyter-widgets/controls",
          "model_name": "HTMLModel",
          "model_module_version": "1.5.0",
          "state": {
            "_dom_classes": [],
            "_model_module": "@jupyter-widgets/controls",
            "_model_module_version": "1.5.0",
            "_model_name": "HTMLModel",
            "_view_count": null,
            "_view_module": "@jupyter-widgets/controls",
            "_view_module_version": "1.5.0",
            "_view_name": "HTMLView",
            "description": "",
            "description_tooltip": null,
            "layout": "IPY_MODEL_ed391debd1be4eb892bd2a40465a41b8",
            "placeholder": "​",
            "style": "IPY_MODEL_f2c2806f0bcc446b8bf40ddfbc3a8a6e",
            "value": "<h1> Resumo de texto - teste</h1>"
          }
        },
        "ed391debd1be4eb892bd2a40465a41b8": {
          "model_module": "@jupyter-widgets/base",
          "model_name": "LayoutModel",
          "model_module_version": "1.2.0",
          "state": {
            "_model_module": "@jupyter-widgets/base",
            "_model_module_version": "1.2.0",
            "_model_name": "LayoutModel",
            "_view_count": null,
            "_view_module": "@jupyter-widgets/base",
            "_view_module_version": "1.2.0",
            "_view_name": "LayoutView",
            "align_content": null,
            "align_items": null,
            "align_self": null,
            "border": null,
            "bottom": null,
            "display": null,
            "flex": null,
            "flex_flow": null,
            "grid_area": null,
            "grid_auto_columns": null,
            "grid_auto_flow": null,
            "grid_auto_rows": null,
            "grid_column": null,
            "grid_gap": null,
            "grid_row": null,
            "grid_template_areas": null,
            "grid_template_columns": null,
            "grid_template_rows": null,
            "height": null,
            "justify_content": null,
            "justify_items": null,
            "left": null,
            "margin": null,
            "max_height": null,
            "max_width": null,
            "min_height": null,
            "min_width": null,
            "object_fit": null,
            "object_position": null,
            "order": null,
            "overflow": null,
            "overflow_x": null,
            "overflow_y": null,
            "padding": null,
            "right": null,
            "top": null,
            "visibility": null,
            "width": null
          }
        },
        "f2c2806f0bcc446b8bf40ddfbc3a8a6e": {
          "model_module": "@jupyter-widgets/controls",
          "model_name": "DescriptionStyleModel",
          "model_module_version": "1.5.0",
          "state": {
            "_model_module": "@jupyter-widgets/controls",
            "_model_module_version": "1.5.0",
            "_model_name": "DescriptionStyleModel",
            "_view_count": null,
            "_view_module": "@jupyter-widgets/base",
            "_view_module_version": "1.2.0",
            "_view_name": "StyleView",
            "description_width": ""
          }
        },
        "a493d454b19c4d3082ef4831f05bd682": {
          "model_module": "@jupyter-widgets/controls",
          "model_name": "HTMLModel",
          "model_module_version": "1.5.0",
          "state": {
            "_dom_classes": [],
            "_model_module": "@jupyter-widgets/controls",
            "_model_module_version": "1.5.0",
            "_model_name": "HTMLModel",
            "_view_count": null,
            "_view_module": "@jupyter-widgets/controls",
            "_view_module_version": "1.5.0",
            "_view_name": "HTMLView",
            "description": "",
            "description_tooltip": null,
            "layout": "IPY_MODEL_23e9609d21c04bdc97237f9457f662aa",
            "placeholder": "​",
            "style": "IPY_MODEL_1c3c493bcb0748b6b10365c81a799b56",
            "value": " <mark>A educação é um dos pilares fundamentais para o desenvolvimento de uma sociedade.</mark><mark>Por meio dela, as pessoas adquirem conhecimento, habilidades e valores que são essenciais para sua participação ativa na comunidade e no mercado de trabalho.</mark>No entanto, o acesso à educação nem sempre é equitativo.Em muitas partes do mundo, há disparidades significativas no acesso à educação de qualidade, com grupos marginalizados enfrentando barreiras adicionais.Para combater essa desigualdade, políticas públicas voltadas para democratização do acesso à educação são essenciais.Isso inclui não apenas o acesso físico às escolas, mas também a qualidade do ensino oferecido.investimentos em infraestrutura educacional, capacitação de professores e desenvolvimento de currículos inclusivos são medidas importantes nesse sentido. "
          }
        },
        "23e9609d21c04bdc97237f9457f662aa": {
          "model_module": "@jupyter-widgets/base",
          "model_name": "LayoutModel",
          "model_module_version": "1.2.0",
          "state": {
            "_model_module": "@jupyter-widgets/base",
            "_model_module_version": "1.2.0",
            "_model_name": "LayoutModel",
            "_view_count": null,
            "_view_module": "@jupyter-widgets/base",
            "_view_module_version": "1.2.0",
            "_view_name": "LayoutView",
            "align_content": null,
            "align_items": null,
            "align_self": null,
            "border": null,
            "bottom": null,
            "display": null,
            "flex": null,
            "flex_flow": null,
            "grid_area": null,
            "grid_auto_columns": null,
            "grid_auto_flow": null,
            "grid_auto_rows": null,
            "grid_column": null,
            "grid_gap": null,
            "grid_row": null,
            "grid_template_areas": null,
            "grid_template_columns": null,
            "grid_template_rows": null,
            "height": null,
            "justify_content": null,
            "justify_items": null,
            "left": null,
            "margin": null,
            "max_height": null,
            "max_width": null,
            "min_height": null,
            "min_width": null,
            "object_fit": null,
            "object_position": null,
            "order": null,
            "overflow": null,
            "overflow_x": null,
            "overflow_y": null,
            "padding": null,
            "right": null,
            "top": null,
            "visibility": null,
            "width": null
          }
        },
        "1c3c493bcb0748b6b10365c81a799b56": {
          "model_module": "@jupyter-widgets/controls",
          "model_name": "DescriptionStyleModel",
          "model_module_version": "1.5.0",
          "state": {
            "_model_module": "@jupyter-widgets/controls",
            "_model_module_version": "1.5.0",
            "_model_name": "DescriptionStyleModel",
            "_view_count": null,
            "_view_module": "@jupyter-widgets/base",
            "_view_module_version": "1.2.0",
            "_view_name": "StyleView",
            "description_width": ""
          }
        }
      }
    }
  },
  "cells": [
    {
      "cell_type": "markdown",
      "metadata": {
        "id": "view-in-github",
        "colab_type": "text"
      },
      "source": [
        "<a href=\"https://colab.research.google.com/github/IsadoraPrevitalle/ProcessamentoLinguagemNatural/blob/main/Sumariza%C3%A7%C3%A3o_Luhn.ipynb\" target=\"_parent\"><img src=\"https://colab.research.google.com/assets/colab-badge.svg\" alt=\"Open In Colab\"/></a>"
      ]
    },
    {
      "cell_type": "code",
      "execution_count": null,
      "metadata": {
        "id": "7Q_yjPZv0Lgb"
      },
      "outputs": [],
      "source": [
        "import re\n",
        "import nltk\n",
        "import string\n",
        "import heapq #Mede as extensões das strings"
      ]
    },
    {
      "cell_type": "code",
      "source": [
        "nltk.download('punkt') #pontuações"
      ],
      "metadata": {
        "colab": {
          "base_uri": "https://localhost:8080/"
        },
        "id": "aFSFl3Fd9ny4",
        "outputId": "a579b399-c8e0-4cd3-c27c-f1f25d9d370c"
      },
      "execution_count": null,
      "outputs": [
        {
          "output_type": "stream",
          "name": "stderr",
          "text": [
            "[nltk_data] Downloading package punkt to /root/nltk_data...\n",
            "[nltk_data]   Package punkt is already up-to-date!\n"
          ]
        },
        {
          "output_type": "execute_result",
          "data": {
            "text/plain": [
              "True"
            ]
          },
          "metadata": {},
          "execution_count": 79
        }
      ]
    },
    {
      "cell_type": "code",
      "source": [
        "nltk.download('stopwords')"
      ],
      "metadata": {
        "colab": {
          "base_uri": "https://localhost:8080/"
        },
        "id": "OfB4QR519xWm",
        "outputId": "e4f112cc-ffd4-47b2-a9d2-21730a4a58dc"
      },
      "execution_count": null,
      "outputs": [
        {
          "output_type": "stream",
          "name": "stderr",
          "text": [
            "[nltk_data] Downloading package stopwords to /root/nltk_data...\n",
            "[nltk_data]   Package stopwords is already up-to-date!\n"
          ]
        },
        {
          "output_type": "execute_result",
          "data": {
            "text/plain": [
              "True"
            ]
          },
          "metadata": {},
          "execution_count": 80
        }
      ]
    },
    {
      "cell_type": "code",
      "source": [
        "texto = '''A educação é um dos pilares fundamentais para o desenvolvimento de uma sociedade.\n",
        "Por meio dela, as pessoas adquirem conhecimento, habilidades e valores que são essenciais para sua participação ativa na comunidade e no mercado de trabalho.\n",
        "No entanto, o acesso à educação nem sempre é equitativo.\n",
        "Em muitas partes do mundo, há disparidades significativas no acesso à educação de qualidade, com grupos marginalizados enfrentando barreiras adicionais.\n",
        "Para combater essa desigualdade, políticas públicas voltadas para democratização do acesso à educação são essenciais.\n",
        "Isso inclui não apenas o acesso físico às escolas, mas também a qualidade do ensino oferecido.\n",
        "investimentos em infraestrutura educacional, capacitação de professores e desenvolvimento de currículos inclusivos são medidas importantes nesse sentido.'''"
      ],
      "metadata": {
        "id": "UC2fwQee0hy9"
      },
      "execution_count": null,
      "outputs": []
    },
    {
      "cell_type": "code",
      "source": [
        "texto"
      ],
      "metadata": {
        "colab": {
          "base_uri": "https://localhost:8080/",
          "height": 105
        },
        "id": "OozkZJ421WTP",
        "outputId": "648fb694-69cd-4fdf-e056-3a18d43710a5"
      },
      "execution_count": null,
      "outputs": [
        {
          "output_type": "execute_result",
          "data": {
            "text/plain": [
              "'A educação é um dos pilares fundamentais para o desenvolvimento de uma sociedade.\\nPor meio dela, as pessoas adquirem conhecimento, habilidades e valores que são essenciais para sua participação ativa na comunidade e no mercado de trabalho.\\nNo entanto, o acesso à educação nem sempre é equitativo.\\nEm muitas partes do mundo, há disparidades significativas no acesso à educação de qualidade, com grupos marginalizados enfrentando barreiras adicionais.\\nPara combater essa desigualdade, políticas públicas voltadas para democratização do acesso à educação são essenciais.\\nIsso inclui não apenas o acesso físico às escolas, mas também a qualidade do ensino oferecido.\\ninvestimentos em infraestrutura educacional, capacitação de professores e desenvolvimento de currículos inclusivos são medidas importantes nesse sentido.'"
            ],
            "application/vnd.google.colaboratory.intrinsic+json": {
              "type": "string"
            }
          },
          "metadata": {},
          "execution_count": 82
        }
      ]
    },
    {
      "cell_type": "code",
      "source": [
        "# Retiram espaços em branco\n",
        "texto = re.sub(r'\\s', ' ', texto)"
      ],
      "metadata": {
        "id": "e0PEBWfp1IHG"
      },
      "execution_count": null,
      "outputs": []
    },
    {
      "cell_type": "code",
      "source": [
        "texto"
      ],
      "metadata": {
        "colab": {
          "base_uri": "https://localhost:8080/",
          "height": 105
        },
        "id": "IGNLEmNu1sou",
        "outputId": "f813bdc6-2583-46d4-e373-6c309ffc74ba"
      },
      "execution_count": null,
      "outputs": [
        {
          "output_type": "execute_result",
          "data": {
            "text/plain": [
              "'A educação é um dos pilares fundamentais para o desenvolvimento de uma sociedade. Por meio dela, as pessoas adquirem conhecimento, habilidades e valores que são essenciais para sua participação ativa na comunidade e no mercado de trabalho. No entanto, o acesso à educação nem sempre é equitativo. Em muitas partes do mundo, há disparidades significativas no acesso à educação de qualidade, com grupos marginalizados enfrentando barreiras adicionais. Para combater essa desigualdade, políticas públicas voltadas para democratização do acesso à educação são essenciais. Isso inclui não apenas o acesso físico às escolas, mas também a qualidade do ensino oferecido. investimentos em infraestrutura educacional, capacitação de professores e desenvolvimento de currículos inclusivos são medidas importantes nesse sentido.'"
            ],
            "application/vnd.google.colaboratory.intrinsic+json": {
              "type": "string"
            }
          },
          "metadata": {},
          "execution_count": 84
        }
      ]
    },
    {
      "cell_type": "code",
      "source": [
        "stopwords = nltk.corpus.stopwords.words('portuguese')"
      ],
      "metadata": {
        "id": "8UYL1wL5-zvd"
      },
      "execution_count": null,
      "outputs": []
    },
    {
      "cell_type": "code",
      "source": [
        "def preprocessamento(texto):\n",
        "  texto_formatado = texto.lower() #Deixa texto em minusculo\n",
        "  tokens = []\n",
        "  for token in nltk.word_tokenize(texto_formatado): #Função quebra as palavras de um texto, cada palavra fuca em uma linha\n",
        "    tokens.append(token)\n",
        "\n",
        "  #Verifica cada palavra e a mantem caso a mesma não for stopword ou uma pontuação\n",
        "  tokens = [palavra for palavra in tokens if palavra not in stopwords and palavra not in string.punctuation]\n",
        "\n",
        "  #Concatena as palavras em forma de texto, com a adição de espaço em branco entre elas\n",
        "  texto_formatado = ' '.join([str(elemento) for elemento in tokens if not elemento.isdigit()]) #Verifica se é um numero (digito)\n",
        "\n",
        "  return texto_formatado"
      ],
      "metadata": {
        "id": "HmHx2QSa128p"
      },
      "execution_count": null,
      "outputs": []
    },
    {
      "cell_type": "code",
      "source": [
        "texto_formatado = preprocessamento(texto)\n",
        "texto_formatado"
      ],
      "metadata": {
        "colab": {
          "base_uri": "https://localhost:8080/",
          "height": 88
        },
        "id": "fV3LAYJ3DXEj",
        "outputId": "e92bf246-da63-4a11-e89d-d146c3767780"
      },
      "execution_count": null,
      "outputs": [
        {
          "output_type": "execute_result",
          "data": {
            "text/plain": [
              "'educação pilares fundamentais desenvolvimento sociedade meio pessoas adquirem conhecimento habilidades valores essenciais participação ativa comunidade mercado trabalho entanto acesso educação sempre equitativo muitas partes mundo disparidades significativas acesso educação qualidade grupos marginalizados enfrentando barreiras adicionais combater desigualdade políticas públicas voltadas democratização acesso educação essenciais inclui apenas acesso físico escolas qualidade ensino oferecido investimentos infraestrutura educacional capacitação professores desenvolvimento currículos inclusivos medidas importantes nesse sentido'"
            ],
            "application/vnd.google.colaboratory.intrinsic+json": {
              "type": "string"
            }
          },
          "metadata": {},
          "execution_count": 87
        }
      ]
    },
    {
      "cell_type": "code",
      "source": [
        "def calcula_notas_sentenca(sentencas, palavras_importantes, distancia):\n",
        "  notas = []\n",
        "  indices_sentencas = 0\n",
        "  for sentenca in [nltk.word_tokenize(sentenca.lower()) for sentenca in sentencas]:\n",
        "    indice_palavra = []\n",
        "    for palavra in palavras_importantes:\n",
        "      try:\n",
        "        indice_palavra.append(sentenca.index(palavra)) # index de cada palavra (posição)\n",
        "      except ValueError:\n",
        "        pass\n",
        "\n",
        "    indice_palavra.sort()\n",
        "\n",
        "    if len(indice_palavra) == 0:\n",
        "      continue\n",
        "\n",
        "    lista_grupos = []\n",
        "    grupo = [indice_palavra[0]]\n",
        "    i = 1\n",
        "    while i < len(indice_palavra):\n",
        "      if indice_palavra[i] - indice_palavra[i - 1] < distancia:\n",
        "        grupo.append(indice_palavra[i])\n",
        "      else:\n",
        "        lista_grupos.append(grupo[:])\n",
        "        grupo = [indice_palavra[i]]\n",
        "      i += 1\n",
        "    lista_grupos.append(grupo)\n",
        "    nota_max_grupo = 0\n",
        "    for g in lista_grupos:\n",
        "      palavras_importantes_no_grupo = len(g)\n",
        "      total_palavra_no_grupo = g[-1] - g[0] + 1\n",
        "      nota = 1.0 * palavras_importantes_no_grupo**2 / total_palavra_no_grupo\n",
        "      if nota > nota_max_grupo:\n",
        "        nota_max_grupo = nota\n",
        "\n",
        "      notas.append((nota_max_grupo, indices_sentencas))\n",
        "      indices_sentencas += 1\n",
        "\n",
        "    return notas"
      ],
      "metadata": {
        "id": "DoG4no55AIBs"
      },
      "execution_count": null,
      "outputs": []
    },
    {
      "cell_type": "code",
      "source": [
        "def sumarizar(texto, top_n_palavras, distancia, qtd_sentencas):\n",
        "  sentencas_originais = [sentenca for sentenca in nltk.sent_tokenize(texto)]\n",
        "  sentencas_formatadas = [preprocessamento(sentenca_original) for sentenca_original in sentencas_originais]\n",
        "  palavras = [palavra for sentenca in sentencas_formatadas for palavra in nltk.word_tokenize(sentenca)]\n",
        "  frequencia = nltk.FreqDist(palavras)\n",
        "  top_n_palavras = [palavra[0] for palavra in frequencia.most_common(top_n_palavras)]\n",
        "  notas_sentencas = calcula_notas_sentenca(sentencas_formatadas, top_n_palavras, distancia)\n",
        "  melhores_sentencas = heapq.nlargest(qtd_sentencas, notas_sentencas)\n",
        "  melhores_sentencas = [sentencas_originais[i] for (nota, i) in melhores_sentencas]\n",
        "\n",
        "  return sentencas_originais, melhores_sentencas, notas_sentencas"
      ],
      "metadata": {
        "id": "2utLGzN8DES0"
      },
      "execution_count": null,
      "outputs": []
    },
    {
      "cell_type": "code",
      "source": [
        "sentencas_originais, melhores_sentencas, notas_sentencas = sumarizar(texto, 5, 3, 3)"
      ],
      "metadata": {
        "id": "czUz7oYLMNZ4"
      },
      "execution_count": null,
      "outputs": []
    },
    {
      "cell_type": "code",
      "source": [
        "sentencas_originais"
      ],
      "metadata": {
        "colab": {
          "base_uri": "https://localhost:8080/"
        },
        "id": "G6VwPW07Ounm",
        "outputId": "44e7e42c-d6b6-447d-b7a1-630b4a89a6d5"
      },
      "execution_count": null,
      "outputs": [
        {
          "output_type": "execute_result",
          "data": {
            "text/plain": [
              "['A educação é um dos pilares fundamentais para o desenvolvimento de uma sociedade.',\n",
              " 'Por meio dela, as pessoas adquirem conhecimento, habilidades e valores que são essenciais para sua participação ativa na comunidade e no mercado de trabalho.',\n",
              " 'No entanto, o acesso à educação nem sempre é equitativo.',\n",
              " 'Em muitas partes do mundo, há disparidades significativas no acesso à educação de qualidade, com grupos marginalizados enfrentando barreiras adicionais.',\n",
              " 'Para combater essa desigualdade, políticas públicas voltadas para democratização do acesso à educação são essenciais.',\n",
              " 'Isso inclui não apenas o acesso físico às escolas, mas também a qualidade do ensino oferecido.',\n",
              " 'investimentos em infraestrutura educacional, capacitação de professores e desenvolvimento de currículos inclusivos são medidas importantes nesse sentido.']"
            ]
          },
          "metadata": {},
          "execution_count": 92
        }
      ]
    },
    {
      "cell_type": "code",
      "source": [
        "melhores_sentencas"
      ],
      "metadata": {
        "id": "dvlCNqLcOv8P"
      },
      "execution_count": null,
      "outputs": []
    },
    {
      "cell_type": "code",
      "source": [
        "notas_sentencas"
      ],
      "metadata": {
        "id": "rIw4fq7OOxMJ"
      },
      "execution_count": null,
      "outputs": []
    },
    {
      "cell_type": "code",
      "source": [
        "from ipywidgets import HTML"
      ],
      "metadata": {
        "id": "0qW9WmrYeD2f"
      },
      "execution_count": null,
      "outputs": []
    },
    {
      "cell_type": "code",
      "source": [
        "from ipywidgets import HTML\n",
        "def visualiza_resumo (titulo, lista_sentencas, melhores_sentencas):\n",
        "  from IPython.core.display import display_html\n",
        "  texto = ''\n",
        "\n",
        "  display(HTML(f'<h1> Resumo de texto - {titulo}</h1>'))\n",
        "  for i in lista_sentencas:\n",
        "    if i in melhores_sentencas:\n",
        "      texto += str(i).replace(i, f\"<mark>{i}</mark>\")\n",
        "    else:\n",
        "      texto += i\n",
        "  display(HTML(f\"\"\" {texto} \"\"\"))"
      ],
      "metadata": {
        "id": "V8sEKMUneK_G"
      },
      "execution_count": null,
      "outputs": []
    },
    {
      "cell_type": "code",
      "source": [
        "visualiza_resumo('teste', sentencas_originais, melhores_sentencas)"
      ],
      "metadata": {
        "colab": {
          "base_uri": "https://localhost:8080/",
          "height": 184,
          "referenced_widgets": [
            "86b1053566044fae9cefe25b1dd21ddd",
            "ed391debd1be4eb892bd2a40465a41b8",
            "f2c2806f0bcc446b8bf40ddfbc3a8a6e",
            "a493d454b19c4d3082ef4831f05bd682",
            "23e9609d21c04bdc97237f9457f662aa",
            "1c3c493bcb0748b6b10365c81a799b56"
          ]
        },
        "id": "4pZc264we53b",
        "outputId": "ee2f3eba-485a-42ee-c5fb-7a9779aac392"
      },
      "execution_count": null,
      "outputs": [
        {
          "output_type": "display_data",
          "data": {
            "text/plain": [
              "HTML(value='<h1> Resumo de texto - teste</h1>')"
            ],
            "application/vnd.jupyter.widget-view+json": {
              "version_major": 2,
              "version_minor": 0,
              "model_id": "86b1053566044fae9cefe25b1dd21ddd"
            }
          },
          "metadata": {}
        },
        {
          "output_type": "display_data",
          "data": {
            "text/plain": [
              "HTML(value=' <mark>A educação é um dos pilares fundamentais para o desenvolvimento de uma sociedade.</mark><ma…"
            ],
            "application/vnd.jupyter.widget-view+json": {
              "version_major": 2,
              "version_minor": 0,
              "model_id": "a493d454b19c4d3082ef4831f05bd682"
            }
          },
          "metadata": {}
        }
      ]
    },
    {
      "cell_type": "code",
      "source": [
        "!pip install goose3\n",
        "from goose3 import Goose"
      ],
      "metadata": {
        "id": "OBP-zaEb61U2"
      },
      "execution_count": null,
      "outputs": []
    },
    {
      "cell_type": "code",
      "source": [
        "g = Goose()\n",
        "url = 'https://www1.folha.uol.com.br/poder/2024/03/moraes-da-48-horas-para-bolsonaro-explicar-hospedagem-em-embaixada-diz-defesa.shtml'\n",
        "artigo = g.extract(url)"
      ],
      "metadata": {
        "id": "zKWRSQzp6-kf"
      },
      "execution_count": null,
      "outputs": []
    },
    {
      "cell_type": "code",
      "source": [
        "artigo = artigo.cleaned_text\n",
        "artigo"
      ],
      "metadata": {
        "id": "LTZMoeCS7GVP"
      },
      "execution_count": null,
      "outputs": []
    },
    {
      "cell_type": "code",
      "source": [
        "sentecas_originais_01, melhores_sentencas_01, nota_sentencas_01 = sumarizar(artigo, 5, 3, 3)"
      ],
      "metadata": {
        "id": "BoMn8hJw7L9x"
      },
      "execution_count": null,
      "outputs": []
    },
    {
      "cell_type": "code",
      "source": [
        "sentecas_originais_01"
      ],
      "metadata": {
        "id": "HIvIZIvx7U3M"
      },
      "execution_count": null,
      "outputs": []
    },
    {
      "cell_type": "code",
      "source": [
        "melhores_sentencas_01"
      ],
      "metadata": {
        "id": "3Di6oxGn7W68"
      },
      "execution_count": null,
      "outputs": []
    },
    {
      "cell_type": "code",
      "source": [
        "nota_sentencas_01"
      ],
      "metadata": {
        "id": "hHe5OcNz7YqQ"
      },
      "execution_count": null,
      "outputs": []
    },
    {
      "cell_type": "code",
      "source": [
        "visualiza_resumo(artigo.title, sentecas_originais_01, melhores_sentencas_01)"
      ],
      "metadata": {
        "id": "sS9FXiax7Z7g"
      },
      "execution_count": null,
      "outputs": []
    }
  ]
}